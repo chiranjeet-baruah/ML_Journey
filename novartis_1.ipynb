{
  "nbformat": 4,
  "nbformat_minor": 0,
  "metadata": {
    "colab": {
      "name": "novartis.ipynb",
      "provenance": [],
      "collapsed_sections": [],
      "authorship_tag": "ABX9TyN4rp0kp60U6c/t/fq6jV1/"
    },
    "kernelspec": {
      "name": "python3",
      "display_name": "Python 3"
    }
  },
  "cells": [
    {
      "cell_type": "code",
      "metadata": {
        "id": "fxoQr7VnM9OG",
        "colab_type": "code",
        "outputId": "6cf754fd-e101-4e5a-89b2-9d661ae58149",
        "colab": {
          "base_uri": "https://localhost:8080/",
          "height": 34
        }
      },
      "source": [
        "from google.colab import drive\n",
        "drive.mount('/content/dive/')"
      ],
      "execution_count": 1,
      "outputs": [
        {
          "output_type": "stream",
          "text": [
            "Drive already mounted at /content/dive/; to attempt to forcibly remount, call drive.mount(\"/content/dive/\", force_remount=True).\n"
          ],
          "name": "stdout"
        }
      ]
    },
    {
      "cell_type": "code",
      "metadata": {
        "id": "sPSrG1-DRMV8",
        "colab_type": "code",
        "outputId": "0039d4be-c920-44f9-e7f9-b187ddbe1a84",
        "colab": {
          "base_uri": "https://localhost:8080/",
          "height": 52
        }
      },
      "source": [
        "! ls '/content/dive/My Drive/AI Projects/Server_Hacked/Dataset'"
      ],
      "execution_count": 2,
      "outputs": [
        {
          "output_type": "stream",
          "text": [
            "sample_submission.csv\t  Test.csv   Train_dateSorted.csv\n",
            "sample_submission.gsheet  Train.csv  Train_dateSorted_featureExtracted.csv\n"
          ],
          "name": "stdout"
        }
      ]
    },
    {
      "cell_type": "code",
      "metadata": {
        "id": "qefHUHIi7fkY",
        "colab_type": "code",
        "colab": {}
      },
      "source": [
        "# ! pip uninstall pandas-profiling\n",
        "# ! pip install pandas-profiling[notebook]"
      ],
      "execution_count": 0,
      "outputs": []
    },
    {
      "cell_type": "code",
      "metadata": {
        "id": "0z102oaBRc-x",
        "colab_type": "code",
        "outputId": "9bfdab2d-742d-491f-d048-3dab1ad3e7dc",
        "colab": {
          "base_uri": "https://localhost:8080/",
          "height": 72
        }
      },
      "source": [
        "import pandas as pd\n",
        "import numpy as np\n",
        "import seaborn as sns\n",
        "import matplotlib.pyplot as plt\n",
        "from pandas_profiling import ProfileReport\n",
        "\n",
        "# settings\n",
        "import warnings\n",
        "warnings.filterwarnings(\"ignore\")"
      ],
      "execution_count": 4,
      "outputs": [
        {
          "output_type": "stream",
          "text": [
            "/usr/local/lib/python3.6/dist-packages/statsmodels/tools/_testing.py:19: FutureWarning: pandas.util.testing is deprecated. Use the functions in the public API at pandas.testing instead.\n",
            "  import pandas.util.testing as tm\n"
          ],
          "name": "stderr"
        }
      ]
    },
    {
      "cell_type": "code",
      "metadata": {
        "id": "xDFopSodfXEa",
        "colab_type": "code",
        "colab": {}
      },
      "source": [
        "def job_completion_alert():\n",
        "  from google.colab import output\n",
        "  import time\n",
        "\n",
        "  for i in range(3):\n",
        "    # Play an audio beep. Any audio URL will do.\n",
        "    output.eval_js('new Audio(\"https://upload.wikimedia.org/wikipedia/commons/0/05/Beep-09.ogg\").play()')\n",
        "    # Sleep for a few seconds.\n",
        "    time.sleep(2)"
      ],
      "execution_count": 0,
      "outputs": []
    },
    {
      "cell_type": "code",
      "metadata": {
        "id": "zkh32bmHS-Wc",
        "colab_type": "code",
        "outputId": "78cfd7e7-e845-4627-9899-84b23735b401",
        "colab": {
          "base_uri": "https://localhost:8080/",
          "height": 206
        }
      },
      "source": [
        "df_train = pd.read_csv('/content/dive/My Drive/AI Projects/Server_Hacked/Dataset/Train.csv')\n",
        "df_test = pd.read_csv('/content/dive/My Drive/AI Projects/Server_Hacked/Dataset/Test.csv')\n",
        "df_train.head()"
      ],
      "execution_count": 6,
      "outputs": [
        {
          "output_type": "execute_result",
          "data": {
            "text/html": [
              "<div>\n",
              "<style scoped>\n",
              "    .dataframe tbody tr th:only-of-type {\n",
              "        vertical-align: middle;\n",
              "    }\n",
              "\n",
              "    .dataframe tbody tr th {\n",
              "        vertical-align: top;\n",
              "    }\n",
              "\n",
              "    .dataframe thead th {\n",
              "        text-align: right;\n",
              "    }\n",
              "</style>\n",
              "<table border=\"1\" class=\"dataframe\">\n",
              "  <thead>\n",
              "    <tr style=\"text-align: right;\">\n",
              "      <th></th>\n",
              "      <th>INCIDENT_ID</th>\n",
              "      <th>DATE</th>\n",
              "      <th>X_1</th>\n",
              "      <th>X_2</th>\n",
              "      <th>X_3</th>\n",
              "      <th>X_4</th>\n",
              "      <th>X_5</th>\n",
              "      <th>X_6</th>\n",
              "      <th>X_7</th>\n",
              "      <th>X_8</th>\n",
              "      <th>X_9</th>\n",
              "      <th>X_10</th>\n",
              "      <th>X_11</th>\n",
              "      <th>X_12</th>\n",
              "      <th>X_13</th>\n",
              "      <th>X_14</th>\n",
              "      <th>X_15</th>\n",
              "      <th>MULTIPLE_OFFENSE</th>\n",
              "    </tr>\n",
              "  </thead>\n",
              "  <tbody>\n",
              "    <tr>\n",
              "      <th>0</th>\n",
              "      <td>CR_102659</td>\n",
              "      <td>04-JUL-04</td>\n",
              "      <td>0</td>\n",
              "      <td>36</td>\n",
              "      <td>34</td>\n",
              "      <td>2</td>\n",
              "      <td>1</td>\n",
              "      <td>5</td>\n",
              "      <td>6</td>\n",
              "      <td>1</td>\n",
              "      <td>6</td>\n",
              "      <td>1</td>\n",
              "      <td>174</td>\n",
              "      <td>1.0</td>\n",
              "      <td>92</td>\n",
              "      <td>29</td>\n",
              "      <td>36</td>\n",
              "      <td>0</td>\n",
              "    </tr>\n",
              "    <tr>\n",
              "      <th>1</th>\n",
              "      <td>CR_189752</td>\n",
              "      <td>18-JUL-17</td>\n",
              "      <td>1</td>\n",
              "      <td>37</td>\n",
              "      <td>37</td>\n",
              "      <td>0</td>\n",
              "      <td>0</td>\n",
              "      <td>11</td>\n",
              "      <td>17</td>\n",
              "      <td>1</td>\n",
              "      <td>6</td>\n",
              "      <td>1</td>\n",
              "      <td>236</td>\n",
              "      <td>1.0</td>\n",
              "      <td>103</td>\n",
              "      <td>142</td>\n",
              "      <td>34</td>\n",
              "      <td>1</td>\n",
              "    </tr>\n",
              "    <tr>\n",
              "      <th>2</th>\n",
              "      <td>CR_184637</td>\n",
              "      <td>15-MAR-17</td>\n",
              "      <td>0</td>\n",
              "      <td>3</td>\n",
              "      <td>2</td>\n",
              "      <td>3</td>\n",
              "      <td>5</td>\n",
              "      <td>1</td>\n",
              "      <td>0</td>\n",
              "      <td>2</td>\n",
              "      <td>3</td>\n",
              "      <td>1</td>\n",
              "      <td>174</td>\n",
              "      <td>1.0</td>\n",
              "      <td>110</td>\n",
              "      <td>93</td>\n",
              "      <td>34</td>\n",
              "      <td>1</td>\n",
              "    </tr>\n",
              "    <tr>\n",
              "      <th>3</th>\n",
              "      <td>CR_139071</td>\n",
              "      <td>13-FEB-09</td>\n",
              "      <td>0</td>\n",
              "      <td>33</td>\n",
              "      <td>32</td>\n",
              "      <td>2</td>\n",
              "      <td>1</td>\n",
              "      <td>7</td>\n",
              "      <td>1</td>\n",
              "      <td>1</td>\n",
              "      <td>6</td>\n",
              "      <td>1</td>\n",
              "      <td>249</td>\n",
              "      <td>1.0</td>\n",
              "      <td>72</td>\n",
              "      <td>29</td>\n",
              "      <td>34</td>\n",
              "      <td>1</td>\n",
              "    </tr>\n",
              "    <tr>\n",
              "      <th>4</th>\n",
              "      <td>CR_109335</td>\n",
              "      <td>13-APR-05</td>\n",
              "      <td>0</td>\n",
              "      <td>33</td>\n",
              "      <td>32</td>\n",
              "      <td>2</td>\n",
              "      <td>1</td>\n",
              "      <td>8</td>\n",
              "      <td>3</td>\n",
              "      <td>0</td>\n",
              "      <td>5</td>\n",
              "      <td>1</td>\n",
              "      <td>174</td>\n",
              "      <td>0.0</td>\n",
              "      <td>112</td>\n",
              "      <td>29</td>\n",
              "      <td>43</td>\n",
              "      <td>1</td>\n",
              "    </tr>\n",
              "  </tbody>\n",
              "</table>\n",
              "</div>"
            ],
            "text/plain": [
              "  INCIDENT_ID       DATE  X_1  X_2  ...  X_13  X_14  X_15  MULTIPLE_OFFENSE\n",
              "0   CR_102659  04-JUL-04    0   36  ...    92    29    36                 0\n",
              "1   CR_189752  18-JUL-17    1   37  ...   103   142    34                 1\n",
              "2   CR_184637  15-MAR-17    0    3  ...   110    93    34                 1\n",
              "3   CR_139071  13-FEB-09    0   33  ...    72    29    34                 1\n",
              "4   CR_109335  13-APR-05    0   33  ...   112    29    43                 1\n",
              "\n",
              "[5 rows x 18 columns]"
            ]
          },
          "metadata": {
            "tags": []
          },
          "execution_count": 6
        }
      ]
    },
    {
      "cell_type": "code",
      "metadata": {
        "id": "c0s_4MUyQz2r",
        "colab_type": "code",
        "outputId": "af63908d-5176-421c-cd07-a0646834e0d3",
        "colab": {
          "base_uri": "https://localhost:8080/",
          "height": 86
        }
      },
      "source": [
        "df_train.columns"
      ],
      "execution_count": 7,
      "outputs": [
        {
          "output_type": "execute_result",
          "data": {
            "text/plain": [
              "Index(['INCIDENT_ID', 'DATE', 'X_1', 'X_2', 'X_3', 'X_4', 'X_5', 'X_6', 'X_7',\n",
              "       'X_8', 'X_9', 'X_10', 'X_11', 'X_12', 'X_13', 'X_14', 'X_15',\n",
              "       'MULTIPLE_OFFENSE'],\n",
              "      dtype='object')"
            ]
          },
          "metadata": {
            "tags": []
          },
          "execution_count": 7
        }
      ]
    },
    {
      "cell_type": "code",
      "metadata": {
        "id": "YmZVvRqPRAoR",
        "colab_type": "code",
        "outputId": "fe4f5233-e5b4-400f-d998-156f2417e7f6",
        "colab": {
          "base_uri": "https://localhost:8080/",
          "height": 69
        }
      },
      "source": [
        "df_test.columns"
      ],
      "execution_count": 8,
      "outputs": [
        {
          "output_type": "execute_result",
          "data": {
            "text/plain": [
              "Index(['INCIDENT_ID', 'DATE', 'X_1', 'X_2', 'X_3', 'X_4', 'X_5', 'X_6', 'X_7',\n",
              "       'X_8', 'X_9', 'X_10', 'X_11', 'X_12', 'X_13', 'X_14', 'X_15'],\n",
              "      dtype='object')"
            ]
          },
          "metadata": {
            "tags": []
          },
          "execution_count": 8
        }
      ]
    },
    {
      "cell_type": "markdown",
      "metadata": {
        "id": "XDAAxSUIUlyl",
        "colab_type": "text"
      },
      "source": [
        "The dataset has a date column. Will sort the dataset according to date."
      ]
    },
    {
      "cell_type": "markdown",
      "metadata": {
        "id": "NnTu9YdrbtTt",
        "colab_type": "text"
      },
      "source": [
        "Converting the DATE column to a standard pandas date format. Then sort it according to date"
      ]
    },
    {
      "cell_type": "code",
      "metadata": {
        "id": "6_pDTpeuTNwT",
        "colab_type": "code",
        "colab": {}
      },
      "source": [
        "df_train['DATE'] = pd.to_datetime(df_train.DATE)\n",
        "df_test['DATE'] = pd.to_datetime(df_train.DATE)"
      ],
      "execution_count": 0,
      "outputs": []
    },
    {
      "cell_type": "code",
      "metadata": {
        "id": "eT19JCXxUX5h",
        "colab_type": "code",
        "outputId": "cc4657e6-59fa-472b-e6aa-15803d294fe8",
        "colab": {
          "base_uri": "https://localhost:8080/",
          "height": 206
        }
      },
      "source": [
        "df_train.sort_values(by=['DATE'], inplace=True)\n",
        "df_train.head()"
      ],
      "execution_count": 10,
      "outputs": [
        {
          "output_type": "execute_result",
          "data": {
            "text/html": [
              "<div>\n",
              "<style scoped>\n",
              "    .dataframe tbody tr th:only-of-type {\n",
              "        vertical-align: middle;\n",
              "    }\n",
              "\n",
              "    .dataframe tbody tr th {\n",
              "        vertical-align: top;\n",
              "    }\n",
              "\n",
              "    .dataframe thead th {\n",
              "        text-align: right;\n",
              "    }\n",
              "</style>\n",
              "<table border=\"1\" class=\"dataframe\">\n",
              "  <thead>\n",
              "    <tr style=\"text-align: right;\">\n",
              "      <th></th>\n",
              "      <th>INCIDENT_ID</th>\n",
              "      <th>DATE</th>\n",
              "      <th>X_1</th>\n",
              "      <th>X_2</th>\n",
              "      <th>X_3</th>\n",
              "      <th>X_4</th>\n",
              "      <th>X_5</th>\n",
              "      <th>X_6</th>\n",
              "      <th>X_7</th>\n",
              "      <th>X_8</th>\n",
              "      <th>X_9</th>\n",
              "      <th>X_10</th>\n",
              "      <th>X_11</th>\n",
              "      <th>X_12</th>\n",
              "      <th>X_13</th>\n",
              "      <th>X_14</th>\n",
              "      <th>X_15</th>\n",
              "      <th>MULTIPLE_OFFENSE</th>\n",
              "    </tr>\n",
              "  </thead>\n",
              "  <tbody>\n",
              "    <tr>\n",
              "      <th>19022</th>\n",
              "      <td>CR_1141</td>\n",
              "      <td>1991-01-01</td>\n",
              "      <td>0</td>\n",
              "      <td>22</td>\n",
              "      <td>22</td>\n",
              "      <td>7</td>\n",
              "      <td>3</td>\n",
              "      <td>8</td>\n",
              "      <td>3</td>\n",
              "      <td>7</td>\n",
              "      <td>2</td>\n",
              "      <td>2</td>\n",
              "      <td>0</td>\n",
              "      <td>2.0</td>\n",
              "      <td>72</td>\n",
              "      <td>142</td>\n",
              "      <td>34</td>\n",
              "      <td>1</td>\n",
              "    </tr>\n",
              "    <tr>\n",
              "      <th>13104</th>\n",
              "      <td>CR_2248</td>\n",
              "      <td>1991-01-02</td>\n",
              "      <td>0</td>\n",
              "      <td>33</td>\n",
              "      <td>32</td>\n",
              "      <td>2</td>\n",
              "      <td>1</td>\n",
              "      <td>7</td>\n",
              "      <td>1</td>\n",
              "      <td>1</td>\n",
              "      <td>6</td>\n",
              "      <td>1</td>\n",
              "      <td>249</td>\n",
              "      <td>1.0</td>\n",
              "      <td>72</td>\n",
              "      <td>142</td>\n",
              "      <td>34</td>\n",
              "      <td>1</td>\n",
              "    </tr>\n",
              "    <tr>\n",
              "      <th>1617</th>\n",
              "      <td>CR_3131</td>\n",
              "      <td>1991-01-03</td>\n",
              "      <td>1</td>\n",
              "      <td>36</td>\n",
              "      <td>34</td>\n",
              "      <td>2</td>\n",
              "      <td>1</td>\n",
              "      <td>15</td>\n",
              "      <td>10</td>\n",
              "      <td>0</td>\n",
              "      <td>5</td>\n",
              "      <td>1</td>\n",
              "      <td>174</td>\n",
              "      <td>0.0</td>\n",
              "      <td>92</td>\n",
              "      <td>93</td>\n",
              "      <td>0</td>\n",
              "      <td>1</td>\n",
              "    </tr>\n",
              "    <tr>\n",
              "      <th>6187</th>\n",
              "      <td>CR_3546</td>\n",
              "      <td>1991-01-04</td>\n",
              "      <td>0</td>\n",
              "      <td>39</td>\n",
              "      <td>39</td>\n",
              "      <td>6</td>\n",
              "      <td>5</td>\n",
              "      <td>8</td>\n",
              "      <td>3</td>\n",
              "      <td>1</td>\n",
              "      <td>6</td>\n",
              "      <td>1</td>\n",
              "      <td>0</td>\n",
              "      <td>1.0</td>\n",
              "      <td>72</td>\n",
              "      <td>62</td>\n",
              "      <td>34</td>\n",
              "      <td>1</td>\n",
              "    </tr>\n",
              "    <tr>\n",
              "      <th>1761</th>\n",
              "      <td>CR_821</td>\n",
              "      <td>1991-01-05</td>\n",
              "      <td>1</td>\n",
              "      <td>22</td>\n",
              "      <td>22</td>\n",
              "      <td>7</td>\n",
              "      <td>3</td>\n",
              "      <td>15</td>\n",
              "      <td>10</td>\n",
              "      <td>0</td>\n",
              "      <td>5</td>\n",
              "      <td>1</td>\n",
              "      <td>174</td>\n",
              "      <td>0.0</td>\n",
              "      <td>103</td>\n",
              "      <td>93</td>\n",
              "      <td>48</td>\n",
              "      <td>1</td>\n",
              "    </tr>\n",
              "  </tbody>\n",
              "</table>\n",
              "</div>"
            ],
            "text/plain": [
              "      INCIDENT_ID       DATE  X_1  X_2  ...  X_13  X_14  X_15  MULTIPLE_OFFENSE\n",
              "19022     CR_1141 1991-01-01    0   22  ...    72   142    34                 1\n",
              "13104     CR_2248 1991-01-02    0   33  ...    72   142    34                 1\n",
              "1617      CR_3131 1991-01-03    1   36  ...    92    93     0                 1\n",
              "6187      CR_3546 1991-01-04    0   39  ...    72    62    34                 1\n",
              "1761       CR_821 1991-01-05    1   22  ...   103    93    48                 1\n",
              "\n",
              "[5 rows x 18 columns]"
            ]
          },
          "metadata": {
            "tags": []
          },
          "execution_count": 10
        }
      ]
    },
    {
      "cell_type": "code",
      "metadata": {
        "id": "QA9C_juW0lhg",
        "colab_type": "code",
        "outputId": "476bc192-db02-4cb5-e120-8ff8cbfd06a9",
        "colab": {
          "base_uri": "https://localhost:8080/",
          "height": 206
        }
      },
      "source": [
        "# resetting the dataframe index to new time sorted values\n",
        "df_train.reset_index(drop=True, inplace=True)\n",
        "df_train.head()"
      ],
      "execution_count": 11,
      "outputs": [
        {
          "output_type": "execute_result",
          "data": {
            "text/html": [
              "<div>\n",
              "<style scoped>\n",
              "    .dataframe tbody tr th:only-of-type {\n",
              "        vertical-align: middle;\n",
              "    }\n",
              "\n",
              "    .dataframe tbody tr th {\n",
              "        vertical-align: top;\n",
              "    }\n",
              "\n",
              "    .dataframe thead th {\n",
              "        text-align: right;\n",
              "    }\n",
              "</style>\n",
              "<table border=\"1\" class=\"dataframe\">\n",
              "  <thead>\n",
              "    <tr style=\"text-align: right;\">\n",
              "      <th></th>\n",
              "      <th>INCIDENT_ID</th>\n",
              "      <th>DATE</th>\n",
              "      <th>X_1</th>\n",
              "      <th>X_2</th>\n",
              "      <th>X_3</th>\n",
              "      <th>X_4</th>\n",
              "      <th>X_5</th>\n",
              "      <th>X_6</th>\n",
              "      <th>X_7</th>\n",
              "      <th>X_8</th>\n",
              "      <th>X_9</th>\n",
              "      <th>X_10</th>\n",
              "      <th>X_11</th>\n",
              "      <th>X_12</th>\n",
              "      <th>X_13</th>\n",
              "      <th>X_14</th>\n",
              "      <th>X_15</th>\n",
              "      <th>MULTIPLE_OFFENSE</th>\n",
              "    </tr>\n",
              "  </thead>\n",
              "  <tbody>\n",
              "    <tr>\n",
              "      <th>0</th>\n",
              "      <td>CR_1141</td>\n",
              "      <td>1991-01-01</td>\n",
              "      <td>0</td>\n",
              "      <td>22</td>\n",
              "      <td>22</td>\n",
              "      <td>7</td>\n",
              "      <td>3</td>\n",
              "      <td>8</td>\n",
              "      <td>3</td>\n",
              "      <td>7</td>\n",
              "      <td>2</td>\n",
              "      <td>2</td>\n",
              "      <td>0</td>\n",
              "      <td>2.0</td>\n",
              "      <td>72</td>\n",
              "      <td>142</td>\n",
              "      <td>34</td>\n",
              "      <td>1</td>\n",
              "    </tr>\n",
              "    <tr>\n",
              "      <th>1</th>\n",
              "      <td>CR_2248</td>\n",
              "      <td>1991-01-02</td>\n",
              "      <td>0</td>\n",
              "      <td>33</td>\n",
              "      <td>32</td>\n",
              "      <td>2</td>\n",
              "      <td>1</td>\n",
              "      <td>7</td>\n",
              "      <td>1</td>\n",
              "      <td>1</td>\n",
              "      <td>6</td>\n",
              "      <td>1</td>\n",
              "      <td>249</td>\n",
              "      <td>1.0</td>\n",
              "      <td>72</td>\n",
              "      <td>142</td>\n",
              "      <td>34</td>\n",
              "      <td>1</td>\n",
              "    </tr>\n",
              "    <tr>\n",
              "      <th>2</th>\n",
              "      <td>CR_3131</td>\n",
              "      <td>1991-01-03</td>\n",
              "      <td>1</td>\n",
              "      <td>36</td>\n",
              "      <td>34</td>\n",
              "      <td>2</td>\n",
              "      <td>1</td>\n",
              "      <td>15</td>\n",
              "      <td>10</td>\n",
              "      <td>0</td>\n",
              "      <td>5</td>\n",
              "      <td>1</td>\n",
              "      <td>174</td>\n",
              "      <td>0.0</td>\n",
              "      <td>92</td>\n",
              "      <td>93</td>\n",
              "      <td>0</td>\n",
              "      <td>1</td>\n",
              "    </tr>\n",
              "    <tr>\n",
              "      <th>3</th>\n",
              "      <td>CR_3546</td>\n",
              "      <td>1991-01-04</td>\n",
              "      <td>0</td>\n",
              "      <td>39</td>\n",
              "      <td>39</td>\n",
              "      <td>6</td>\n",
              "      <td>5</td>\n",
              "      <td>8</td>\n",
              "      <td>3</td>\n",
              "      <td>1</td>\n",
              "      <td>6</td>\n",
              "      <td>1</td>\n",
              "      <td>0</td>\n",
              "      <td>1.0</td>\n",
              "      <td>72</td>\n",
              "      <td>62</td>\n",
              "      <td>34</td>\n",
              "      <td>1</td>\n",
              "    </tr>\n",
              "    <tr>\n",
              "      <th>4</th>\n",
              "      <td>CR_821</td>\n",
              "      <td>1991-01-05</td>\n",
              "      <td>1</td>\n",
              "      <td>22</td>\n",
              "      <td>22</td>\n",
              "      <td>7</td>\n",
              "      <td>3</td>\n",
              "      <td>15</td>\n",
              "      <td>10</td>\n",
              "      <td>0</td>\n",
              "      <td>5</td>\n",
              "      <td>1</td>\n",
              "      <td>174</td>\n",
              "      <td>0.0</td>\n",
              "      <td>103</td>\n",
              "      <td>93</td>\n",
              "      <td>48</td>\n",
              "      <td>1</td>\n",
              "    </tr>\n",
              "  </tbody>\n",
              "</table>\n",
              "</div>"
            ],
            "text/plain": [
              "  INCIDENT_ID       DATE  X_1  X_2  ...  X_13  X_14  X_15  MULTIPLE_OFFENSE\n",
              "0     CR_1141 1991-01-01    0   22  ...    72   142    34                 1\n",
              "1     CR_2248 1991-01-02    0   33  ...    72   142    34                 1\n",
              "2     CR_3131 1991-01-03    1   36  ...    92    93     0                 1\n",
              "3     CR_3546 1991-01-04    0   39  ...    72    62    34                 1\n",
              "4      CR_821 1991-01-05    1   22  ...   103    93    48                 1\n",
              "\n",
              "[5 rows x 18 columns]"
            ]
          },
          "metadata": {
            "tags": []
          },
          "execution_count": 11
        }
      ]
    },
    {
      "cell_type": "code",
      "metadata": {
        "id": "m2rE6aKAICad",
        "colab_type": "code",
        "colab": {}
      },
      "source": [
        "# For Train Data\n",
        "df_train['year'] = df_train['DATE'].dt.year\n",
        "df_train['month'] = df_train['DATE'].dt.month\n",
        "df_train['day'] = df_train['DATE'].dt.day\n",
        "df_train['dayofweek'] = df_train['DATE'].dt.dayofweek\n",
        "\n",
        "# For Test Data\n",
        "df_test['year'] = df_test['DATE'].dt.year\n",
        "df_test['month'] = df_test['DATE'].dt.month\n",
        "df_test['day'] = df_test['DATE'].dt.day\n",
        "df_test['dayofweek'] = df_test['DATE'].dt.dayofweek"
      ],
      "execution_count": 0,
      "outputs": []
    },
    {
      "cell_type": "code",
      "metadata": {
        "id": "T-LEPQ4JrI5E",
        "colab_type": "code",
        "outputId": "2cd0d143-ac98-47ea-889d-111a9e775719",
        "colab": {
          "base_uri": "https://localhost:8080/",
          "height": 206
        }
      },
      "source": [
        "df_train.head()"
      ],
      "execution_count": 13,
      "outputs": [
        {
          "output_type": "execute_result",
          "data": {
            "text/html": [
              "<div>\n",
              "<style scoped>\n",
              "    .dataframe tbody tr th:only-of-type {\n",
              "        vertical-align: middle;\n",
              "    }\n",
              "\n",
              "    .dataframe tbody tr th {\n",
              "        vertical-align: top;\n",
              "    }\n",
              "\n",
              "    .dataframe thead th {\n",
              "        text-align: right;\n",
              "    }\n",
              "</style>\n",
              "<table border=\"1\" class=\"dataframe\">\n",
              "  <thead>\n",
              "    <tr style=\"text-align: right;\">\n",
              "      <th></th>\n",
              "      <th>INCIDENT_ID</th>\n",
              "      <th>DATE</th>\n",
              "      <th>X_1</th>\n",
              "      <th>X_2</th>\n",
              "      <th>X_3</th>\n",
              "      <th>X_4</th>\n",
              "      <th>X_5</th>\n",
              "      <th>X_6</th>\n",
              "      <th>X_7</th>\n",
              "      <th>X_8</th>\n",
              "      <th>X_9</th>\n",
              "      <th>X_10</th>\n",
              "      <th>X_11</th>\n",
              "      <th>X_12</th>\n",
              "      <th>X_13</th>\n",
              "      <th>X_14</th>\n",
              "      <th>X_15</th>\n",
              "      <th>MULTIPLE_OFFENSE</th>\n",
              "      <th>year</th>\n",
              "      <th>month</th>\n",
              "      <th>day</th>\n",
              "      <th>dayofweek</th>\n",
              "    </tr>\n",
              "  </thead>\n",
              "  <tbody>\n",
              "    <tr>\n",
              "      <th>0</th>\n",
              "      <td>CR_1141</td>\n",
              "      <td>1991-01-01</td>\n",
              "      <td>0</td>\n",
              "      <td>22</td>\n",
              "      <td>22</td>\n",
              "      <td>7</td>\n",
              "      <td>3</td>\n",
              "      <td>8</td>\n",
              "      <td>3</td>\n",
              "      <td>7</td>\n",
              "      <td>2</td>\n",
              "      <td>2</td>\n",
              "      <td>0</td>\n",
              "      <td>2.0</td>\n",
              "      <td>72</td>\n",
              "      <td>142</td>\n",
              "      <td>34</td>\n",
              "      <td>1</td>\n",
              "      <td>1991</td>\n",
              "      <td>1</td>\n",
              "      <td>1</td>\n",
              "      <td>1</td>\n",
              "    </tr>\n",
              "    <tr>\n",
              "      <th>1</th>\n",
              "      <td>CR_2248</td>\n",
              "      <td>1991-01-02</td>\n",
              "      <td>0</td>\n",
              "      <td>33</td>\n",
              "      <td>32</td>\n",
              "      <td>2</td>\n",
              "      <td>1</td>\n",
              "      <td>7</td>\n",
              "      <td>1</td>\n",
              "      <td>1</td>\n",
              "      <td>6</td>\n",
              "      <td>1</td>\n",
              "      <td>249</td>\n",
              "      <td>1.0</td>\n",
              "      <td>72</td>\n",
              "      <td>142</td>\n",
              "      <td>34</td>\n",
              "      <td>1</td>\n",
              "      <td>1991</td>\n",
              "      <td>1</td>\n",
              "      <td>2</td>\n",
              "      <td>2</td>\n",
              "    </tr>\n",
              "    <tr>\n",
              "      <th>2</th>\n",
              "      <td>CR_3131</td>\n",
              "      <td>1991-01-03</td>\n",
              "      <td>1</td>\n",
              "      <td>36</td>\n",
              "      <td>34</td>\n",
              "      <td>2</td>\n",
              "      <td>1</td>\n",
              "      <td>15</td>\n",
              "      <td>10</td>\n",
              "      <td>0</td>\n",
              "      <td>5</td>\n",
              "      <td>1</td>\n",
              "      <td>174</td>\n",
              "      <td>0.0</td>\n",
              "      <td>92</td>\n",
              "      <td>93</td>\n",
              "      <td>0</td>\n",
              "      <td>1</td>\n",
              "      <td>1991</td>\n",
              "      <td>1</td>\n",
              "      <td>3</td>\n",
              "      <td>3</td>\n",
              "    </tr>\n",
              "    <tr>\n",
              "      <th>3</th>\n",
              "      <td>CR_3546</td>\n",
              "      <td>1991-01-04</td>\n",
              "      <td>0</td>\n",
              "      <td>39</td>\n",
              "      <td>39</td>\n",
              "      <td>6</td>\n",
              "      <td>5</td>\n",
              "      <td>8</td>\n",
              "      <td>3</td>\n",
              "      <td>1</td>\n",
              "      <td>6</td>\n",
              "      <td>1</td>\n",
              "      <td>0</td>\n",
              "      <td>1.0</td>\n",
              "      <td>72</td>\n",
              "      <td>62</td>\n",
              "      <td>34</td>\n",
              "      <td>1</td>\n",
              "      <td>1991</td>\n",
              "      <td>1</td>\n",
              "      <td>4</td>\n",
              "      <td>4</td>\n",
              "    </tr>\n",
              "    <tr>\n",
              "      <th>4</th>\n",
              "      <td>CR_821</td>\n",
              "      <td>1991-01-05</td>\n",
              "      <td>1</td>\n",
              "      <td>22</td>\n",
              "      <td>22</td>\n",
              "      <td>7</td>\n",
              "      <td>3</td>\n",
              "      <td>15</td>\n",
              "      <td>10</td>\n",
              "      <td>0</td>\n",
              "      <td>5</td>\n",
              "      <td>1</td>\n",
              "      <td>174</td>\n",
              "      <td>0.0</td>\n",
              "      <td>103</td>\n",
              "      <td>93</td>\n",
              "      <td>48</td>\n",
              "      <td>1</td>\n",
              "      <td>1991</td>\n",
              "      <td>1</td>\n",
              "      <td>5</td>\n",
              "      <td>5</td>\n",
              "    </tr>\n",
              "  </tbody>\n",
              "</table>\n",
              "</div>"
            ],
            "text/plain": [
              "  INCIDENT_ID       DATE  X_1  X_2  ...  year  month  day  dayofweek\n",
              "0     CR_1141 1991-01-01    0   22  ...  1991      1    1          1\n",
              "1     CR_2248 1991-01-02    0   33  ...  1991      1    2          2\n",
              "2     CR_3131 1991-01-03    1   36  ...  1991      1    3          3\n",
              "3     CR_3546 1991-01-04    0   39  ...  1991      1    4          4\n",
              "4      CR_821 1991-01-05    1   22  ...  1991      1    5          5\n",
              "\n",
              "[5 rows x 22 columns]"
            ]
          },
          "metadata": {
            "tags": []
          },
          "execution_count": 13
        }
      ]
    },
    {
      "cell_type": "code",
      "metadata": {
        "id": "_PcPPKFJUf3g",
        "colab_type": "code",
        "colab": {}
      },
      "source": [
        "df_train.info()"
      ],
      "execution_count": 0,
      "outputs": []
    },
    {
      "cell_type": "code",
      "metadata": {
        "id": "GXJs7awJvFkn",
        "colab_type": "code",
        "colab": {}
      },
      "source": [
        "# Years uutill current_year\n",
        "current_year = 2020\n",
        "df_train['currentYear-year'] = df_train['year'].map(lambda year: current_year-year)\n",
        "df_test['currentYear-year'] = df_test['year'].map(lambda year: current_year-year)"
      ],
      "execution_count": 0,
      "outputs": []
    },
    {
      "cell_type": "code",
      "metadata": {
        "id": "-IbOTQjStI8m",
        "colab_type": "code",
        "outputId": "8bf51df2-1b3e-4987-aa58-58d91814da4d",
        "colab": {
          "base_uri": "https://localhost:8080/",
          "height": 244
        }
      },
      "source": [
        "df_train.head()"
      ],
      "execution_count": 16,
      "outputs": [
        {
          "output_type": "execute_result",
          "data": {
            "text/html": [
              "<div>\n",
              "<style scoped>\n",
              "    .dataframe tbody tr th:only-of-type {\n",
              "        vertical-align: middle;\n",
              "    }\n",
              "\n",
              "    .dataframe tbody tr th {\n",
              "        vertical-align: top;\n",
              "    }\n",
              "\n",
              "    .dataframe thead th {\n",
              "        text-align: right;\n",
              "    }\n",
              "</style>\n",
              "<table border=\"1\" class=\"dataframe\">\n",
              "  <thead>\n",
              "    <tr style=\"text-align: right;\">\n",
              "      <th></th>\n",
              "      <th>INCIDENT_ID</th>\n",
              "      <th>DATE</th>\n",
              "      <th>X_1</th>\n",
              "      <th>X_2</th>\n",
              "      <th>X_3</th>\n",
              "      <th>X_4</th>\n",
              "      <th>X_5</th>\n",
              "      <th>X_6</th>\n",
              "      <th>X_7</th>\n",
              "      <th>X_8</th>\n",
              "      <th>X_9</th>\n",
              "      <th>X_10</th>\n",
              "      <th>X_11</th>\n",
              "      <th>X_12</th>\n",
              "      <th>X_13</th>\n",
              "      <th>X_14</th>\n",
              "      <th>X_15</th>\n",
              "      <th>MULTIPLE_OFFENSE</th>\n",
              "      <th>year</th>\n",
              "      <th>month</th>\n",
              "      <th>day</th>\n",
              "      <th>dayofweek</th>\n",
              "      <th>currentYear-year</th>\n",
              "    </tr>\n",
              "  </thead>\n",
              "  <tbody>\n",
              "    <tr>\n",
              "      <th>0</th>\n",
              "      <td>CR_1141</td>\n",
              "      <td>1991-01-01</td>\n",
              "      <td>0</td>\n",
              "      <td>22</td>\n",
              "      <td>22</td>\n",
              "      <td>7</td>\n",
              "      <td>3</td>\n",
              "      <td>8</td>\n",
              "      <td>3</td>\n",
              "      <td>7</td>\n",
              "      <td>2</td>\n",
              "      <td>2</td>\n",
              "      <td>0</td>\n",
              "      <td>2.0</td>\n",
              "      <td>72</td>\n",
              "      <td>142</td>\n",
              "      <td>34</td>\n",
              "      <td>1</td>\n",
              "      <td>1991</td>\n",
              "      <td>1</td>\n",
              "      <td>1</td>\n",
              "      <td>1</td>\n",
              "      <td>29</td>\n",
              "    </tr>\n",
              "    <tr>\n",
              "      <th>1</th>\n",
              "      <td>CR_2248</td>\n",
              "      <td>1991-01-02</td>\n",
              "      <td>0</td>\n",
              "      <td>33</td>\n",
              "      <td>32</td>\n",
              "      <td>2</td>\n",
              "      <td>1</td>\n",
              "      <td>7</td>\n",
              "      <td>1</td>\n",
              "      <td>1</td>\n",
              "      <td>6</td>\n",
              "      <td>1</td>\n",
              "      <td>249</td>\n",
              "      <td>1.0</td>\n",
              "      <td>72</td>\n",
              "      <td>142</td>\n",
              "      <td>34</td>\n",
              "      <td>1</td>\n",
              "      <td>1991</td>\n",
              "      <td>1</td>\n",
              "      <td>2</td>\n",
              "      <td>2</td>\n",
              "      <td>29</td>\n",
              "    </tr>\n",
              "    <tr>\n",
              "      <th>2</th>\n",
              "      <td>CR_3131</td>\n",
              "      <td>1991-01-03</td>\n",
              "      <td>1</td>\n",
              "      <td>36</td>\n",
              "      <td>34</td>\n",
              "      <td>2</td>\n",
              "      <td>1</td>\n",
              "      <td>15</td>\n",
              "      <td>10</td>\n",
              "      <td>0</td>\n",
              "      <td>5</td>\n",
              "      <td>1</td>\n",
              "      <td>174</td>\n",
              "      <td>0.0</td>\n",
              "      <td>92</td>\n",
              "      <td>93</td>\n",
              "      <td>0</td>\n",
              "      <td>1</td>\n",
              "      <td>1991</td>\n",
              "      <td>1</td>\n",
              "      <td>3</td>\n",
              "      <td>3</td>\n",
              "      <td>29</td>\n",
              "    </tr>\n",
              "    <tr>\n",
              "      <th>3</th>\n",
              "      <td>CR_3546</td>\n",
              "      <td>1991-01-04</td>\n",
              "      <td>0</td>\n",
              "      <td>39</td>\n",
              "      <td>39</td>\n",
              "      <td>6</td>\n",
              "      <td>5</td>\n",
              "      <td>8</td>\n",
              "      <td>3</td>\n",
              "      <td>1</td>\n",
              "      <td>6</td>\n",
              "      <td>1</td>\n",
              "      <td>0</td>\n",
              "      <td>1.0</td>\n",
              "      <td>72</td>\n",
              "      <td>62</td>\n",
              "      <td>34</td>\n",
              "      <td>1</td>\n",
              "      <td>1991</td>\n",
              "      <td>1</td>\n",
              "      <td>4</td>\n",
              "      <td>4</td>\n",
              "      <td>29</td>\n",
              "    </tr>\n",
              "    <tr>\n",
              "      <th>4</th>\n",
              "      <td>CR_821</td>\n",
              "      <td>1991-01-05</td>\n",
              "      <td>1</td>\n",
              "      <td>22</td>\n",
              "      <td>22</td>\n",
              "      <td>7</td>\n",
              "      <td>3</td>\n",
              "      <td>15</td>\n",
              "      <td>10</td>\n",
              "      <td>0</td>\n",
              "      <td>5</td>\n",
              "      <td>1</td>\n",
              "      <td>174</td>\n",
              "      <td>0.0</td>\n",
              "      <td>103</td>\n",
              "      <td>93</td>\n",
              "      <td>48</td>\n",
              "      <td>1</td>\n",
              "      <td>1991</td>\n",
              "      <td>1</td>\n",
              "      <td>5</td>\n",
              "      <td>5</td>\n",
              "      <td>29</td>\n",
              "    </tr>\n",
              "  </tbody>\n",
              "</table>\n",
              "</div>"
            ],
            "text/plain": [
              "  INCIDENT_ID       DATE  X_1  X_2  ...  month  day  dayofweek  currentYear-year\n",
              "0     CR_1141 1991-01-01    0   22  ...      1    1          1                29\n",
              "1     CR_2248 1991-01-02    0   33  ...      1    2          2                29\n",
              "2     CR_3131 1991-01-03    1   36  ...      1    3          3                29\n",
              "3     CR_3546 1991-01-04    0   39  ...      1    4          4                29\n",
              "4      CR_821 1991-01-05    1   22  ...      1    5          5                29\n",
              "\n",
              "[5 rows x 23 columns]"
            ]
          },
          "metadata": {
            "tags": []
          },
          "execution_count": 16
        }
      ]
    },
    {
      "cell_type": "markdown",
      "metadata": {
        "id": "Cj_nJph3W3Vi",
        "colab_type": "text"
      },
      "source": [
        "Dataset doesnot have any null field"
      ]
    },
    {
      "cell_type": "code",
      "metadata": {
        "id": "iE3DWCkeo9Vh",
        "colab_type": "code",
        "colab": {}
      },
      "source": [
        "# Saving date-sorted dataset to drive\n",
        "df_train.to_csv('/content/dive/My Drive/AI Projects/Server_Hacked/Dataset/Train_dateSorted.csv')\n",
        "df_test.to_csv('/content/dive/My Drive/AI Projects/Server_Hacked/Dataset/Test_dateSorted.csv')"
      ],
      "execution_count": 0,
      "outputs": []
    },
    {
      "cell_type": "markdown",
      "metadata": {
        "id": "kE19A8YO6TPZ",
        "colab_type": "text"
      },
      "source": [
        "Pandas Profiling"
      ]
    },
    {
      "cell_type": "code",
      "metadata": {
        "id": "S9F6ahy06X9e",
        "colab_type": "code",
        "colab": {}
      },
      "source": [
        "# report = ProfileReport(df_train, title='Pandas Profiling Report', explorative=True)\n",
        "# report"
      ],
      "execution_count": 0,
      "outputs": []
    },
    {
      "cell_type": "markdown",
      "metadata": {
        "id": "q4Ri2B9gnd21",
        "colab_type": "text"
      },
      "source": [
        "Checking if the dataset is balanced/imbalanced"
      ]
    },
    {
      "cell_type": "code",
      "metadata": {
        "id": "hrWLQ2ldWsoQ",
        "colab_type": "code",
        "outputId": "6ccf0f2b-f39a-4ea0-ea43-184281c60c1b",
        "colab": {
          "base_uri": "https://localhost:8080/",
          "height": 86
        }
      },
      "source": [
        "# # python check if dataset is imbalanced : https://www.kaggle.com/rafjaa/resampling-strategies-for-imbalanced-datasets\n",
        "\n",
        "# target_count = df_train['MULTIPLE_OFFENSE'].value_counts()\n",
        "# print('Class 0 (No):', target_count[0])\n",
        "# print('Class 1 (Yes):', target_count[1])\n",
        "# print('Proportion:', round(target_count[0] / target_count[1], 2), ': 1')\n",
        "\n",
        "# target_count.plot(kind='bar', title='Malicious Vs Non-malicious')"
      ],
      "execution_count": 19,
      "outputs": [
        {
          "output_type": "stream",
          "text": [
            "Class 0 (No): 1068\n",
            "Class 1 (Yes): 22788\n",
            "Proportion: 0.05 : 1\n"
          ],
          "name": "stdout"
        },
        {
          "output_type": "execute_result",
          "data": {
            "text/plain": [
              "<matplotlib.axes._subplots.AxesSubplot at 0x7f8f848eebe0>"
            ]
          },
          "metadata": {
            "tags": []
          },
          "execution_count": 19
        }
      ]
    },
    {
      "cell_type": "markdown",
      "metadata": {
        "id": "JD9gbVnFx2kk",
        "colab_type": "text"
      },
      "source": [
        "Therefore, the dataset seems to be heavily imbalanced."
      ]
    },
    {
      "cell_type": "code",
      "metadata": {
        "id": "5H7lhkSpoIe8",
        "colab_type": "code",
        "colab": {}
      },
      "source": [
        "# for idx, feature in enumerate(list(df_train.columns)[2:-1]):\n",
        "#     fg = sns.FacetGrid(df_train, hue='MULTIPLE_OFFENSE', height=3, aspect=2.5)\n",
        "#     fg.map(sns.distplot, feature).add_legend()\n",
        "#     plt.show()"
      ],
      "execution_count": 0,
      "outputs": []
    },
    {
      "cell_type": "markdown",
      "metadata": {
        "id": "1qdYwdJvgo_s",
        "colab_type": "text"
      },
      "source": [
        "Checking for NaN values"
      ]
    },
    {
      "cell_type": "code",
      "metadata": {
        "id": "yuwNaOamEdWO",
        "colab_type": "code",
        "outputId": "e310911b-f37b-497e-88d6-b25b672e0b07",
        "colab": {
          "base_uri": "https://localhost:8080/",
          "height": 434
        }
      },
      "source": [
        "# df_train.isnull().any()"
      ],
      "execution_count": 21,
      "outputs": [
        {
          "output_type": "execute_result",
          "data": {
            "text/plain": [
              "INCIDENT_ID         False\n",
              "DATE                False\n",
              "X_1                 False\n",
              "X_2                 False\n",
              "X_3                 False\n",
              "X_4                 False\n",
              "X_5                 False\n",
              "X_6                 False\n",
              "X_7                 False\n",
              "X_8                 False\n",
              "X_9                 False\n",
              "X_10                False\n",
              "X_11                False\n",
              "X_12                 True\n",
              "X_13                False\n",
              "X_14                False\n",
              "X_15                False\n",
              "MULTIPLE_OFFENSE    False\n",
              "year                False\n",
              "month               False\n",
              "day                 False\n",
              "dayofweek           False\n",
              "currentYear-year    False\n",
              "dtype: bool"
            ]
          },
          "metadata": {
            "tags": []
          },
          "execution_count": 21
        }
      ]
    },
    {
      "cell_type": "markdown",
      "metadata": {
        "id": "9PJ_4bccguaz",
        "colab_type": "text"
      },
      "source": [
        "Calculating column mean"
      ]
    },
    {
      "cell_type": "code",
      "metadata": {
        "id": "UVnBq8ZaUFoW",
        "colab_type": "code",
        "colab": {}
      },
      "source": [
        "# # mean of columns\n",
        "# df_train.mean(axis = 0)"
      ],
      "execution_count": 0,
      "outputs": []
    },
    {
      "cell_type": "markdown",
      "metadata": {
        "id": "CO202JingzLT",
        "colab_type": "text"
      },
      "source": [
        "Calculating column median"
      ]
    },
    {
      "cell_type": "code",
      "metadata": {
        "id": "Uth35kZ3U0Uc",
        "colab_type": "code",
        "colab": {}
      },
      "source": [
        "# # median of columns\n",
        "# df_train.median(axis = 0)"
      ],
      "execution_count": 0,
      "outputs": []
    },
    {
      "cell_type": "code",
      "metadata": {
        "id": "IZsqLGrHa90D",
        "colab_type": "code",
        "colab": {}
      },
      "source": [
        "labels = df_train['MULTIPLE_OFFENSE'].values\n",
        "df_train.drop(['INCIDENT_ID','DATE','MULTIPLE_OFFENSE'], axis=1, inplace=True)\n",
        "df_test.drop(['INCIDENT_ID','DATE','MULTIPLE_OFFENSE'], axis=1, inplace=True, errors='ignore')"
      ],
      "execution_count": 0,
      "outputs": []
    },
    {
      "cell_type": "code",
      "metadata": {
        "id": "2mTMmR29Yt3h",
        "colab_type": "code",
        "colab": {}
      },
      "source": [
        "# replacing nan values with median ===== ###Can be made a class later\n",
        "from sklearn.impute import SimpleImputer \n",
        "imputer = SimpleImputer(missing_values = np.nan, strategy ='median') \n",
        "imputer = imputer.fit(df_train) \n",
        "\n",
        "# Imputing the data      \n",
        "df_train = imputer.transform(df_train)\n",
        "df_test = imputer.transform(df_test)"
      ],
      "execution_count": 0,
      "outputs": []
    },
    {
      "cell_type": "markdown",
      "metadata": {
        "id": "n4M7Ps44SaFM",
        "colab_type": "text"
      },
      "source": [
        "Splitting Data into train-cv"
      ]
    },
    {
      "cell_type": "code",
      "metadata": {
        "id": "RxyRvYH2Sa4d",
        "colab_type": "code",
        "colab": {}
      },
      "source": [
        "from sklearn.model_selection import train_test_split\n",
        "X_train, X_cv, y_train, y_cv = train_test_split(df_train, labels, test_size=0.20, shuffle=False)"
      ],
      "execution_count": 0,
      "outputs": []
    },
    {
      "cell_type": "markdown",
      "metadata": {
        "id": "gKtjtZvmbBHz",
        "colab_type": "text"
      },
      "source": [
        "Modelling"
      ]
    },
    {
      "cell_type": "code",
      "metadata": {
        "id": "ksraE3rnZNVp",
        "colab_type": "code",
        "colab": {}
      },
      "source": [
        "%%time\n",
        "# Train multiple models : https://www.kaggle.com/tflare/testing-multiple-models-with-scikit-learn-0-79425\n",
        "from sklearn.linear_model import LogisticRegression\n",
        "from sklearn.svm import SVC, LinearSVC\n",
        "from sklearn.neighbors import KNeighborsClassifier\n",
        "from sklearn.tree import DecisionTreeClassifier\n",
        "from sklearn.ensemble import RandomForestClassifier\n",
        "from sklearn.naive_bayes import GaussianNB\n",
        "from sklearn.ensemble import AdaBoostClassifier\n",
        "from sklearn.ensemble import BaggingClassifier\n",
        "from sklearn.ensemble import ExtraTreesClassifier\n",
        "from sklearn.ensemble import GradientBoostingClassifier\n",
        "from sklearn.ensemble import StackingClassifier\n",
        "from sklearn.linear_model import LogisticRegressionCV\n",
        "from sklearn.linear_model import SGDClassifier\n",
        "\n",
        "from sklearn.model_selection import TimeSeriesSplit, cross_val_score\n",
        "\n",
        "models = []\n",
        "\n",
        "LogisticRegression = LogisticRegression(n_jobs=-1, class_weight=\"balanced\")\n",
        "LinearSVC = LinearSVC(class_weight=\"balanced\")\n",
        "KNeighbors = KNeighborsClassifier(n_jobs=-1)\n",
        "DecisionTree = DecisionTreeClassifier(class_weight=\"balanced\")\n",
        "RandomForest = RandomForestClassifier(n_jobs=-1, class_weight=\"balanced\")\n",
        "AdaBoost = AdaBoostClassifier()\n",
        "Bagging = BaggingClassifier(n_jobs=-1)\n",
        "ExtraTrees = ExtraTreesClassifier(n_jobs=-1, class_weight=\"balanced\")\n",
        "GradientBoosting = GradientBoostingClassifier()\n",
        "LogisticRegressionCV = LogisticRegressionCV(n_jobs=-1, class_weight=\"balanced\")\n",
        "#Stacking = StackingClassifier()\n",
        "\n",
        "models.append((\"LogisticRegression\",LogisticRegression))\n",
        "models.append((\"LinearSVC\", LinearSVC))\n",
        "models.append((\"KNeighbors\", KNeighbors))\n",
        "models.append((\"DecisionTree\", DecisionTree))\n",
        "models.append((\"RandomForest\", RandomForest))\n",
        "models.append((\"AdaBoost\", AdaBoost))\n",
        "models.append((\"Bagging\", Bagging))\n",
        "models.append((\"ExtraTrees\", ExtraTrees))\n",
        "models.append((\"GradientBoosting\", GradientBoosting))\n",
        "models.append((\"LogisticRegressionCV\", LogisticRegressionCV))\n",
        "# models.append(\"Stacking\", Stacking)\n",
        "\n",
        "metric_names = ['f1', 'average_precision', 'accuracy', 'precision', 'recall']\n",
        "tscv = TimeSeriesSplit(n_splits=5)\n",
        "results = []\n",
        "names = []\n",
        "\n",
        "nested_dict = {}\n",
        "\n",
        "for name,model in models:\n",
        "  nested_dict[name] = {}\n",
        "  for metric in metric_names:\n",
        "    score = cross_val_score(model, X_train, y_train, n_jobs=-1, scoring=metric, cv=tscv)\n",
        "    nested_dict[name][metric] = score.mean()\n",
        "\n",
        "# Alarm!!\n",
        "job_completion_alert()"
      ],
      "execution_count": 0,
      "outputs": []
    },
    {
      "cell_type": "code",
      "metadata": {
        "id": "j-bRRldORFvV",
        "colab_type": "code",
        "colab": {}
      },
      "source": [
        "import json\n",
        "print(json.dumps(nested_dict, sort_keys=True, indent=4))"
      ],
      "execution_count": 0,
      "outputs": []
    },
    {
      "cell_type": "code",
      "metadata": {
        "id": "2ANL4AbLC6ve",
        "colab_type": "code",
        "colab": {}
      },
      "source": [
        "def score(actual_value,predicted_values):\n",
        "  from sklearn.metrics import confusion_matrix \n",
        "  from sklearn.metrics import accuracy_score \n",
        "  from sklearn.metrics import classification_report \n",
        "  from sklearn.metrics import recall_score\n",
        "  \n",
        "  actual = actual_value\n",
        "  predicted = predicted_values\n",
        "  results = confusion_matrix(actual, predicted) \n",
        "  \n",
        "  print('Confusion Matrix :')\n",
        "  print(results) \n",
        "  print('Accuracy Score :',accuracy_score(actual, predicted))\n",
        "  print('Report : ')\n",
        "  print(classification_report(actual, predicted))\n",
        "  print('Recall Score : ')\n",
        "  print(recall_score(actual, predicted))"
      ],
      "execution_count": 0,
      "outputs": []
    },
    {
      "cell_type": "code",
      "metadata": {
        "id": "unMjVt_joD54",
        "colab_type": "code",
        "colab": {}
      },
      "source": [
        "from pprint import pprint \n",
        "alg = RandomForest\n",
        "alg.fit(X_train, y_train)\n",
        "predictions = alg.predict(X_cv)\n",
        "pprint(alg.get_params())"
      ],
      "execution_count": 0,
      "outputs": []
    },
    {
      "cell_type": "markdown",
      "metadata": {
        "id": "LS7YEfr86U6T",
        "colab_type": "text"
      },
      "source": [
        "Hyperparameter tuning the RandomForest Classifier"
      ]
    },
    {
      "cell_type": "code",
      "metadata": {
        "id": "H4ORVoF26b5I",
        "colab_type": "code",
        "colab": {}
      },
      "source": [
        "from sklearn.model_selection import RandomizedSearchCV\n",
        "# Number of trees in random forest\n",
        "n_estimators = [int(x) for x in np.linspace(start = 100, stop = 1000, num = 20)]\n",
        "# Number of features to consider at every split\n",
        "max_features = ['auto', 'sqrt']\n",
        "# Maximum number of levels in tree\n",
        "max_depth = [int(x) for x in np.linspace(10, 110, num = 11)]\n",
        "max_depth.append(None)\n",
        "# Minimum number of samples required to split a node\n",
        "min_samples_split = [2, 5, 10]\n",
        "# Minimum number of samples required at each leaf node\n",
        "min_samples_leaf = [1, 2, 4]\n",
        "# Method of selecting samples for training each tree\n",
        "bootstrap = [True, False]\n",
        "# Create the random grid\n",
        "random_grid = {'n_estimators': n_estimators,\n",
        "               'max_features': max_features,\n",
        "               'max_depth': max_depth,\n",
        "               'min_samples_split': min_samples_split,\n",
        "               'min_samples_leaf': min_samples_leaf,\n",
        "               'bootstrap': bootstrap}\n",
        "pprint(random_grid)"
      ],
      "execution_count": 0,
      "outputs": []
    },
    {
      "cell_type": "code",
      "metadata": {
        "id": "w3GtECMFAg5l",
        "colab_type": "code",
        "colab": {}
      },
      "source": [
        "# GridSearchCV : https://scikit-learn.org/stable/auto_examples/model_selection/plot_randomized_search.html#sphx-glr-auto-examples-model-selection-plot-randomized-search-py\n",
        "\n",
        "from time import time\n",
        "# Utility function to report best scores\n",
        "def report(results, n_top=3):\n",
        "    for i in range(1, n_top + 1):\n",
        "        candidates = np.flatnonzero(results['rank_test_score'] == i)\n",
        "        for candidate in candidates:\n",
        "            print(\"Model with rank: {0}\".format(i))\n",
        "            print(\"Mean validation score: {0:.3f} (std: {1:.3f})\"\n",
        "                  .format(results['mean_test_score'][candidate],\n",
        "                          results['std_test_score'][candidate]))\n",
        "            print(\"Parameters: {0}\".format(results['params'][candidate]))\n",
        "            print(\"\")\n",
        "\n",
        "# tscv = TimeSeriesSplit(n_splits=5)\n",
        "# run randomized search\n",
        "n_iter_search = 400\n",
        "random_search = RandomizedSearchCV(alg, param_distributions=random_grid, n_iter=n_iter_search, n_jobs=-1, verbose=100)\n",
        "\n",
        "start = time()\n",
        "random_search.fit(X_train, y_train)\n",
        "print(\"RandomizedSearchCV took %.2f seconds for %d candidates\"\n",
        "      \" parameter settings.\" % ((time() - start), n_iter_search))\n",
        "report(random_search.cv_results_)\n",
        "\n",
        "# Alarm!!\n",
        "job_completion_alert()"
      ],
      "execution_count": 0,
      "outputs": []
    },
    {
      "cell_type": "code",
      "metadata": {
        "id": "jv8vdGsc4PxF",
        "colab_type": "code",
        "colab": {}
      },
      "source": [
        "# Without Hyperparameter Tuning:\n",
        "score(y_cv,predictions)"
      ],
      "execution_count": 0,
      "outputs": []
    },
    {
      "cell_type": "code",
      "metadata": {
        "id": "BmAnKSPE0GTN",
        "colab_type": "code",
        "colab": {}
      },
      "source": [
        "# With Hyperparameter Tuning:\n",
        "predictions_random_search = random_search.predict(X_cv)\n",
        "score(y_cv,predictions_random_search)"
      ],
      "execution_count": 0,
      "outputs": []
    },
    {
      "cell_type": "code",
      "metadata": {
        "id": "-PiTHWdH4d6G",
        "colab_type": "code",
        "colab": {}
      },
      "source": [
        "from sklearn.externals import joblib"
      ],
      "execution_count": 0,
      "outputs": []
    },
    {
      "cell_type": "code",
      "metadata": {
        "id": "Rf5j2xTcRl7r",
        "colab_type": "code",
        "colab": {}
      },
      "source": [
        "joblib.dump(random_search.best_estimator_, '/content/dive/My Drive/AI Projects/Server_Hacked/novartis_classifier.pkl', compress = 1)"
      ],
      "execution_count": 0,
      "outputs": []
    },
    {
      "cell_type": "code",
      "metadata": {
        "id": "dayM8hVnqOsv",
        "colab_type": "code",
        "colab": {}
      },
      "source": [
        "trained_model = joblib.load('/content/dive/My Drive/AI Projects/Server_Hacked/novartis_classifier.pkl')"
      ],
      "execution_count": 0,
      "outputs": []
    },
    {
      "cell_type": "code",
      "metadata": {
        "id": "WXpCLn2DuIaH",
        "colab_type": "code",
        "colab": {}
      },
      "source": [
        "# With Hyperparameter Tuning:\n",
        "predictions_trained_model = trained_model.predict(X_cv)\n",
        "score(y_cv,predictions_trained_model)"
      ],
      "execution_count": 0,
      "outputs": []
    },
    {
      "cell_type": "code",
      "metadata": {
        "id": "DI721e9jxT6s",
        "colab_type": "code",
        "colab": {}
      },
      "source": [
        "# On test data\n",
        "read = pd.read_csv('/content/dive/My Drive/AI Projects/Server_Hacked/Dataset/Test.csv')\n",
        "predictions_trained_model_test = trained_model.predict(df_test)"
      ],
      "execution_count": 0,
      "outputs": []
    },
    {
      "cell_type": "code",
      "metadata": {
        "id": "VvGjAUoSCSQz",
        "colab_type": "code",
        "colab": {}
      },
      "source": [
        "submission = pd.DataFrame({\n",
        "        \"INCIDENT_ID\": read[\"INCIDENT_ID\"],\n",
        "        \"MULTIPLE_OFFENSE\": predictions_trained_model_test\n",
        "    })\n",
        "\n",
        "submission.to_csv('/content/dive/My Drive/AI Projects/Server_Hacked/Dataset/submission.csv', index=False)"
      ],
      "execution_count": 0,
      "outputs": []
    },
    {
      "cell_type": "code",
      "metadata": {
        "id": "t1xhjfSBCR_A",
        "colab_type": "code",
        "colab": {
          "base_uri": "https://localhost:8080/",
          "height": 206
        },
        "outputId": "28dc435c-16d9-4731-f0bb-48b5662799d1"
      },
      "source": [
        "submission.head()"
      ],
      "execution_count": 42,
      "outputs": [
        {
          "output_type": "execute_result",
          "data": {
            "text/html": [
              "<div>\n",
              "<style scoped>\n",
              "    .dataframe tbody tr th:only-of-type {\n",
              "        vertical-align: middle;\n",
              "    }\n",
              "\n",
              "    .dataframe tbody tr th {\n",
              "        vertical-align: top;\n",
              "    }\n",
              "\n",
              "    .dataframe thead th {\n",
              "        text-align: right;\n",
              "    }\n",
              "</style>\n",
              "<table border=\"1\" class=\"dataframe\">\n",
              "  <thead>\n",
              "    <tr style=\"text-align: right;\">\n",
              "      <th></th>\n",
              "      <th>INCIDENT_ID</th>\n",
              "      <th>MULTIPLE_OFFENSE</th>\n",
              "    </tr>\n",
              "  </thead>\n",
              "  <tbody>\n",
              "    <tr>\n",
              "      <th>0</th>\n",
              "      <td>CR_195453</td>\n",
              "      <td>1</td>\n",
              "    </tr>\n",
              "    <tr>\n",
              "      <th>1</th>\n",
              "      <td>CR_103520</td>\n",
              "      <td>1</td>\n",
              "    </tr>\n",
              "    <tr>\n",
              "      <th>2</th>\n",
              "      <td>CR_196089</td>\n",
              "      <td>1</td>\n",
              "    </tr>\n",
              "    <tr>\n",
              "      <th>3</th>\n",
              "      <td>CR_112195</td>\n",
              "      <td>1</td>\n",
              "    </tr>\n",
              "    <tr>\n",
              "      <th>4</th>\n",
              "      <td>CR_149832</td>\n",
              "      <td>1</td>\n",
              "    </tr>\n",
              "  </tbody>\n",
              "</table>\n",
              "</div>"
            ],
            "text/plain": [
              "  INCIDENT_ID  MULTIPLE_OFFENSE\n",
              "0   CR_195453                 1\n",
              "1   CR_103520                 1\n",
              "2   CR_196089                 1\n",
              "3   CR_112195                 1\n",
              "4   CR_149832                 1"
            ]
          },
          "metadata": {
            "tags": []
          },
          "execution_count": 42
        }
      ]
    }
  ]
}