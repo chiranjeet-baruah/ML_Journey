{
  "nbformat": 4,
  "nbformat_minor": 0,
  "metadata": {
    "colab": {
      "name": "2_genetic_testing_modelling.ipynb",
      "provenance": [],
      "collapsed_sections": [],
      "authorship_tag": "ABX9TyM2uqvHyRwY+I0nDeT0OMou",
      "include_colab_link": true
    },
    "kernelspec": {
      "name": "python3",
      "display_name": "Python 3"
    },
    "language_info": {
      "name": "python"
    }
  },
  "cells": [
    {
      "cell_type": "markdown",
      "metadata": {
        "id": "view-in-github",
        "colab_type": "text"
      },
      "source": [
        "<a href=\"https://colab.research.google.com/github/chiranjeet14/ML_Journey/blob/master/Hackerearth-Predict-the-genetic-disorders/2_genetic_testing_modelling.ipynb\" target=\"_parent\"><img src=\"https://colab.research.google.com/assets/colab-badge.svg\" alt=\"Open In Colab\"/></a>"
      ]
    },
    {
      "cell_type": "code",
      "metadata": {
        "id": "YZqDAUPQGjQp"
      },
      "source": [
        "import pandas as pd\n",
        "import numpy as np\n",
        "import io\n",
        "import gc\n",
        "import time\n",
        "from pprint import pprint\n",
        "from datetime import date\n",
        "\n",
        "# settings\n",
        "import warnings\n",
        "warnings.filterwarnings(\"ignore\")\n",
        "gc.enable()"
      ],
      "execution_count": null,
      "outputs": []
    },
    {
      "cell_type": "code",
      "metadata": {
        "id": "2QSV4uKfTFSJ"
      },
      "source": [
        "# !pip3 install xgboost > /dev/null\n",
        "!pip3 install tune-sklearn ray[tune] > /dev/null"
      ],
      "execution_count": null,
      "outputs": []
    },
    {
      "cell_type": "code",
      "metadata": {
        "id": "jYJ9DYEiMP3B"
      },
      "source": [
        "# Global Variables\n",
        "random_state = 50"
      ],
      "execution_count": null,
      "outputs": []
    },
    {
      "cell_type": "code",
      "metadata": {
        "colab": {
          "base_uri": "https://localhost:8080/"
        },
        "id": "ao8Je0gBHpPb",
        "outputId": "38186722-1f96-4b7a-8171-18098316f89e"
      },
      "source": [
        "# connect to google drive\n",
        "from google.colab import drive\n",
        "drive.mount('/content/drive')"
      ],
      "execution_count": null,
      "outputs": [
        {
          "output_type": "stream",
          "text": [
            "Drive already mounted at /content/drive; to attempt to forcibly remount, call drive.mount(\"/content/drive\", force_remount=True).\n"
          ],
          "name": "stdout"
        }
      ]
    },
    {
      "cell_type": "code",
      "metadata": {
        "id": "mHqS8xVxHpzF"
      },
      "source": [
        "gDrivePath = '/content/drive/MyDrive/Datasets/Hackerearth_genetic_testing/dataset/'"
      ],
      "execution_count": null,
      "outputs": []
    },
    {
      "cell_type": "code",
      "metadata": {
        "id": "2V1L7Y8yHsMX"
      },
      "source": [
        "df_train = pd.read_csv(gDrivePath+'train_preprocessed.csv')\n",
        "df_test = pd.read_csv(gDrivePath+'test_preprocessed.csv')"
      ],
      "execution_count": null,
      "outputs": []
    },
    {
      "cell_type": "code",
      "metadata": {
        "colab": {
          "base_uri": "https://localhost:8080/"
        },
        "id": "Uc3mQKN0nzHm",
        "outputId": "01bca04c-01a1-41d9-895f-4e0ddb0a2b9e"
      },
      "source": [
        "df_train.shape"
      ],
      "execution_count": null,
      "outputs": [
        {
          "output_type": "execute_result",
          "data": {
            "text/plain": [
              "(18047, 32)"
            ]
          },
          "metadata": {
            "tags": []
          },
          "execution_count": 7
        }
      ]
    },
    {
      "cell_type": "code",
      "metadata": {
        "colab": {
          "base_uri": "https://localhost:8080/"
        },
        "id": "hbHSKc3on1Th",
        "outputId": "4b762727-3794-4de0-bb2b-da49fb59ccaf"
      },
      "source": [
        "df_test.shape"
      ],
      "execution_count": null,
      "outputs": [
        {
          "output_type": "execute_result",
          "data": {
            "text/plain": [
              "(9465, 30)"
            ]
          },
          "metadata": {
            "tags": []
          },
          "execution_count": 8
        }
      ]
    },
    {
      "cell_type": "code",
      "metadata": {
        "colab": {
          "base_uri": "https://localhost:8080/",
          "height": 372
        },
        "id": "iHIVQEfBnxw8",
        "outputId": "06a6d2c1-c06f-44a8-c72f-78a54fc7936a"
      },
      "source": [
        "df_train.sample(3)"
      ],
      "execution_count": null,
      "outputs": [
        {
          "output_type": "execute_result",
          "data": {
            "text/html": [
              "<div>\n",
              "<style scoped>\n",
              "    .dataframe tbody tr th:only-of-type {\n",
              "        vertical-align: middle;\n",
              "    }\n",
              "\n",
              "    .dataframe tbody tr th {\n",
              "        vertical-align: top;\n",
              "    }\n",
              "\n",
              "    .dataframe thead th {\n",
              "        text-align: right;\n",
              "    }\n",
              "</style>\n",
              "<table border=\"1\" class=\"dataframe\">\n",
              "  <thead>\n",
              "    <tr style=\"text-align: right;\">\n",
              "      <th></th>\n",
              "      <th>Patient Age</th>\n",
              "      <th>Genes in mother's side</th>\n",
              "      <th>Inherited from father</th>\n",
              "      <th>Maternal gene</th>\n",
              "      <th>Paternal gene</th>\n",
              "      <th>Blood cell count (mcL)</th>\n",
              "      <th>Mother's age</th>\n",
              "      <th>Father's age</th>\n",
              "      <th>Status</th>\n",
              "      <th>Respiratory Rate (breaths/min)</th>\n",
              "      <th>Heart Rate (rates/min</th>\n",
              "      <th>Follow-up</th>\n",
              "      <th>Gender</th>\n",
              "      <th>Birth asphyxia</th>\n",
              "      <th>Autopsy shows birth defect (if applicable)</th>\n",
              "      <th>Folic acid details (peri-conceptional)</th>\n",
              "      <th>H/O serious maternal illness</th>\n",
              "      <th>H/O radiation exposure (x-ray)</th>\n",
              "      <th>H/O substance abuse</th>\n",
              "      <th>Assisted conception IVF/ART</th>\n",
              "      <th>History of anomalies in previous pregnancies</th>\n",
              "      <th>No. of previous abortion</th>\n",
              "      <th>Birth defects</th>\n",
              "      <th>White Blood cell count (thousand per microliter)</th>\n",
              "      <th>Blood test result</th>\n",
              "      <th>Symptom 1</th>\n",
              "      <th>Symptom 2</th>\n",
              "      <th>Symptom 3</th>\n",
              "      <th>Symptom 4</th>\n",
              "      <th>Symptom 5</th>\n",
              "      <th>Genetic Disorder</th>\n",
              "      <th>Disorder Subclass</th>\n",
              "    </tr>\n",
              "  </thead>\n",
              "  <tbody>\n",
              "    <tr>\n",
              "      <th>17817</th>\n",
              "      <td>7.0</td>\n",
              "      <td>1.0</td>\n",
              "      <td>1.0</td>\n",
              "      <td>1.000000</td>\n",
              "      <td>0.0</td>\n",
              "      <td>5.004558</td>\n",
              "      <td>35.000000</td>\n",
              "      <td>33.000000</td>\n",
              "      <td>0.0</td>\n",
              "      <td>1.000000</td>\n",
              "      <td>1.0</td>\n",
              "      <td>1.000000</td>\n",
              "      <td>2.0</td>\n",
              "      <td>1.0</td>\n",
              "      <td>3.00000</td>\n",
              "      <td>2.000000</td>\n",
              "      <td>1.0</td>\n",
              "      <td>2.000000</td>\n",
              "      <td>2.0</td>\n",
              "      <td>2.0</td>\n",
              "      <td>1.0</td>\n",
              "      <td>2.000000</td>\n",
              "      <td>2.0</td>\n",
              "      <td>5.167524</td>\n",
              "      <td>3.0</td>\n",
              "      <td>1.0</td>\n",
              "      <td>1.0</td>\n",
              "      <td>1.000000</td>\n",
              "      <td>1.0</td>\n",
              "      <td>0.000000</td>\n",
              "      <td>Single-gene inheritance diseases</td>\n",
              "      <td>Cystic fibrosis</td>\n",
              "    </tr>\n",
              "    <tr>\n",
              "      <th>12699</th>\n",
              "      <td>1.0</td>\n",
              "      <td>1.0</td>\n",
              "      <td>1.0</td>\n",
              "      <td>0.591013</td>\n",
              "      <td>0.0</td>\n",
              "      <td>5.261566</td>\n",
              "      <td>34.581211</td>\n",
              "      <td>46.000000</td>\n",
              "      <td>0.0</td>\n",
              "      <td>1.000000</td>\n",
              "      <td>2.0</td>\n",
              "      <td>1.000000</td>\n",
              "      <td>2.0</td>\n",
              "      <td>1.0</td>\n",
              "      <td>3.00000</td>\n",
              "      <td>1.515392</td>\n",
              "      <td>1.0</td>\n",
              "      <td>2.000000</td>\n",
              "      <td>0.0</td>\n",
              "      <td>2.0</td>\n",
              "      <td>1.0</td>\n",
              "      <td>4.000000</td>\n",
              "      <td>1.0</td>\n",
              "      <td>8.723471</td>\n",
              "      <td>3.0</td>\n",
              "      <td>0.0</td>\n",
              "      <td>1.0</td>\n",
              "      <td>1.000000</td>\n",
              "      <td>0.0</td>\n",
              "      <td>0.473209</td>\n",
              "      <td>Mitochondrial genetic inheritance disorders</td>\n",
              "      <td>Mitochondrial myopathy</td>\n",
              "    </tr>\n",
              "    <tr>\n",
              "      <th>16746</th>\n",
              "      <td>12.0</td>\n",
              "      <td>1.0</td>\n",
              "      <td>1.0</td>\n",
              "      <td>1.000000</td>\n",
              "      <td>0.0</td>\n",
              "      <td>5.049086</td>\n",
              "      <td>26.000000</td>\n",
              "      <td>41.915359</td>\n",
              "      <td>1.0</td>\n",
              "      <td>1.514574</td>\n",
              "      <td>2.0</td>\n",
              "      <td>1.513893</td>\n",
              "      <td>1.0</td>\n",
              "      <td>3.0</td>\n",
              "      <td>2.23185</td>\n",
              "      <td>1.000000</td>\n",
              "      <td>2.0</td>\n",
              "      <td>2.248471</td>\n",
              "      <td>3.0</td>\n",
              "      <td>2.0</td>\n",
              "      <td>2.0</td>\n",
              "      <td>3.186316</td>\n",
              "      <td>1.0</td>\n",
              "      <td>6.519981</td>\n",
              "      <td>4.0</td>\n",
              "      <td>0.0</td>\n",
              "      <td>1.0</td>\n",
              "      <td>0.533342</td>\n",
              "      <td>1.0</td>\n",
              "      <td>0.000000</td>\n",
              "      <td>Mitochondrial genetic inheritance disorders</td>\n",
              "      <td>Leigh syndrome</td>\n",
              "    </tr>\n",
              "  </tbody>\n",
              "</table>\n",
              "</div>"
            ],
            "text/plain": [
              "       Patient Age  ...       Disorder Subclass\n",
              "17817          7.0  ...         Cystic fibrosis\n",
              "12699          1.0  ...  Mitochondrial myopathy\n",
              "16746         12.0  ...          Leigh syndrome\n",
              "\n",
              "[3 rows x 32 columns]"
            ]
          },
          "metadata": {
            "tags": []
          },
          "execution_count": 9
        }
      ]
    },
    {
      "cell_type": "markdown",
      "metadata": {
        "id": "tpQ8l4dcJINY"
      },
      "source": [
        "### Checking if the dataset is balanced/imbalanced - Genetic Disorder"
      ]
    },
    {
      "cell_type": "code",
      "metadata": {
        "colab": {
          "base_uri": "https://localhost:8080/"
        },
        "id": "6SRvLPY0JHZJ",
        "outputId": "ff1d6d25-b065-4e2b-900e-189dcfde2df0"
      },
      "source": [
        "target_count = df_train['Genetic Disorder'].value_counts()\n",
        "target_count"
      ],
      "execution_count": null,
      "outputs": [
        {
          "output_type": "execute_result",
          "data": {
            "text/plain": [
              "Mitochondrial genetic inheritance disorders     9241\n",
              "Single-gene inheritance diseases                6929\n",
              "Multifactorial genetic inheritance disorders    1877\n",
              "Name: Genetic Disorder, dtype: int64"
            ]
          },
          "metadata": {
            "tags": []
          },
          "execution_count": 10
        }
      ]
    },
    {
      "cell_type": "markdown",
      "metadata": {
        "id": "eFUaIJTbJN3g"
      },
      "source": [
        "### Checking if the dataset is balanced/imbalanced - Disorder Subclass"
      ]
    },
    {
      "cell_type": "code",
      "metadata": {
        "colab": {
          "base_uri": "https://localhost:8080/"
        },
        "id": "SDi1bZkZJV4C",
        "outputId": "bb101adb-ca55-4c52-e472-2cc2116a8a2f"
      },
      "source": [
        "target_count = df_train['Disorder Subclass'].value_counts()\n",
        "target_count"
      ],
      "execution_count": null,
      "outputs": [
        {
          "output_type": "execute_result",
          "data": {
            "text/plain": [
              "Leigh syndrome                         4683\n",
              "Mitochondrial myopathy                 3971\n",
              "Cystic fibrosis                        3145\n",
              "Tay-Sachs                              2556\n",
              "Diabetes                               1653\n",
              "Hemochromatosis                        1228\n",
              "Leber's hereditary optic neuropathy     587\n",
              "Alzheimer's                             133\n",
              "Cancer                                   91\n",
              "Name: Disorder Subclass, dtype: int64"
            ]
          },
          "metadata": {
            "tags": []
          },
          "execution_count": 11
        }
      ]
    },
    {
      "cell_type": "markdown",
      "metadata": {
        "id": "6P0PsgHrKy3q"
      },
      "source": [
        "### Splitting Data into train-cv"
      ]
    },
    {
      "cell_type": "code",
      "metadata": {
        "id": "iKEYyoKFKyIt"
      },
      "source": [
        "genetic_disorder_labels = df_train['Genetic Disorder'].values\n",
        "disorder_subclass_labels = df_train['Disorder Subclass'].values\n",
        "\n",
        "df_train.drop(['Genetic Disorder','Disorder Subclass'], axis=1, inplace=True)\n",
        "df_test.drop(['Genetic Disorder','Disorder Subclass'], axis=1, inplace=True, errors='ignore')"
      ],
      "execution_count": null,
      "outputs": []
    },
    {
      "cell_type": "code",
      "metadata": {
        "id": "w65GhrnVLy3T"
      },
      "source": [
        "# classification split for genetic_disorder_labels\n",
        "from sklearn.model_selection import train_test_split\n",
        "X_train_genetic_disorder, X_cv_genetic_disorder, y_train_genetic_disorder, y_cv_genetic_disorder = train_test_split(df_train, genetic_disorder_labels, test_size=0.1, random_state=random_state)\n",
        "\n",
        "# classification split for disorder_subclass_labels\n",
        "X_train_disorder_subclass, X_cv_disorder_subclass, y_train_disorder_subclass, y_cv_disorder_subclass = train_test_split(df_train, disorder_subclass_labels, test_size=0.1, random_state=random_state)"
      ],
      "execution_count": null,
      "outputs": []
    },
    {
      "cell_type": "markdown",
      "metadata": {
        "id": "q59sdiq5MyqB"
      },
      "source": [
        "### Over Sampling using SMOTE for Genetic Disorder"
      ]
    },
    {
      "cell_type": "code",
      "metadata": {
        "colab": {
          "base_uri": "https://localhost:8080/"
        },
        "id": "ZvckV6OAMsug",
        "outputId": "10dd253d-9233-4111-ba66-60b4be5c9e4d"
      },
      "source": [
        "# https://machinelearningmastery.com/smote-oversampling-for-imbalanced-classification/\n",
        "from imblearn.over_sampling import SMOTE\n",
        "smote_overSampling = SMOTE()\n",
        "X_train_genetic_disorder,y_train_genetic_disorder = smote_overSampling.fit_resample(X_train_genetic_disorder,y_train_genetic_disorder)\n",
        "unique, counts = np.unique(y_train_genetic_disorder, return_counts=True)\n",
        "dict(zip(unique, counts))"
      ],
      "execution_count": null,
      "outputs": [
        {
          "output_type": "execute_result",
          "data": {
            "text/plain": [
              "{'Mitochondrial genetic inheritance disorders': 8309,\n",
              " 'Multifactorial genetic inheritance disorders': 8309,\n",
              " 'Single-gene inheritance diseases': 8309}"
            ]
          },
          "metadata": {
            "tags": []
          },
          "execution_count": 14
        }
      ]
    },
    {
      "cell_type": "markdown",
      "metadata": {
        "id": "jJMu3Z9dM-lF"
      },
      "source": [
        "### Over Sampling using SMOTE for Disorder Subclass"
      ]
    },
    {
      "cell_type": "code",
      "metadata": {
        "colab": {
          "base_uri": "https://localhost:8080/"
        },
        "id": "ldGwCFYrM3w8",
        "outputId": "8d2b11c1-3ab8-4053-ff38-b9c35a94551e"
      },
      "source": [
        "# https://machinelearningmastery.com/smote-oversampling-for-imbalanced-classification/\n",
        "from imblearn.over_sampling import SMOTE\n",
        "smote_overSampling = SMOTE()\n",
        "X_train_disorder_subclass,y_train_disorder_subclass = smote_overSampling.fit_resample(X_train_disorder_subclass,y_train_disorder_subclass)\n",
        "unique, counts = np.unique(y_train_disorder_subclass, return_counts=True)\n",
        "dict(zip(unique, counts))"
      ],
      "execution_count": null,
      "outputs": [
        {
          "output_type": "execute_result",
          "data": {
            "text/plain": [
              "{\"Alzheimer's\": 4192,\n",
              " 'Cancer': 4192,\n",
              " 'Cystic fibrosis': 4192,\n",
              " 'Diabetes': 4192,\n",
              " 'Hemochromatosis': 4192,\n",
              " \"Leber's hereditary optic neuropathy\": 4192,\n",
              " 'Leigh syndrome': 4192,\n",
              " 'Mitochondrial myopathy': 4192,\n",
              " 'Tay-Sachs': 4192}"
            ]
          },
          "metadata": {
            "tags": []
          },
          "execution_count": 15
        }
      ]
    },
    {
      "cell_type": "markdown",
      "metadata": {
        "id": "JBHlnUT5OO11"
      },
      "source": [
        "### Scaling data : genetic_disorder"
      ]
    },
    {
      "cell_type": "code",
      "metadata": {
        "id": "uLToZJYEOV6c"
      },
      "source": [
        "from sklearn.preprocessing import StandardScaler\n",
        "scaler = StandardScaler()\n",
        "X_train_genetic_disorder_scaled = scaler.fit_transform(X_train_genetic_disorder)\n",
        "X_cv_genetic_disorder_scaled = scaler.transform(X_cv_genetic_disorder)\n",
        "\n",
        "X_test_scaled = scaler.transform(df_test)\n",
        "\n",
        "# X_train_genetic_disorder_scaled"
      ],
      "execution_count": null,
      "outputs": []
    },
    {
      "cell_type": "markdown",
      "metadata": {
        "id": "CBbxW-A_OWiO"
      },
      "source": [
        "### Scaling data : disorder_subclass"
      ]
    },
    {
      "cell_type": "code",
      "metadata": {
        "id": "SZjk0FkpOXam"
      },
      "source": [
        "from sklearn.preprocessing import StandardScaler\n",
        "scaler = StandardScaler()\n",
        "X_train_disorder_subclass_scaled = scaler.fit_transform(X_train_disorder_subclass)\n",
        "X_cv_disorder_subclass_scaled = scaler.transform(X_cv_disorder_subclass)\n",
        "\n",
        "X_test_scaled = scaler.transform(df_test)\n",
        "\n",
        "# X_train_disorder_subclass_scaled"
      ],
      "execution_count": null,
      "outputs": []
    },
    {
      "cell_type": "markdown",
      "metadata": {
        "id": "qmttNO-jQzEl"
      },
      "source": [
        "### Modelling & Cross-Validation for genetic_disorder"
      ]
    },
    {
      "cell_type": "code",
      "metadata": {
        "id": "_xhWojIaQjF5"
      },
      "source": [
        "# %%time\n",
        "# # Train multiple models : https://www.kaggle.com/tflare/testing-multiple-models-with-scikit-learn-0-79425\n",
        "# from sklearn.linear_model import LogisticRegression\n",
        "# from sklearn.svm import SVC, LinearSVC\n",
        "# from sklearn.neighbors import KNeighborsClassifier\n",
        "# from sklearn.tree import DecisionTreeClassifier\n",
        "# from sklearn.ensemble import RandomForestClassifier\n",
        "# from sklearn.ensemble import AdaBoostClassifier\n",
        "# from sklearn.ensemble import BaggingClassifier\n",
        "# from sklearn.ensemble import ExtraTreesClassifier\n",
        "# from sklearn.ensemble import GradientBoostingClassifier\n",
        "# from sklearn.linear_model import LogisticRegressionCV\n",
        "# from xgboost import XGBClassifier\n",
        "\n",
        "# from sklearn.model_selection import cross_val_score\n",
        "\n",
        "# models = []\n",
        "\n",
        "# # LogisticRegression = LogisticRegression(n_jobs=-1)\n",
        "# # LinearSVC = LinearSVC()\n",
        "# # KNeighbors = KNeighborsClassifier(n_jobs=-1)\n",
        "# # DecisionTree = DecisionTreeClassifier()\n",
        "# # AdaBoost = AdaBoostClassifier()\n",
        "# # Bagging = BaggingClassifier()\n",
        "# # GradientBoosting = GradientBoostingClassifier()\n",
        "# # LogisticRegressionCV = LogisticRegressionCV(n_jobs=-1)\n",
        "# # XGBClassifier = XGBClassifier(nthread=-1)\n",
        "# RandomForest = RandomForestClassifier()\n",
        "# ExtraTrees = ExtraTreesClassifier()\n",
        "\n",
        "# # models.append((\"LogisticRegression\",LogisticRegression))\n",
        "# # models.append((\"LinearSVC\", LinearSVC))\n",
        "# # models.append((\"KNeighbors\", KNeighbors))\n",
        "# # models.append((\"DecisionTree\", DecisionTree))\n",
        "# # models.append((\"AdaBoost\", AdaBoost))\n",
        "# # models.append((\"Bagging\", Bagging))\n",
        "# # models.append((\"GradientBoosting\", GradientBoosting))\n",
        "# # models.append((\"LogisticRegressionCV\", LogisticRegressionCV))\n",
        "# # models.append((\"XGBClassifier\", XGBClassifier))\n",
        "# models.append((\"RandomForest\", RandomForest))\n",
        "# models.append((\"ExtraTrees\", ExtraTrees))\n",
        "\n",
        "# # metric_names = ['f1', 'average_precision', 'accuracy', 'precision', 'recall']\n",
        "# metric_names = ['f1_weighted']\n",
        "# results = []\n",
        "# names = []\n",
        "\n",
        "# nested_dict = {}\n",
        "\n",
        "# for name,model in models:\n",
        "#   nested_dict[name] = {}\n",
        "#   for metric in metric_names:\n",
        "#     print(\"\\nRunning : {}, with metric : {}\".format(name, metric))\n",
        "#     score = cross_val_score(model, X_train_genetic_disorder_scaled, y_train_genetic_disorder, n_jobs=-1, scoring=metric, cv=5)\n",
        "#     nested_dict[name][metric] = score.mean()"
      ],
      "execution_count": null,
      "outputs": []
    },
    {
      "cell_type": "code",
      "metadata": {
        "id": "b0D7eSXURHwg"
      },
      "source": [
        "# import json\n",
        "# print(json.dumps(nested_dict, sort_keys=True, indent=4))"
      ],
      "execution_count": null,
      "outputs": []
    },
    {
      "cell_type": "markdown",
      "metadata": {
        "id": "yj3fgrQuQ5FK"
      },
      "source": [
        "### Modelling & Cross-Validation for disorder_subclass"
      ]
    },
    {
      "cell_type": "code",
      "metadata": {
        "id": "hPgP7ZSuQ-ix"
      },
      "source": [
        "# %%time\n",
        "# # Train multiple models : https://www.kaggle.com/tflare/testing-multiple-models-with-scikit-learn-0-79425\n",
        "# from sklearn.linear_model import LogisticRegression\n",
        "# from sklearn.svm import SVC, LinearSVC\n",
        "# from sklearn.neighbors import KNeighborsClassifier\n",
        "# from sklearn.tree import DecisionTreeClassifier\n",
        "# from sklearn.ensemble import RandomForestClassifier\n",
        "# from sklearn.ensemble import AdaBoostClassifier\n",
        "# from sklearn.ensemble import BaggingClassifier\n",
        "# from sklearn.ensemble import ExtraTreesClassifier\n",
        "# from sklearn.ensemble import GradientBoostingClassifier\n",
        "# from sklearn.linear_model import LogisticRegressionCV\n",
        "# from xgboost import XGBClassifier\n",
        "\n",
        "# from sklearn.model_selection import cross_val_score\n",
        "\n",
        "# models = []\n",
        "\n",
        "# # LogisticRegression = LogisticRegression(n_jobs=-1)\n",
        "# # LinearSVC = LinearSVC()\n",
        "# # KNeighbors = KNeighborsClassifier(n_jobs=-1)\n",
        "# # DecisionTree = DecisionTreeClassifier()\n",
        "# # AdaBoost = AdaBoostClassifier()\n",
        "# # Bagging = BaggingClassifier()\n",
        "# # GradientBoosting = GradientBoostingClassifier()\n",
        "# # LogisticRegressionCV = LogisticRegressionCV(n_jobs=-1)\n",
        "# # XGBClassifier = XGBClassifier(nthread=-1)\n",
        "# RandomForest = RandomForestClassifier()\n",
        "# ExtraTrees = ExtraTreesClassifier()\n",
        "\n",
        "# # models.append((\"LogisticRegression\",LogisticRegression))\n",
        "# # models.append((\"LinearSVC\", LinearSVC))\n",
        "# # models.append((\"KNeighbors\", KNeighbors))\n",
        "# # models.append((\"DecisionTree\", DecisionTree))\n",
        "# # models.append((\"AdaBoost\", AdaBoost))\n",
        "# # models.append((\"Bagging\", Bagging))\n",
        "# # models.append((\"GradientBoosting\", GradientBoosting))\n",
        "# # models.append((\"LogisticRegressionCV\", LogisticRegressionCV))\n",
        "# # models.append((\"XGBClassifier\", XGBClassifier))\n",
        "# models.append((\"RandomForest\", RandomForest))\n",
        "# models.append((\"ExtraTrees\", ExtraTrees))\n",
        "\n",
        "# # metric_names = ['f1', 'average_precision', 'accuracy', 'precision', 'recall']\n",
        "# metric_names = ['f1_weighted']\n",
        "# results = []\n",
        "# names = []\n",
        "\n",
        "# nested_dict = {}\n",
        "\n",
        "# for name,model in models:\n",
        "#   nested_dict[name] = {}\n",
        "#   for metric in metric_names:\n",
        "#     print(\"\\nRunning : {}, with metric : {}\".format(name, metric))\n",
        "#     score = cross_val_score(model, X_train_disorder_subclass_scaled, y_train_disorder_subclass, n_jobs=-1, scoring=metric, cv=5)\n",
        "#     nested_dict[name][metric] = score.mean()"
      ],
      "execution_count": null,
      "outputs": []
    },
    {
      "cell_type": "code",
      "metadata": {
        "id": "N0VjZmR3XBj3"
      },
      "source": [
        "# import json\n",
        "# print(json.dumps(nested_dict, sort_keys=True, indent=4))"
      ],
      "execution_count": null,
      "outputs": []
    },
    {
      "cell_type": "markdown",
      "metadata": {
        "id": "xbvSl0QsXVD7"
      },
      "source": [
        "### Hyperparameter tuning"
      ]
    },
    {
      "cell_type": "markdown",
      "metadata": {
        "id": "APU3Dc3hXywl"
      },
      "source": [
        "#### Tuning for : genetic_disorder"
      ]
    },
    {
      "cell_type": "code",
      "metadata": {
        "id": "bB6TBzLX0gLh"
      },
      "source": [
        "# from sklearn.model_selection import GridSearchCV\n",
        "from tune_sklearn import TuneGridSearchCV\n",
        "\n",
        "from sklearn.ensemble import ExtraTreesClassifier\n",
        "\n",
        "# model_classifier = ExtraTreesClassifier(max_depth=15, n_estimators=400)\n",
        "model_classifier = ExtraTreesClassifier(criterion='gini', bootstrap=False, max_features='auto', warm_start=False)\n",
        "\n",
        "\n",
        "# # Best Params: {'criterion': 'gini', 'max_depth': 15, 'bootstrap': False, 'max_features': 'auto', 'warm_start': False, 'n_estimators': 400}\n",
        "# Parameters to tune:\n",
        "parameters = {\n",
        "    'n_estimators': np.arange(100, 3000, 100, dtype=int),\n",
        "    'max_depth': np.arange(5, 16, 1, dtype=int),\n",
        "    # 'criterion': ['gini', 'entropy'],\n",
        "    # 'bootstrap': [True, False],\n",
        "    # 'max_features': ['auto', 'sqrt', 'log2'],\n",
        "    # 'warm_start': [True, False],\n",
        "}\n",
        "tune_search_genetic_disorder = TuneGridSearchCV(\n",
        "    model_classifier,\n",
        "    parameters,\n",
        "    scoring='f1_weighted',\n",
        "    verbose=1,\n",
        "    n_jobs=-1,\n",
        ")"
      ],
      "execution_count": null,
      "outputs": []
    },
    {
      "cell_type": "code",
      "metadata": {
        "colab": {
          "base_uri": "https://localhost:8080/",
          "height": 173
        },
        "id": "yqRUp-x9dYLX",
        "outputId": "9c26daf1-f280-4dbb-de00-8389edb6d452"
      },
      "source": [
        "tune_search_genetic_disorder.fit(X_train_genetic_disorder_scaled, y_train_genetic_disorder)\n",
        "\n",
        "pred = tune_search_genetic_disorder.predict(X_cv_genetic_disorder_scaled)\n",
        "accuracy = np.count_nonzero(np.array(pred) == np.array(y_cv_genetic_disorder)) / len(pred)\n",
        "print(\"Tune Accuracy:\", accuracy)"
      ],
      "execution_count": null,
      "outputs": [
        {
          "output_type": "display_data",
          "data": {
            "text/html": [
              "== Status ==<br>Memory usage on this node: 1.6/12.7 GiB<br>Using FIFO scheduling algorithm.<br>Resources requested: 2.0/2 CPUs, 0/0 GPUs, 0.0/7.34 GiB heap, 0.0/3.67 GiB objects (0.0/1.0 CPU_group_be844eab16b71b62932ace6a1b4185d0, 0.0/1.0 CPU_group_82bfec141054dbaed0330e4af84e8970, 0.0/1.0 CPU_group_0_82bfec141054dbaed0330e4af84e8970, 0.0/1.0 CPU_group_0_be844eab16b71b62932ace6a1b4185d0)<br>Current best trial: 091a3_00252 with average_test_score=0.6852897789698161 and parameters={'n_estimators': 2300, 'max_depth': 15}<br>Result logdir: /root/ray_results/_Trainable_2021-07-29_18-37-32<br>Number of trials: 278/319 (16 PENDING, 2 RUNNING, 260 TERMINATED)<br><br>"
            ],
            "text/plain": [
              "<IPython.core.display.HTML object>"
            ]
          },
          "metadata": {
            "tags": []
          }
        }
      ]
    },
    {
      "cell_type": "code",
      "metadata": {
        "id": "KKf3sHuQ0Vab"
      },
      "source": [
        "print(\"Best Params:\", tune_search_genetic_disorder.best_params_)"
      ],
      "execution_count": null,
      "outputs": []
    },
    {
      "cell_type": "markdown",
      "metadata": {
        "id": "Y7lJKeumX5uX"
      },
      "source": [
        "#### Tuning for : disorder_subclass"
      ]
    },
    {
      "cell_type": "code",
      "metadata": {
        "id": "H90ItngC0nO7"
      },
      "source": [
        "# from sklearn.model_selection import GridSearchCV\n",
        "from tune_sklearn import TuneGridSearchCV\n",
        "\n",
        "from sklearn.ensemble import ExtraTreesClassifier\n",
        "\n",
        "# model_classifier = ExtraTreesClassifier(max_depth=15, n_estimators=400)\n",
        "model_classifier = ExtraTreesClassifier(criterion='entropy', bootstrap=False, max_features='log2', warm_start=True)\n",
        "\n",
        "## Best Params: {'criterion': 'entropy', 'max_depth': 15, 'bootstrap': False, 'max_features': 'log2', 'warm_start': True}\n",
        "# Parameters to tune:\n",
        "parameters = {\n",
        "    'n_estimators': np.arange(100, 3000, 100, dtype=int),\n",
        "    'max_depth': np.arange(5, 16, 1, dtype=int),\n",
        "    # 'criterion': ['gini', 'entropy'],\n",
        "    # 'bootstrap': [True, False],\n",
        "    # 'max_features': ['auto', 'sqrt', 'log2'],\n",
        "    # 'warm_start': [True, False],\n",
        "}\n",
        "tune_search_disorder_subclass = TuneGridSearchCV(\n",
        "    model_classifier,\n",
        "    parameters,\n",
        "    scoring='f1_weighted',\n",
        "    verbose=1,\n",
        "    n_jobs=-1,\n",
        ")"
      ],
      "execution_count": null,
      "outputs": []
    },
    {
      "cell_type": "code",
      "metadata": {
        "id": "kTjEn7H2dXNe"
      },
      "source": [
        "tune_search_disorder_subclass.fit(X_train_disorder_subclass_scaled, y_train_disorder_subclass)"
      ],
      "execution_count": null,
      "outputs": []
    },
    {
      "cell_type": "code",
      "metadata": {
        "id": "osig17ccS27E"
      },
      "source": [
        "# Check accuracy\n",
        "pred = tune_search_disorder_subclass.predict(X_cv_disorder_subclass_scaled)\n",
        "accuracy = np.count_nonzero(np.array(pred) == np.array(y_cv_disorder_subclass)) / len(pred)\n",
        "print(\"Tune Accuracy:\", accuracy)"
      ],
      "execution_count": null,
      "outputs": []
    },
    {
      "cell_type": "code",
      "metadata": {
        "id": "5yRPgYJcz5qy"
      },
      "source": [
        "print(\"Best Params:\", tune_search_disorder_subclass.best_params_)"
      ],
      "execution_count": null,
      "outputs": []
    },
    {
      "cell_type": "code",
      "metadata": {
        "id": "1syQnqZbfltX"
      },
      "source": [
        "import joblib\n",
        "joblib.dump(tune_search_genetic_disorder, 'genetic_disorder_model.pkl')"
      ],
      "execution_count": null,
      "outputs": []
    },
    {
      "cell_type": "code",
      "metadata": {
        "id": "Nd0B6Zkggs4w"
      },
      "source": [
        "joblib.dump(tune_search_disorder_subclass, 'disorder_subclass_model.pkl')"
      ],
      "execution_count": null,
      "outputs": []
    },
    {
      "cell_type": "code",
      "metadata": {
        "id": "rvTHtSDfgXE2"
      },
      "source": [
        "trained_model_genetic_disorder = joblib.load('genetic_disorder_model.pkl')\n",
        "trained_model_disorder_subclass = joblib.load('disorder_subclass_model.pkl')"
      ],
      "execution_count": null,
      "outputs": []
    },
    {
      "cell_type": "markdown",
      "metadata": {
        "id": "gZlfkzCoq3x9"
      },
      "source": [
        "### Predicting on CV data"
      ]
    },
    {
      "cell_type": "code",
      "metadata": {
        "id": "iqlEePbIq8MP"
      },
      "source": [
        "# "
      ],
      "execution_count": null,
      "outputs": []
    },
    {
      "cell_type": "markdown",
      "metadata": {
        "id": "Wzr_PMdih7Qo"
      },
      "source": [
        "### Predicting on test Data"
      ]
    },
    {
      "cell_type": "code",
      "metadata": {
        "id": "eWy1j-HvgbqF"
      },
      "source": [
        "predictions_genetic_disorder_test = trained_model_genetic_disorder.predict(X_test_scaled)\n",
        "predictions_disorder_subclass_test = trained_model_disorder_subclass.predict(X_test_scaled)"
      ],
      "execution_count": null,
      "outputs": []
    },
    {
      "cell_type": "code",
      "metadata": {
        "id": "0krWqzw1jshy"
      },
      "source": [
        "len(predictions_genetic_disorder_test)"
      ],
      "execution_count": null,
      "outputs": []
    },
    {
      "cell_type": "code",
      "metadata": {
        "id": "Y0UocTQ4jwDV"
      },
      "source": [
        "len(predictions_disorder_subclass_test)"
      ],
      "execution_count": null,
      "outputs": []
    },
    {
      "cell_type": "code",
      "metadata": {
        "id": "yxIFVyuIizAj"
      },
      "source": [
        "read = pd.read_csv(gDrivePath + 'test.csv')\n",
        "read.shape"
      ],
      "execution_count": null,
      "outputs": []
    },
    {
      "cell_type": "code",
      "metadata": {
        "id": "ddlsJCQ9lxhP"
      },
      "source": [
        "submission = pd.DataFrame({\n",
        "        \"Patient Id\": read[\"Patient Id\"],\n",
        "        \"Genetic Disorder\": predictions_genetic_disorder_test,\n",
        "        \"Disorder Subclass\": predictions_disorder_subclass_test,\n",
        "    })"
      ],
      "execution_count": null,
      "outputs": []
    },
    {
      "cell_type": "code",
      "metadata": {
        "id": "af2VT91cjQyL"
      },
      "source": [
        "submission.head()"
      ],
      "execution_count": null,
      "outputs": []
    },
    {
      "cell_type": "code",
      "metadata": {
        "id": "eV2Kn-sWjjn5"
      },
      "source": [
        "submission.to_csv('submission.csv', index=False)"
      ],
      "execution_count": null,
      "outputs": []
    },
    {
      "cell_type": "code",
      "metadata": {
        "id": "C8_8Mtlb7gdO"
      },
      "source": [
        ""
      ],
      "execution_count": null,
      "outputs": []
    }
  ]
}