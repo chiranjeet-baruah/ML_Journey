{
  "nbformat": 4,
  "nbformat_minor": 0,
  "metadata": {
    "colab": {
      "name": "4_genetic_testing_autoML.ipynb",
      "provenance": [],
      "collapsed_sections": [],
      "authorship_tag": "ABX9TyPKS1zoVJV3VYvrqRmsD5DW",
      "include_colab_link": true
    },
    "kernelspec": {
      "name": "python3",
      "display_name": "Python 3"
    },
    "language_info": {
      "name": "python"
    }
  },
  "cells": [
    {
      "cell_type": "markdown",
      "metadata": {
        "id": "view-in-github",
        "colab_type": "text"
      },
      "source": [
        "<a href=\"https://colab.research.google.com/github/chiranjeet14/ML_Journey/blob/master/Hackerearth-Predict-the-genetic-disorders/4_genetic_testing_autoML.ipynb\" target=\"_parent\"><img src=\"https://colab.research.google.com/assets/colab-badge.svg\" alt=\"Open In Colab\"/></a>"
      ]
    },
    {
      "cell_type": "code",
      "metadata": {
        "colab": {
          "base_uri": "https://localhost:8080/"
        },
        "id": "X4r14AgJq25B",
        "outputId": "750d51f4-208c-48a9-f737-965d6cdf4de3"
      },
      "source": [
        "!python3 -m pip install --upgrade pip > /dev/null\n",
        "!pip3 install scikit-learn --upgrade > /dev/null\n",
        "!pip3 install pandas --upgrade > /dev/null\n",
        "!pip3 install numpy --upgrade > /dev/null"
      ],
      "execution_count": null,
      "outputs": [
        {
          "output_type": "stream",
          "text": [
            "\u001b[33mWARNING: Running pip as the 'root' user can result in broken permissions and conflicting behaviour with the system package manager. It is recommended to use a virtual environment instead: https://pip.pypa.io/warnings/venv\u001b[0m\n",
            "\u001b[33mWARNING: Running pip as the 'root' user can result in broken permissions and conflicting behaviour with the system package manager. It is recommended to use a virtual environment instead: https://pip.pypa.io/warnings/venv\u001b[0m\n",
            "\u001b[33mWARNING: Running pip as the 'root' user can result in broken permissions and conflicting behaviour with the system package manager. It is recommended to use a virtual environment instead: https://pip.pypa.io/warnings/venv\u001b[0m\n",
            "\u001b[33mWARNING: Running pip as the 'root' user can result in broken permissions and conflicting behaviour with the system package manager. It is recommended to use a virtual environment instead: https://pip.pypa.io/warnings/venv\u001b[0m\n"
          ],
          "name": "stdout"
        }
      ]
    },
    {
      "cell_type": "code",
      "metadata": {
        "colab": {
          "base_uri": "https://localhost:8080/"
        },
        "id": "oTKtccdbrFC4",
        "outputId": "68bf2e0c-34e9-4bf5-d2f4-6dc1b6d5c3e9"
      },
      "source": [
        "!curl https://raw.githubusercontent.com/automl/auto-sklearn/master/requirements.txt | xargs -n 1 -L 1 pip3 install > /dev/null\n",
        "!pip3 install auto-sklearn > /dev/null\n",
        "!pip3 install auto-sklearn --upgrade > /dev/null"
      ],
      "execution_count": null,
      "outputs": [
        {
          "output_type": "stream",
          "text": [
            "  % Total    % Received % Xferd  Average Speed   Time    Time     Time  Current\n",
            "                                 Dload  Upload   Total   Spent    Left  Speed\n",
            "100   249  100   249    0     0    849      0 --:--:-- --:--:-- --:--:--   846\n",
            "\u001b[33mWARNING: Running pip as the 'root' user can result in broken permissions and conflicting behaviour with the system package manager. It is recommended to use a virtual environment instead: https://pip.pypa.io/warnings/venv\u001b[0m\n",
            "\u001b[33mWARNING: Running pip as the 'root' user can result in broken permissions and conflicting behaviour with the system package manager. It is recommended to use a virtual environment instead: https://pip.pypa.io/warnings/venv\u001b[0m\n",
            "\u001b[33mWARNING: Running pip as the 'root' user can result in broken permissions and conflicting behaviour with the system package manager. It is recommended to use a virtual environment instead: https://pip.pypa.io/warnings/venv\u001b[0m\n",
            "\u001b[33mWARNING: Running pip as the 'root' user can result in broken permissions and conflicting behaviour with the system package manager. It is recommended to use a virtual environment instead: https://pip.pypa.io/warnings/venv\u001b[0m\n",
            "\u001b[33mWARNING: Running pip as the 'root' user can result in broken permissions and conflicting behaviour with the system package manager. It is recommended to use a virtual environment instead: https://pip.pypa.io/warnings/venv\u001b[0m\n",
            "\u001b[33mWARNING: Running pip as the 'root' user can result in broken permissions and conflicting behaviour with the system package manager. It is recommended to use a virtual environment instead: https://pip.pypa.io/warnings/venv\u001b[0m\n",
            "\u001b[33mWARNING: Running pip as the 'root' user can result in broken permissions and conflicting behaviour with the system package manager. It is recommended to use a virtual environment instead: https://pip.pypa.io/warnings/venv\u001b[0m\n",
            "\u001b[33mWARNING: Running pip as the 'root' user can result in broken permissions and conflicting behaviour with the system package manager. It is recommended to use a virtual environment instead: https://pip.pypa.io/warnings/venv\u001b[0m\n",
            "\u001b[33mWARNING: Running pip as the 'root' user can result in broken permissions and conflicting behaviour with the system package manager. It is recommended to use a virtual environment instead: https://pip.pypa.io/warnings/venv\u001b[0m\n",
            "\u001b[33mWARNING: Running pip as the 'root' user can result in broken permissions and conflicting behaviour with the system package manager. It is recommended to use a virtual environment instead: https://pip.pypa.io/warnings/venv\u001b[0m\n",
            "\u001b[33mWARNING: Running pip as the 'root' user can result in broken permissions and conflicting behaviour with the system package manager. It is recommended to use a virtual environment instead: https://pip.pypa.io/warnings/venv\u001b[0m\n",
            "\u001b[33mWARNING: Running pip as the 'root' user can result in broken permissions and conflicting behaviour with the system package manager. It is recommended to use a virtual environment instead: https://pip.pypa.io/warnings/venv\u001b[0m\n",
            "\u001b[33mWARNING: Running pip as the 'root' user can result in broken permissions and conflicting behaviour with the system package manager. It is recommended to use a virtual environment instead: https://pip.pypa.io/warnings/venv\u001b[0m\n",
            "\u001b[33mWARNING: Running pip as the 'root' user can result in broken permissions and conflicting behaviour with the system package manager. It is recommended to use a virtual environment instead: https://pip.pypa.io/warnings/venv\u001b[0m\n",
            "\u001b[33mWARNING: Running pip as the 'root' user can result in broken permissions and conflicting behaviour with the system package manager. It is recommended to use a virtual environment instead: https://pip.pypa.io/warnings/venv\u001b[0m\n",
            "\u001b[33mWARNING: Running pip as the 'root' user can result in broken permissions and conflicting behaviour with the system package manager. It is recommended to use a virtual environment instead: https://pip.pypa.io/warnings/venv\u001b[0m\n",
            "\u001b[33mWARNING: Running pip as the 'root' user can result in broken permissions and conflicting behaviour with the system package manager. It is recommended to use a virtual environment instead: https://pip.pypa.io/warnings/venv\u001b[0m\n",
            "\u001b[33mWARNING: Running pip as the 'root' user can result in broken permissions and conflicting behaviour with the system package manager. It is recommended to use a virtual environment instead: https://pip.pypa.io/warnings/venv\u001b[0m\n"
          ],
          "name": "stdout"
        }
      ]
    },
    {
      "cell_type": "code",
      "metadata": {
        "id": "-SvHqtTftRLI"
      },
      "source": [
        "import pandas as pd\n",
        "import numpy as np\n",
        "import io\n",
        "import gc\n",
        "import time\n",
        "from pprint import pprint\n",
        "from datetime import date\n",
        "\n",
        "# settings\n",
        "import warnings\n",
        "warnings.filterwarnings(\"ignore\")\n",
        "gc.enable()"
      ],
      "execution_count": null,
      "outputs": []
    },
    {
      "cell_type": "code",
      "metadata": {
        "colab": {
          "base_uri": "https://localhost:8080/"
        },
        "id": "XtE3m4Dfrjh5",
        "outputId": "2c727ce6-afd9-456f-943c-0d59ff5b483a"
      },
      "source": [
        "# connect to google drive\n",
        "from google.colab import drive\n",
        "drive.mount('/content/drive')"
      ],
      "execution_count": null,
      "outputs": [
        {
          "output_type": "stream",
          "text": [
            "Drive already mounted at /content/drive; to attempt to forcibly remount, call drive.mount(\"/content/drive\", force_remount=True).\n"
          ],
          "name": "stdout"
        }
      ]
    },
    {
      "cell_type": "code",
      "metadata": {
        "id": "jlCOBsJCrlbK"
      },
      "source": [
        "gDrivePath = '/content/drive/MyDrive/Datasets/Hackerearth_genetic_testing/dataset/'"
      ],
      "execution_count": null,
      "outputs": []
    },
    {
      "cell_type": "code",
      "metadata": {
        "id": "msMkunBNrphs"
      },
      "source": [
        "df_train = pd.read_csv(gDrivePath+'train_preprocessed.csv')\n",
        "df_test = pd.read_csv(gDrivePath+'test_preprocessed.csv')"
      ],
      "execution_count": null,
      "outputs": []
    },
    {
      "cell_type": "code",
      "metadata": {
        "colab": {
          "base_uri": "https://localhost:8080/",
          "height": 355
        },
        "id": "Tskoi9ZrrswV",
        "outputId": "bc4e9d55-72f8-48d2-b945-490d1bcfc7ea"
      },
      "source": [
        "df_train.sample(3)"
      ],
      "execution_count": null,
      "outputs": [
        {
          "output_type": "execute_result",
          "data": {
            "text/html": [
              "<div>\n",
              "<style scoped>\n",
              "    .dataframe tbody tr th:only-of-type {\n",
              "        vertical-align: middle;\n",
              "    }\n",
              "\n",
              "    .dataframe tbody tr th {\n",
              "        vertical-align: top;\n",
              "    }\n",
              "\n",
              "    .dataframe thead th {\n",
              "        text-align: right;\n",
              "    }\n",
              "</style>\n",
              "<table border=\"1\" class=\"dataframe\">\n",
              "  <thead>\n",
              "    <tr style=\"text-align: right;\">\n",
              "      <th></th>\n",
              "      <th>Patient Age</th>\n",
              "      <th>Genes in mother's side</th>\n",
              "      <th>Inherited from father</th>\n",
              "      <th>Maternal gene</th>\n",
              "      <th>Paternal gene</th>\n",
              "      <th>Blood cell count (mcL)</th>\n",
              "      <th>Mother's age</th>\n",
              "      <th>Father's age</th>\n",
              "      <th>Status</th>\n",
              "      <th>Respiratory Rate (breaths/min)</th>\n",
              "      <th>Heart Rate (rates/min</th>\n",
              "      <th>Follow-up</th>\n",
              "      <th>Gender</th>\n",
              "      <th>Birth asphyxia</th>\n",
              "      <th>Autopsy shows birth defect (if applicable)</th>\n",
              "      <th>Folic acid details (peri-conceptional)</th>\n",
              "      <th>H/O serious maternal illness</th>\n",
              "      <th>H/O radiation exposure (x-ray)</th>\n",
              "      <th>H/O substance abuse</th>\n",
              "      <th>Assisted conception IVF/ART</th>\n",
              "      <th>History of anomalies in previous pregnancies</th>\n",
              "      <th>No. of previous abortion</th>\n",
              "      <th>Birth defects</th>\n",
              "      <th>White Blood cell count (thousand per microliter)</th>\n",
              "      <th>Blood test result</th>\n",
              "      <th>Symptom 1</th>\n",
              "      <th>Symptom 2</th>\n",
              "      <th>Symptom 3</th>\n",
              "      <th>Symptom 4</th>\n",
              "      <th>Symptom 5</th>\n",
              "      <th>Genetic Disorder</th>\n",
              "      <th>Disorder Subclass</th>\n",
              "    </tr>\n",
              "  </thead>\n",
              "  <tbody>\n",
              "    <tr>\n",
              "      <th>461</th>\n",
              "      <td>13.0</td>\n",
              "      <td>1.0</td>\n",
              "      <td>0.0</td>\n",
              "      <td>0.584759</td>\n",
              "      <td>0.0</td>\n",
              "      <td>4.805470</td>\n",
              "      <td>40.0</td>\n",
              "      <td>41.91325</td>\n",
              "      <td>1.0</td>\n",
              "      <td>2.00000</td>\n",
              "      <td>2.000000</td>\n",
              "      <td>1.510835</td>\n",
              "      <td>2.0</td>\n",
              "      <td>1.0</td>\n",
              "      <td>2.0</td>\n",
              "      <td>2.0</td>\n",
              "      <td>2.0</td>\n",
              "      <td>2.280013</td>\n",
              "      <td>2.0</td>\n",
              "      <td>1.0</td>\n",
              "      <td>2.0</td>\n",
              "      <td>3.0</td>\n",
              "      <td>1.00000</td>\n",
              "      <td>5.836821</td>\n",
              "      <td>3.0</td>\n",
              "      <td>1.0</td>\n",
              "      <td>0.546332</td>\n",
              "      <td>1.0</td>\n",
              "      <td>0.0</td>\n",
              "      <td>0.0</td>\n",
              "      <td>Mitochondrial genetic inheritance disorders</td>\n",
              "      <td>Mitochondrial myopathy</td>\n",
              "    </tr>\n",
              "    <tr>\n",
              "      <th>9681</th>\n",
              "      <td>10.0</td>\n",
              "      <td>0.0</td>\n",
              "      <td>1.0</td>\n",
              "      <td>1.000000</td>\n",
              "      <td>0.0</td>\n",
              "      <td>4.722113</td>\n",
              "      <td>20.0</td>\n",
              "      <td>54.00000</td>\n",
              "      <td>1.0</td>\n",
              "      <td>1.52843</td>\n",
              "      <td>1.492788</td>\n",
              "      <td>1.000000</td>\n",
              "      <td>3.0</td>\n",
              "      <td>1.0</td>\n",
              "      <td>4.0</td>\n",
              "      <td>1.0</td>\n",
              "      <td>1.0</td>\n",
              "      <td>4.000000</td>\n",
              "      <td>3.0</td>\n",
              "      <td>2.0</td>\n",
              "      <td>2.0</td>\n",
              "      <td>1.0</td>\n",
              "      <td>1.49806</td>\n",
              "      <td>4.354147</td>\n",
              "      <td>2.0</td>\n",
              "      <td>1.0</td>\n",
              "      <td>1.000000</td>\n",
              "      <td>1.0</td>\n",
              "      <td>0.0</td>\n",
              "      <td>1.0</td>\n",
              "      <td>Single-gene inheritance diseases</td>\n",
              "      <td>Cystic fibrosis</td>\n",
              "    </tr>\n",
              "    <tr>\n",
              "      <th>2717</th>\n",
              "      <td>14.0</td>\n",
              "      <td>0.0</td>\n",
              "      <td>0.0</td>\n",
              "      <td>0.446868</td>\n",
              "      <td>0.0</td>\n",
              "      <td>4.896845</td>\n",
              "      <td>36.0</td>\n",
              "      <td>30.00000</td>\n",
              "      <td>0.0</td>\n",
              "      <td>2.00000</td>\n",
              "      <td>2.000000</td>\n",
              "      <td>2.000000</td>\n",
              "      <td>3.0</td>\n",
              "      <td>2.0</td>\n",
              "      <td>3.0</td>\n",
              "      <td>2.0</td>\n",
              "      <td>1.0</td>\n",
              "      <td>2.256200</td>\n",
              "      <td>4.0</td>\n",
              "      <td>2.0</td>\n",
              "      <td>1.0</td>\n",
              "      <td>1.0</td>\n",
              "      <td>1.00000</td>\n",
              "      <td>3.452216</td>\n",
              "      <td>4.0</td>\n",
              "      <td>1.0</td>\n",
              "      <td>0.000000</td>\n",
              "      <td>0.0</td>\n",
              "      <td>0.0</td>\n",
              "      <td>0.0</td>\n",
              "      <td>Single-gene inheritance diseases</td>\n",
              "      <td>Hemochromatosis</td>\n",
              "    </tr>\n",
              "  </tbody>\n",
              "</table>\n",
              "</div>"
            ],
            "text/plain": [
              "      Patient Age  ...       Disorder Subclass\n",
              "461          13.0  ...  Mitochondrial myopathy\n",
              "9681         10.0  ...         Cystic fibrosis\n",
              "2717         14.0  ...         Hemochromatosis\n",
              "\n",
              "[3 rows x 32 columns]"
            ]
          },
          "metadata": {
            "tags": []
          },
          "execution_count": 7
        }
      ]
    },
    {
      "cell_type": "code",
      "metadata": {
        "id": "gb8nodnRtZF5"
      },
      "source": [
        "df_train['GeneticDisorder-DisorderSubclass'] = df_train['Genetic Disorder'] + '<->' + df_train['Disorder Subclass']"
      ],
      "execution_count": null,
      "outputs": []
    },
    {
      "cell_type": "code",
      "metadata": {
        "id": "h_VeuVLZugfn"
      },
      "source": [
        "target_labels = df_train['GeneticDisorder-DisorderSubclass'].values\n",
        "\n",
        "df_train.drop(['Genetic Disorder','Disorder Subclass', 'GeneticDisorder-DisorderSubclass'], axis=1, inplace=True)\n",
        "df_test.drop(['Genetic Disorder','Disorder Subclass', 'GeneticDisorder-DisorderSubclass'], axis=1, inplace=True, errors='ignore')"
      ],
      "execution_count": null,
      "outputs": []
    },
    {
      "cell_type": "code",
      "metadata": {
        "id": "Q_Ui-ukCwW4n"
      },
      "source": [
        "# classification split for genetic_disorder_labels\n",
        "from sklearn.model_selection import train_test_split\n",
        "X_train, X_cv, y_train, y_cv = train_test_split(df_train, target_labels, test_size=0.1, random_state=50)"
      ],
      "execution_count": null,
      "outputs": []
    },
    {
      "cell_type": "code",
      "metadata": {
        "colab": {
          "base_uri": "https://localhost:8080/"
        },
        "id": "MZrHoHd2rbI4",
        "outputId": "885e18a9-4cba-4e11-cda2-b995c05ade76"
      },
      "source": [
        "from autosklearn.classification import AutoSklearnClassifier\n",
        "from autosklearn.metrics import f1_weighted\n",
        "\n",
        "cls = AutoSklearnClassifier(memory_limit=None, metric=f1_weighted)\n",
        "cls.fit(X_train, y_train)"
      ],
      "execution_count": null,
      "outputs": [
        {
          "output_type": "execute_result",
          "data": {
            "text/plain": [
              "AutoSklearnClassifier(memory_limit=None, metric=f1_weighted,\n",
              "                      per_run_time_limit=360)"
            ]
          },
          "metadata": {
            "tags": []
          },
          "execution_count": 17
        }
      ]
    },
    {
      "cell_type": "code",
      "metadata": {
        "colab": {
          "base_uri": "https://localhost:8080/"
        },
        "id": "eTJz1BTTC-bg",
        "outputId": "ae8bcfa5-0da4-4777-dfb6-424d307b3c96"
      },
      "source": [
        "run_key = list(cls.automl_.runhistory_.data.keys())[2]\n",
        "run_value = cls.automl_.runhistory_.data[run_key]\n",
        "\n",
        "print(f'Configuration ID: {run_key.config_id}')\n",
        "print(f'Instance: {run_key.instance_id}')\n",
        "print(f'Seed: {run_key.seed}')\n",
        "print(f'Budget: {run_key.budget}')\n",
        "\n",
        "print(cls.automl_.runhistory_.ids_config[run_key.config_id])"
      ],
      "execution_count": null,
      "outputs": [
        {
          "output_type": "stream",
          "text": [
            "Configuration ID: 3\n",
            "Instance: {\"task_id\": \"ef855d42-f22c-11eb-85a8-0242ac1c0002\"}\n",
            "Seed: 0\n",
            "Budget: 0.0\n",
            "Configuration:\n",
            "  balancing:strategy, Value: 'none'\n",
            "  classifier:__choice__, Value: 'lda'\n",
            "  classifier:lda:shrinkage, Value: 'auto'\n",
            "  classifier:lda:tol, Value: 0.018821286956948503\n",
            "  data_preprocessing:categorical_transformer:categorical_encoding:__choice__, Value: 'no_encoding'\n",
            "  data_preprocessing:categorical_transformer:category_coalescence:__choice__, Value: 'minority_coalescer'\n",
            "  data_preprocessing:categorical_transformer:category_coalescence:minority_coalescer:minimum_fraction, Value: 0.017839122072146087\n",
            "  data_preprocessing:numerical_transformer:imputation:strategy, Value: 'most_frequent'\n",
            "  data_preprocessing:numerical_transformer:rescaling:__choice__, Value: 'minmax'\n",
            "  feature_preprocessor:__choice__, Value: 'kitchen_sinks'\n",
            "  feature_preprocessor:kitchen_sinks:gamma, Value: 0.9170797845861378\n",
            "  feature_preprocessor:kitchen_sinks:n_components, Value: 1867\n",
            "\n"
          ],
          "name": "stdout"
        }
      ]
    },
    {
      "cell_type": "code",
      "metadata": {
        "id": "btsGaGgFDVsh"
      },
      "source": [
        "# cls.get_models_with_weights()"
      ],
      "execution_count": null,
      "outputs": []
    },
    {
      "cell_type": "code",
      "metadata": {
        "id": "NFidACJKEVAE"
      },
      "source": [
        "predictions_test = cls.predict(df_test)"
      ],
      "execution_count": null,
      "outputs": []
    },
    {
      "cell_type": "code",
      "metadata": {
        "colab": {
          "base_uri": "https://localhost:8080/"
        },
        "id": "rUGAV0vEE5Zk",
        "outputId": "acaccb5c-089e-46d4-92c8-06d17440efa5"
      },
      "source": [
        "predictions_test"
      ],
      "execution_count": null,
      "outputs": [
        {
          "output_type": "execute_result",
          "data": {
            "text/plain": [
              "array(['Multifactorial genetic inheritance disorders<->Diabetes',\n",
              "       'Single-gene inheritance diseases<->Tay-Sachs',\n",
              "       'Mitochondrial genetic inheritance disorders<->Mitochondrial myopathy',\n",
              "       ...,\n",
              "       'Mitochondrial genetic inheritance disorders<->Mitochondrial myopathy',\n",
              "       'Multifactorial genetic inheritance disorders<->Diabetes',\n",
              "       'Multifactorial genetic inheritance disorders<->Diabetes'],\n",
              "      dtype=object)"
            ]
          },
          "metadata": {
            "tags": []
          },
          "execution_count": 23
        }
      ]
    },
    {
      "cell_type": "code",
      "metadata": {
        "colab": {
          "base_uri": "https://localhost:8080/"
        },
        "id": "-SECVnlSE-Es",
        "outputId": "73cbed24-b059-4d89-fe12-d1aa886e5970"
      },
      "source": [
        "predictions_genetic_disorder_test = []\n",
        "predictions_disorder_subclass_test = []\n",
        "\n",
        "for myString in predictions_test:\n",
        "  genetic_disorder, disorder_subclass = myString.split('<->')\n",
        "  predictions_genetic_disorder_test.append(genetic_disorder) \n",
        "  predictions_disorder_subclass_test.append(disorder_subclass)\n",
        "\n",
        "print(\"length genetic_disorder list:\", len(predictions_genetic_disorder_test))\n",
        "print(\"length disorder_subclass list:\", len(predictions_disorder_subclass_test))"
      ],
      "execution_count": null,
      "outputs": [
        {
          "output_type": "stream",
          "text": [
            "length genetic_disorder list: 9465\n",
            "length disorder_subclass list: 9465\n"
          ],
          "name": "stdout"
        }
      ]
    },
    {
      "cell_type": "code",
      "metadata": {
        "colab": {
          "base_uri": "https://localhost:8080/"
        },
        "id": "_v5HVYDwFJT-",
        "outputId": "04250962-ed8d-490f-b7dc-4f501de8d3ed"
      },
      "source": [
        "read = pd.read_csv(gDrivePath + 'test.csv')\n",
        "read.shape"
      ],
      "execution_count": null,
      "outputs": [
        {
          "output_type": "execute_result",
          "data": {
            "text/plain": [
              "(9465, 43)"
            ]
          },
          "metadata": {
            "tags": []
          },
          "execution_count": 25
        }
      ]
    },
    {
      "cell_type": "code",
      "metadata": {
        "id": "fguWHf-RFMit"
      },
      "source": [
        "submission = pd.DataFrame({\n",
        "        \"Patient Id\": read[\"Patient Id\"],\n",
        "        \"Genetic Disorder\": predictions_genetic_disorder_test,\n",
        "        \"Disorder Subclass\": predictions_disorder_subclass_test,\n",
        "    })"
      ],
      "execution_count": null,
      "outputs": []
    },
    {
      "cell_type": "code",
      "metadata": {
        "colab": {
          "base_uri": "https://localhost:8080/",
          "height": 206
        },
        "id": "SwDFPib7FOyb",
        "outputId": "e17d6e69-eee1-4393-d807-b1dbb615afa1"
      },
      "source": [
        "submission.head()"
      ],
      "execution_count": null,
      "outputs": [
        {
          "output_type": "execute_result",
          "data": {
            "text/html": [
              "<div>\n",
              "<style scoped>\n",
              "    .dataframe tbody tr th:only-of-type {\n",
              "        vertical-align: middle;\n",
              "    }\n",
              "\n",
              "    .dataframe tbody tr th {\n",
              "        vertical-align: top;\n",
              "    }\n",
              "\n",
              "    .dataframe thead th {\n",
              "        text-align: right;\n",
              "    }\n",
              "</style>\n",
              "<table border=\"1\" class=\"dataframe\">\n",
              "  <thead>\n",
              "    <tr style=\"text-align: right;\">\n",
              "      <th></th>\n",
              "      <th>Patient Id</th>\n",
              "      <th>Genetic Disorder</th>\n",
              "      <th>Disorder Subclass</th>\n",
              "    </tr>\n",
              "  </thead>\n",
              "  <tbody>\n",
              "    <tr>\n",
              "      <th>0</th>\n",
              "      <td>PID0x4175</td>\n",
              "      <td>Multifactorial genetic inheritance disorders</td>\n",
              "      <td>Diabetes</td>\n",
              "    </tr>\n",
              "    <tr>\n",
              "      <th>1</th>\n",
              "      <td>PID0x21f5</td>\n",
              "      <td>Single-gene inheritance diseases</td>\n",
              "      <td>Tay-Sachs</td>\n",
              "    </tr>\n",
              "    <tr>\n",
              "      <th>2</th>\n",
              "      <td>PID0x49b8</td>\n",
              "      <td>Mitochondrial genetic inheritance disorders</td>\n",
              "      <td>Mitochondrial myopathy</td>\n",
              "    </tr>\n",
              "    <tr>\n",
              "      <th>3</th>\n",
              "      <td>PID0x2d97</td>\n",
              "      <td>Mitochondrial genetic inheritance disorders</td>\n",
              "      <td>Leigh syndrome</td>\n",
              "    </tr>\n",
              "    <tr>\n",
              "      <th>4</th>\n",
              "      <td>PID0x58da</td>\n",
              "      <td>Single-gene inheritance diseases</td>\n",
              "      <td>Cystic fibrosis</td>\n",
              "    </tr>\n",
              "  </tbody>\n",
              "</table>\n",
              "</div>"
            ],
            "text/plain": [
              "  Patient Id  ...       Disorder Subclass\n",
              "0  PID0x4175  ...                Diabetes\n",
              "1  PID0x21f5  ...               Tay-Sachs\n",
              "2  PID0x49b8  ...  Mitochondrial myopathy\n",
              "3  PID0x2d97  ...          Leigh syndrome\n",
              "4  PID0x58da  ...         Cystic fibrosis\n",
              "\n",
              "[5 rows x 3 columns]"
            ]
          },
          "metadata": {
            "tags": []
          },
          "execution_count": 27
        }
      ]
    },
    {
      "cell_type": "code",
      "metadata": {
        "id": "-mjaPZ-WFRPl"
      },
      "source": [
        "submission.to_csv('submission.csv', index=False)"
      ],
      "execution_count": null,
      "outputs": []
    }
  ]
}