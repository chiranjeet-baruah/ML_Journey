{
  "nbformat": 4,
  "nbformat_minor": 5,
  "metadata": {
    "kernelspec": {
      "display_name": "Python 3",
      "language": "python",
      "name": "python3"
    },
    "language_info": {
      "codemirror_mode": {
        "name": "ipython",
        "version": 3
      },
      "file_extension": ".py",
      "mimetype": "text/x-python",
      "name": "python",
      "nbconvert_exporter": "python",
      "pygments_lexer": "ipython3",
      "version": "3.8.6"
    },
    "colab": {
      "name": "Health-Insurance-Lead-Prediction.ipynb",
      "provenance": [],
      "include_colab_link": true
    }
  },
  "cells": [
    {
      "cell_type": "markdown",
      "metadata": {
        "id": "view-in-github",
        "colab_type": "text"
      },
      "source": [
        "<a href=\"https://colab.research.google.com/github/chiranjeet14/ML_Projects/blob/master/Competition/Health_Insurance_Lead_Prediction.ipynb\" target=\"_parent\"><img src=\"https://colab.research.google.com/assets/colab-badge.svg\" alt=\"Open In Colab\"/></a>"
      ]
    },
    {
      "cell_type": "code",
      "metadata": {
        "id": "automatic-consumption"
      },
      "source": [
        "import pandas as pd\n",
        "import numpy as np\n",
        "import io\n",
        "\n",
        "# settings\n",
        "import warnings\n",
        "warnings.filterwarnings(\"ignore\")"
      ],
      "id": "automatic-consumption",
      "execution_count": null,
      "outputs": []
    },
    {
      "cell_type": "code",
      "metadata": {
        "id": "accessible-diana"
      },
      "source": [
        "# Additional packages\n",
        "# !pip3 install category_encoders > /dev/null\n",
        "!pip3 install pandas_profiling > /dev/null\n",
        "!pip3 install imbalanced-learn > /dev/null\n",
        "!pip3 install xgboost > /dev/null"
      ],
      "id": "accessible-diana",
      "execution_count": null,
      "outputs": []
    },
    {
      "cell_type": "code",
      "metadata": {
        "id": "original-interval"
      },
      "source": [
        "!mkdir -p /home/jovyan/work/dataset\n",
        "!touch /home/jovyan/work/dataset/train-file.csv\n",
        "!touch /home/jovyan/work/dataset/test-file.csv"
      ],
      "id": "original-interval",
      "execution_count": null,
      "outputs": []
    },
    {
      "cell_type": "code",
      "metadata": {
        "id": "satellite-backup"
      },
      "source": [
        "import requests\n",
        "\n",
        "def download_file_from_google_drive(id, destination):\n",
        "    URL = \"https://docs.google.com/uc?export=download\"\n",
        "    session = requests.Session()\n",
        "    response = session.get(URL, params = { 'id' : id }, stream = True)\n",
        "    token = get_confirm_token(response)\n",
        "    if token:\n",
        "        params = { 'id' : id, 'confirm' : token }\n",
        "        response = session.get(URL, params = params, stream = True)\n",
        "    save_response_content(response, destination)    \n",
        "\n",
        "def get_confirm_token(response):\n",
        "    for key, value in response.cookies.items():\n",
        "        if key.startswith('download_warning'):\n",
        "            return value\n",
        "    return None\n",
        "\n",
        "def save_response_content(response, destination):\n",
        "    CHUNK_SIZE = 32768\n",
        "    with open(destination, \"wb\") as f:\n",
        "        for chunk in response.iter_content(CHUNK_SIZE):\n",
        "            if chunk: # filter out keep-alive new chunks\n",
        "                f.write(chunk)"
      ],
      "id": "satellite-backup",
      "execution_count": null,
      "outputs": []
    },
    {
      "cell_type": "code",
      "metadata": {
        "id": "curious-wisconsin"
      },
      "source": [
        "# Calculating Precision, Recall and f1-score\n",
        "def model_score(actual_value,predicted_values):\n",
        "  from sklearn.metrics import confusion_matrix \n",
        "  from sklearn.metrics import accuracy_score \n",
        "  from sklearn.metrics import classification_report \n",
        "  from sklearn.metrics import recall_score\n",
        "  from sklearn.metrics import roc_auc_score\n",
        "  \n",
        "  actual = actual_value\n",
        "  predicted = predicted_values\n",
        "  results = confusion_matrix(actual, predicted) \n",
        "  \n",
        "  print('Confusion Matrix :')\n",
        "  print(results) \n",
        "  print('Accuracy Score :',accuracy_score(actual, predicted))\n",
        "  print('Report : ')\n",
        "  print(classification_report(actual, predicted))\n",
        "  print('Recall Score : ')\n",
        "  print(recall_score(actual, predicted))\n",
        "  print('ROC AUC Score : ')\n",
        "  print(roc_auc_score(actual, predicted))"
      ],
      "id": "curious-wisconsin",
      "execution_count": null,
      "outputs": []
    },
    {
      "cell_type": "code",
      "metadata": {
        "id": "mental-walter"
      },
      "source": [
        "train_file_id = '1g4fy7o25PMf9veOyuiVdNIAyjfDGPT-N'\n",
        "test_file_id = '1fc0iGQHsS6oG4ARZCdlz1b_jFkOJWyqQ'\n",
        "train_destination = '/home/jovyan/work/dataset/train-file.csv'\n",
        "test_destination = '/home/jovyan/work/dataset/test-file.csv'\n",
        "download_file_from_google_drive(train_file_id, train_destination)\n",
        "download_file_from_google_drive(test_file_id, test_destination)"
      ],
      "id": "mental-walter",
      "execution_count": null,
      "outputs": []
    },
    {
      "cell_type": "code",
      "metadata": {
        "id": "delayed-spread",
        "outputId": "31df7fc1-e325-44c9-bbdb-2ce1f3a00267"
      },
      "source": [
        "df_train = pd.read_csv('/home/jovyan/work/dataset/train-file.csv')\n",
        "df_test = pd.read_csv('/home/jovyan/work/dataset/test-file.csv')\n",
        "df_train.head()"
      ],
      "id": "delayed-spread",
      "execution_count": null,
      "outputs": [
        {
          "output_type": "execute_result",
          "data": {
            "text/html": [
              "<div>\n",
              "<style scoped>\n",
              "    .dataframe tbody tr th:only-of-type {\n",
              "        vertical-align: middle;\n",
              "    }\n",
              "\n",
              "    .dataframe tbody tr th {\n",
              "        vertical-align: top;\n",
              "    }\n",
              "\n",
              "    .dataframe thead th {\n",
              "        text-align: right;\n",
              "    }\n",
              "</style>\n",
              "<table border=\"1\" class=\"dataframe\">\n",
              "  <thead>\n",
              "    <tr style=\"text-align: right;\">\n",
              "      <th></th>\n",
              "      <th>ID</th>\n",
              "      <th>City_Code</th>\n",
              "      <th>Region_Code</th>\n",
              "      <th>Accomodation_Type</th>\n",
              "      <th>Reco_Insurance_Type</th>\n",
              "      <th>Upper_Age</th>\n",
              "      <th>Lower_Age</th>\n",
              "      <th>Is_Spouse</th>\n",
              "      <th>Health Indicator</th>\n",
              "      <th>Holding_Policy_Duration</th>\n",
              "      <th>Holding_Policy_Type</th>\n",
              "      <th>Reco_Policy_Cat</th>\n",
              "      <th>Reco_Policy_Premium</th>\n",
              "      <th>Response</th>\n",
              "    </tr>\n",
              "  </thead>\n",
              "  <tbody>\n",
              "    <tr>\n",
              "      <th>0</th>\n",
              "      <td>1</td>\n",
              "      <td>C3</td>\n",
              "      <td>3213</td>\n",
              "      <td>Rented</td>\n",
              "      <td>Individual</td>\n",
              "      <td>36</td>\n",
              "      <td>36</td>\n",
              "      <td>No</td>\n",
              "      <td>X1</td>\n",
              "      <td>14+</td>\n",
              "      <td>3.0</td>\n",
              "      <td>22</td>\n",
              "      <td>11628.0</td>\n",
              "      <td>0</td>\n",
              "    </tr>\n",
              "    <tr>\n",
              "      <th>1</th>\n",
              "      <td>2</td>\n",
              "      <td>C5</td>\n",
              "      <td>1117</td>\n",
              "      <td>Owned</td>\n",
              "      <td>Joint</td>\n",
              "      <td>75</td>\n",
              "      <td>22</td>\n",
              "      <td>No</td>\n",
              "      <td>X2</td>\n",
              "      <td>NaN</td>\n",
              "      <td>NaN</td>\n",
              "      <td>22</td>\n",
              "      <td>30510.0</td>\n",
              "      <td>0</td>\n",
              "    </tr>\n",
              "    <tr>\n",
              "      <th>2</th>\n",
              "      <td>3</td>\n",
              "      <td>C5</td>\n",
              "      <td>3732</td>\n",
              "      <td>Owned</td>\n",
              "      <td>Individual</td>\n",
              "      <td>32</td>\n",
              "      <td>32</td>\n",
              "      <td>No</td>\n",
              "      <td>NaN</td>\n",
              "      <td>1.0</td>\n",
              "      <td>1.0</td>\n",
              "      <td>19</td>\n",
              "      <td>7450.0</td>\n",
              "      <td>1</td>\n",
              "    </tr>\n",
              "    <tr>\n",
              "      <th>3</th>\n",
              "      <td>4</td>\n",
              "      <td>C24</td>\n",
              "      <td>4378</td>\n",
              "      <td>Owned</td>\n",
              "      <td>Joint</td>\n",
              "      <td>52</td>\n",
              "      <td>48</td>\n",
              "      <td>No</td>\n",
              "      <td>X1</td>\n",
              "      <td>14+</td>\n",
              "      <td>3.0</td>\n",
              "      <td>19</td>\n",
              "      <td>17780.0</td>\n",
              "      <td>0</td>\n",
              "    </tr>\n",
              "    <tr>\n",
              "      <th>4</th>\n",
              "      <td>5</td>\n",
              "      <td>C8</td>\n",
              "      <td>2190</td>\n",
              "      <td>Rented</td>\n",
              "      <td>Individual</td>\n",
              "      <td>44</td>\n",
              "      <td>44</td>\n",
              "      <td>No</td>\n",
              "      <td>X2</td>\n",
              "      <td>3.0</td>\n",
              "      <td>1.0</td>\n",
              "      <td>16</td>\n",
              "      <td>10404.0</td>\n",
              "      <td>0</td>\n",
              "    </tr>\n",
              "  </tbody>\n",
              "</table>\n",
              "</div>"
            ],
            "text/plain": [
              "   ID City_Code  Region_Code Accomodation_Type Reco_Insurance_Type  Upper_Age  \\\n",
              "0   1        C3         3213            Rented          Individual         36   \n",
              "1   2        C5         1117             Owned               Joint         75   \n",
              "2   3        C5         3732             Owned          Individual         32   \n",
              "3   4       C24         4378             Owned               Joint         52   \n",
              "4   5        C8         2190            Rented          Individual         44   \n",
              "\n",
              "   Lower_Age Is_Spouse Health Indicator Holding_Policy_Duration  \\\n",
              "0         36        No               X1                     14+   \n",
              "1         22        No               X2                     NaN   \n",
              "2         32        No              NaN                     1.0   \n",
              "3         48        No               X1                     14+   \n",
              "4         44        No               X2                     3.0   \n",
              "\n",
              "   Holding_Policy_Type  Reco_Policy_Cat  Reco_Policy_Premium  Response  \n",
              "0                  3.0               22              11628.0         0  \n",
              "1                  NaN               22              30510.0         0  \n",
              "2                  1.0               19               7450.0         1  \n",
              "3                  3.0               19              17780.0         0  \n",
              "4                  1.0               16              10404.0         0  "
            ]
          },
          "metadata": {
            "tags": []
          },
          "execution_count": 7
        }
      ]
    },
    {
      "cell_type": "code",
      "metadata": {
        "id": "eastern-drawing"
      },
      "source": [
        "# from pandas_profiling import ProfileReport\n",
        "# report = ProfileReport(df_train, title='Pandas Profiling Report', explorative=True)\n",
        "# report"
      ],
      "id": "eastern-drawing",
      "execution_count": null,
      "outputs": []
    },
    {
      "cell_type": "code",
      "metadata": {
        "id": "proof-mortality",
        "outputId": "94a61018-1bc3-4a65-db6a-a999d4e9456b"
      },
      "source": [
        "df_train.isnull().any()"
      ],
      "id": "proof-mortality",
      "execution_count": null,
      "outputs": [
        {
          "output_type": "execute_result",
          "data": {
            "text/plain": [
              "ID                         False\n",
              "City_Code                  False\n",
              "Region_Code                False\n",
              "Accomodation_Type          False\n",
              "Reco_Insurance_Type        False\n",
              "Upper_Age                  False\n",
              "Lower_Age                  False\n",
              "Is_Spouse                  False\n",
              "Health Indicator            True\n",
              "Holding_Policy_Duration     True\n",
              "Holding_Policy_Type         True\n",
              "Reco_Policy_Cat            False\n",
              "Reco_Policy_Premium        False\n",
              "Response                   False\n",
              "dtype: bool"
            ]
          },
          "metadata": {
            "tags": []
          },
          "execution_count": 9
        }
      ]
    },
    {
      "cell_type": "markdown",
      "metadata": {
        "id": "catholic-magic"
      },
      "source": [
        "Health Indicator has 11691 (23.0%) missing values\n",
        "Holding_Policy_Duration has 20251 (39.8%) missing values\n",
        "Holding_Policy_Type has 20251 (39.8%) missing values\n",
        "\n",
        "Replacing them with a new category"
      ],
      "id": "catholic-magic"
    },
    {
      "cell_type": "code",
      "metadata": {
        "id": "mobile-grave"
      },
      "source": [
        "# df_train[['Health Indicator']] = df_train[['Health Indicator']].cat.add_categories(['X100'])\n",
        "# df_train[['Holding_Policy_Duration']] = df_train[['Holding_Policy_Duration']].cat.add_categories(['100'])\n",
        "# df_train[['Holding_Policy_Type']] = df_train[['Holding_Policy_Type']].cat.add_categories(['10'])\n",
        "\n",
        "df_train['Health Indicator'].fillna('X100', inplace=True)\n",
        "df_train['Holding_Policy_Duration'].fillna('100', inplace=True)\n",
        "df_train['Holding_Policy_Type'].fillna('10', inplace=True)\n",
        "\n",
        "df_test['Health Indicator'].fillna('X100', inplace=True)\n",
        "df_test['Holding_Policy_Duration'].fillna('100', inplace=True)\n",
        "df_test['Holding_Policy_Type'].fillna('10', inplace=True)"
      ],
      "id": "mobile-grave",
      "execution_count": null,
      "outputs": []
    },
    {
      "cell_type": "code",
      "metadata": {
        "id": "surface-electric"
      },
      "source": [
        "# all_columns = ['City_Code', 'Region_Code', 'Accomodation_Type', 'Reco_Insurance_Type', 'Upper_Age', 'Lower_Age', 'Is_Spouse', 'Health Indicator  Holding_Policy_Duration', 'Holding_Policy_Type', 'Reco_Policy_Cat', 'Reco_Policy_Premium']\n",
        "\n",
        "categorical_columns_list = ['City_Code', 'Region_Code', 'Accomodation_Type', 'Reco_Insurance_Type', 'Is_Spouse', 'Health Indicator', 'Holding_Policy_Duration', 'Holding_Policy_Type', 'Reco_Policy_Cat']\n",
        "numerical_cloumns_list = ['Upper_Age', 'Lower_Age', 'Reco_Policy_Premium']"
      ],
      "id": "surface-electric",
      "execution_count": null,
      "outputs": []
    },
    {
      "cell_type": "markdown",
      "metadata": {
        "id": "global-correction"
      },
      "source": [
        "### Encoding Categorical Variables"
      ],
      "id": "global-correction"
    },
    {
      "cell_type": "code",
      "metadata": {
        "id": "functioning-harbor"
      },
      "source": [
        "from sklearn import preprocessing\n",
        "\n",
        "label_object = {}\n",
        "categorical_columns = categorical_columns_list\n",
        "for col in categorical_columns:\n",
        "    labelencoder = preprocessing.LabelEncoder()\n",
        "    labelencoder.fit(df_train[col].astype(str))\n",
        "    df_train[col] = labelencoder.fit_transform(df_train[col].astype(str))\n",
        "    df_test[col] = labelencoder.fit_transform(df_test[col].astype(str))\n",
        "    label_object[col] = labelencoder"
      ],
      "id": "functioning-harbor",
      "execution_count": null,
      "outputs": []
    },
    {
      "cell_type": "code",
      "metadata": {
        "id": "alive-enemy",
        "outputId": "5db4ffa1-82c4-4e54-cdb9-15e64a8c1ad0"
      },
      "source": [
        "# Sample inverse_transform\n",
        "label_object['City_Code'].inverse_transform(df_train['City_Code'][:5])"
      ],
      "id": "alive-enemy",
      "execution_count": null,
      "outputs": [
        {
          "output_type": "execute_result",
          "data": {
            "text/plain": [
              "array(['C3', 'C5', 'C5', 'C24', 'C8'], dtype=object)"
            ]
          },
          "metadata": {
            "tags": []
          },
          "execution_count": 13
        }
      ]
    },
    {
      "cell_type": "code",
      "metadata": {
        "id": "sonic-yukon",
        "outputId": "63512d73-2bec-4dd4-86e5-de12de7211a8"
      },
      "source": [
        "df_train.head()"
      ],
      "id": "sonic-yukon",
      "execution_count": null,
      "outputs": [
        {
          "output_type": "execute_result",
          "data": {
            "text/html": [
              "<div>\n",
              "<style scoped>\n",
              "    .dataframe tbody tr th:only-of-type {\n",
              "        vertical-align: middle;\n",
              "    }\n",
              "\n",
              "    .dataframe tbody tr th {\n",
              "        vertical-align: top;\n",
              "    }\n",
              "\n",
              "    .dataframe thead th {\n",
              "        text-align: right;\n",
              "    }\n",
              "</style>\n",
              "<table border=\"1\" class=\"dataframe\">\n",
              "  <thead>\n",
              "    <tr style=\"text-align: right;\">\n",
              "      <th></th>\n",
              "      <th>ID</th>\n",
              "      <th>City_Code</th>\n",
              "      <th>Region_Code</th>\n",
              "      <th>Accomodation_Type</th>\n",
              "      <th>Reco_Insurance_Type</th>\n",
              "      <th>Upper_Age</th>\n",
              "      <th>Lower_Age</th>\n",
              "      <th>Is_Spouse</th>\n",
              "      <th>Health Indicator</th>\n",
              "      <th>Holding_Policy_Duration</th>\n",
              "      <th>Holding_Policy_Type</th>\n",
              "      <th>Reco_Policy_Cat</th>\n",
              "      <th>Reco_Policy_Premium</th>\n",
              "      <th>Response</th>\n",
              "    </tr>\n",
              "  </thead>\n",
              "  <tbody>\n",
              "    <tr>\n",
              "      <th>0</th>\n",
              "      <td>1</td>\n",
              "      <td>22</td>\n",
              "      <td>2137</td>\n",
              "      <td>1</td>\n",
              "      <td>0</td>\n",
              "      <td>36</td>\n",
              "      <td>36</td>\n",
              "      <td>0</td>\n",
              "      <td>0</td>\n",
              "      <td>6</td>\n",
              "      <td>3</td>\n",
              "      <td>14</td>\n",
              "      <td>11628.0</td>\n",
              "      <td>0</td>\n",
              "    </tr>\n",
              "    <tr>\n",
              "      <th>1</th>\n",
              "      <td>2</td>\n",
              "      <td>31</td>\n",
              "      <td>117</td>\n",
              "      <td>0</td>\n",
              "      <td>1</td>\n",
              "      <td>75</td>\n",
              "      <td>22</td>\n",
              "      <td>0</td>\n",
              "      <td>2</td>\n",
              "      <td>2</td>\n",
              "      <td>1</td>\n",
              "      <td>14</td>\n",
              "      <td>30510.0</td>\n",
              "      <td>0</td>\n",
              "    </tr>\n",
              "    <tr>\n",
              "      <th>2</th>\n",
              "      <td>3</td>\n",
              "      <td>31</td>\n",
              "      <td>2664</td>\n",
              "      <td>0</td>\n",
              "      <td>0</td>\n",
              "      <td>32</td>\n",
              "      <td>32</td>\n",
              "      <td>0</td>\n",
              "      <td>1</td>\n",
              "      <td>0</td>\n",
              "      <td>0</td>\n",
              "      <td>10</td>\n",
              "      <td>7450.0</td>\n",
              "      <td>1</td>\n",
              "    </tr>\n",
              "    <tr>\n",
              "      <th>3</th>\n",
              "      <td>4</td>\n",
              "      <td>16</td>\n",
              "      <td>3322</td>\n",
              "      <td>0</td>\n",
              "      <td>1</td>\n",
              "      <td>52</td>\n",
              "      <td>48</td>\n",
              "      <td>0</td>\n",
              "      <td>0</td>\n",
              "      <td>6</td>\n",
              "      <td>3</td>\n",
              "      <td>10</td>\n",
              "      <td>17780.0</td>\n",
              "      <td>0</td>\n",
              "    </tr>\n",
              "    <tr>\n",
              "      <th>4</th>\n",
              "      <td>5</td>\n",
              "      <td>34</td>\n",
              "      <td>1151</td>\n",
              "      <td>1</td>\n",
              "      <td>0</td>\n",
              "      <td>44</td>\n",
              "      <td>44</td>\n",
              "      <td>0</td>\n",
              "      <td>2</td>\n",
              "      <td>9</td>\n",
              "      <td>0</td>\n",
              "      <td>7</td>\n",
              "      <td>10404.0</td>\n",
              "      <td>0</td>\n",
              "    </tr>\n",
              "  </tbody>\n",
              "</table>\n",
              "</div>"
            ],
            "text/plain": [
              "   ID  City_Code  Region_Code  Accomodation_Type  Reco_Insurance_Type  \\\n",
              "0   1         22         2137                  1                    0   \n",
              "1   2         31          117                  0                    1   \n",
              "2   3         31         2664                  0                    0   \n",
              "3   4         16         3322                  0                    1   \n",
              "4   5         34         1151                  1                    0   \n",
              "\n",
              "   Upper_Age  Lower_Age  Is_Spouse  Health Indicator  Holding_Policy_Duration  \\\n",
              "0         36         36          0                 0                        6   \n",
              "1         75         22          0                 2                        2   \n",
              "2         32         32          0                 1                        0   \n",
              "3         52         48          0                 0                        6   \n",
              "4         44         44          0                 2                        9   \n",
              "\n",
              "   Holding_Policy_Type  Reco_Policy_Cat  Reco_Policy_Premium  Response  \n",
              "0                    3               14              11628.0         0  \n",
              "1                    1               14              30510.0         0  \n",
              "2                    0               10               7450.0         1  \n",
              "3                    3               10              17780.0         0  \n",
              "4                    0                7              10404.0         0  "
            ]
          },
          "metadata": {
            "tags": []
          },
          "execution_count": 14
        }
      ]
    },
    {
      "cell_type": "markdown",
      "metadata": {
        "id": "obvious-intellectual"
      },
      "source": [
        "### Checking if the dataset is balanced/imbalanced"
      ],
      "id": "obvious-intellectual"
    },
    {
      "cell_type": "code",
      "metadata": {
        "id": "local-finder",
        "outputId": "9ad8c786-124b-499f-af2f-6dcc40c0c316"
      },
      "source": [
        "# python check if dataset is imbalanced : https://www.kaggle.com/rafjaa/resampling-strategies-for-imbalanced-datasets\n",
        "\n",
        "target_count = df_train['Response'].value_counts()\n",
        "print('Class 0 (No):', target_count[0])\n",
        "print('Class 1 (Yes):', target_count[1])\n",
        "print('Proportion:', round(target_count[0] / target_count[1], 2), ': 1')\n",
        "\n",
        "target_count.plot(kind='bar', title='Responses')"
      ],
      "id": "local-finder",
      "execution_count": null,
      "outputs": [
        {
          "output_type": "stream",
          "text": [
            "Class 0 (No): 38673\n",
            "Class 1 (Yes): 12209\n",
            "Proportion: 3.17 : 1\n"
          ],
          "name": "stdout"
        },
        {
          "output_type": "execute_result",
          "data": {
            "text/plain": [
              "<AxesSubplot:title={'center':'Responses'}>"
            ]
          },
          "metadata": {
            "tags": []
          },
          "execution_count": 15
        },
        {
          "output_type": "display_data",
          "data": {
            "image/png": "[encoded data removed]",
            "text/plain": [
              "<Figure size 432x288 with 1 Axes>"
            ]
          },
          "metadata": {
            "tags": [],
            "needs_background": "light"
          }
        }
      ]
    },
    {
      "cell_type": "markdown",
      "metadata": {
        "id": "smaller-aaron"
      },
      "source": [
        "### Splitting Data into train-cv"
      ],
      "id": "smaller-aaron"
    },
    {
      "cell_type": "code",
      "metadata": {
        "id": "undefined-willow"
      },
      "source": [
        "labels = df_train['Response'].values\n",
        "df_train.drop(['ID','Response'], axis=1, inplace=True)\n",
        "df_test.drop(['ID','Response'], axis=1, inplace=True, errors='ignore')"
      ],
      "id": "undefined-willow",
      "execution_count": null,
      "outputs": []
    },
    {
      "cell_type": "code",
      "metadata": {
        "id": "noble-fortune"
      },
      "source": [
        "from sklearn.model_selection import train_test_split\n",
        "X_train, X_cv, y_train, y_cv = train_test_split(df_train, labels, test_size=0.1, shuffle=False)"
      ],
      "id": "noble-fortune",
      "execution_count": null,
      "outputs": []
    },
    {
      "cell_type": "code",
      "metadata": {
        "id": "improved-avatar",
        "outputId": "107eee45-c30d-4811-a7d1-6d6cd8602284"
      },
      "source": [
        "X_train.head()"
      ],
      "id": "improved-avatar",
      "execution_count": null,
      "outputs": [
        {
          "output_type": "execute_result",
          "data": {
            "text/html": [
              "<div>\n",
              "<style scoped>\n",
              "    .dataframe tbody tr th:only-of-type {\n",
              "        vertical-align: middle;\n",
              "    }\n",
              "\n",
              "    .dataframe tbody tr th {\n",
              "        vertical-align: top;\n",
              "    }\n",
              "\n",
              "    .dataframe thead th {\n",
              "        text-align: right;\n",
              "    }\n",
              "</style>\n",
              "<table border=\"1\" class=\"dataframe\">\n",
              "  <thead>\n",
              "    <tr style=\"text-align: right;\">\n",
              "      <th></th>\n",
              "      <th>City_Code</th>\n",
              "      <th>Region_Code</th>\n",
              "      <th>Accomodation_Type</th>\n",
              "      <th>Reco_Insurance_Type</th>\n",
              "      <th>Upper_Age</th>\n",
              "      <th>Lower_Age</th>\n",
              "      <th>Is_Spouse</th>\n",
              "      <th>Health Indicator</th>\n",
              "      <th>Holding_Policy_Duration</th>\n",
              "      <th>Holding_Policy_Type</th>\n",
              "      <th>Reco_Policy_Cat</th>\n",
              "      <th>Reco_Policy_Premium</th>\n",
              "    </tr>\n",
              "  </thead>\n",
              "  <tbody>\n",
              "    <tr>\n",
              "      <th>0</th>\n",
              "      <td>22</td>\n",
              "      <td>2137</td>\n",
              "      <td>1</td>\n",
              "      <td>0</td>\n",
              "      <td>36</td>\n",
              "      <td>36</td>\n",
              "      <td>0</td>\n",
              "      <td>0</td>\n",
              "      <td>6</td>\n",
              "      <td>3</td>\n",
              "      <td>14</td>\n",
              "      <td>11628.0</td>\n",
              "    </tr>\n",
              "    <tr>\n",
              "      <th>1</th>\n",
              "      <td>31</td>\n",
              "      <td>117</td>\n",
              "      <td>0</td>\n",
              "      <td>1</td>\n",
              "      <td>75</td>\n",
              "      <td>22</td>\n",
              "      <td>0</td>\n",
              "      <td>2</td>\n",
              "      <td>2</td>\n",
              "      <td>1</td>\n",
              "      <td>14</td>\n",
              "      <td>30510.0</td>\n",
              "    </tr>\n",
              "    <tr>\n",
              "      <th>2</th>\n",
              "      <td>31</td>\n",
              "      <td>2664</td>\n",
              "      <td>0</td>\n",
              "      <td>0</td>\n",
              "      <td>32</td>\n",
              "      <td>32</td>\n",
              "      <td>0</td>\n",
              "      <td>1</td>\n",
              "      <td>0</td>\n",
              "      <td>0</td>\n",
              "      <td>10</td>\n",
              "      <td>7450.0</td>\n",
              "    </tr>\n",
              "    <tr>\n",
              "      <th>3</th>\n",
              "      <td>16</td>\n",
              "      <td>3322</td>\n",
              "      <td>0</td>\n",
              "      <td>1</td>\n",
              "      <td>52</td>\n",
              "      <td>48</td>\n",
              "      <td>0</td>\n",
              "      <td>0</td>\n",
              "      <td>6</td>\n",
              "      <td>3</td>\n",
              "      <td>10</td>\n",
              "      <td>17780.0</td>\n",
              "    </tr>\n",
              "    <tr>\n",
              "      <th>4</th>\n",
              "      <td>34</td>\n",
              "      <td>1151</td>\n",
              "      <td>1</td>\n",
              "      <td>0</td>\n",
              "      <td>44</td>\n",
              "      <td>44</td>\n",
              "      <td>0</td>\n",
              "      <td>2</td>\n",
              "      <td>9</td>\n",
              "      <td>0</td>\n",
              "      <td>7</td>\n",
              "      <td>10404.0</td>\n",
              "    </tr>\n",
              "  </tbody>\n",
              "</table>\n",
              "</div>"
            ],
            "text/plain": [
              "   City_Code  Region_Code  Accomodation_Type  Reco_Insurance_Type  Upper_Age  \\\n",
              "0         22         2137                  1                    0         36   \n",
              "1         31          117                  0                    1         75   \n",
              "2         31         2664                  0                    0         32   \n",
              "3         16         3322                  0                    1         52   \n",
              "4         34         1151                  1                    0         44   \n",
              "\n",
              "   Lower_Age  Is_Spouse  Health Indicator  Holding_Policy_Duration  \\\n",
              "0         36          0                 0                        6   \n",
              "1         22          0                 2                        2   \n",
              "2         32          0                 1                        0   \n",
              "3         48          0                 0                        6   \n",
              "4         44          0                 2                        9   \n",
              "\n",
              "   Holding_Policy_Type  Reco_Policy_Cat  Reco_Policy_Premium  \n",
              "0                    3               14              11628.0  \n",
              "1                    1               14              30510.0  \n",
              "2                    0               10               7450.0  \n",
              "3                    3               10              17780.0  \n",
              "4                    0                7              10404.0  "
            ]
          },
          "metadata": {
            "tags": []
          },
          "execution_count": 18
        }
      ]
    },
    {
      "cell_type": "markdown",
      "metadata": {
        "id": "narrative-rapid"
      },
      "source": [
        "### Over Sampling using SMOTE"
      ],
      "id": "narrative-rapid"
    },
    {
      "cell_type": "code",
      "metadata": {
        "id": "composite-flooring",
        "outputId": "902d2e37-67f1-45c5-f49e-e78c79c0b51b"
      },
      "source": [
        "# https://machinelearningmastery.com/smote-oversampling-for-imbalanced-classification/\n",
        "from imblearn.over_sampling import SMOTE\n",
        "smote_overSampling = SMOTE()\n",
        "X_train,y_train = smote_overSampling.fit_resample(X_train,y_train)\n",
        "unique, counts = np.unique(y_train, return_counts=True)\n",
        "dict(zip(unique, counts))"
      ],
      "id": "composite-flooring",
      "execution_count": null,
      "outputs": [
        {
          "output_type": "execute_result",
          "data": {
            "text/plain": [
              "{0: 34780, 1: 34780}"
            ]
          },
          "metadata": {
            "tags": []
          },
          "execution_count": 19
        }
      ]
    },
    {
      "cell_type": "markdown",
      "metadata": {
        "id": "ecological-freeware"
      },
      "source": [
        "### Scaling data"
      ],
      "id": "ecological-freeware"
    },
    {
      "cell_type": "code",
      "metadata": {
        "id": "incoming-pharmacy",
        "outputId": "8760409f-ca23-4273-92cc-a6c38a5f0e26"
      },
      "source": [
        "from sklearn.preprocessing import StandardScaler\n",
        "scaler = StandardScaler()\n",
        "X_train_scaled = scaler.fit_transform(X_train)\n",
        "X_cv_scaled = scaler.transform(X_cv)\n",
        "X_test_scaled = scaler.transform(df_test)\n",
        "X_train_scaled"
      ],
      "id": "incoming-pharmacy",
      "execution_count": null,
      "outputs": [
        {
          "output_type": "execute_result",
          "data": {
            "text/plain": [
              "array([[ 0.62267931, -0.05712771,  1.28326889, ...,  1.20338235,\n",
              "         0.91943228, -0.38818493],\n",
              "       [ 1.40726493, -1.25507571, -0.77925991, ..., -0.49930014,\n",
              "         0.91943228,  2.47336144],\n",
              "       [ 1.40726493,  0.25540625, -0.77925991, ..., -1.35064138,\n",
              "         0.01624657, -1.02135624],\n",
              "       ...,\n",
              "       [-0.42343486,  0.3840967 , -0.77925991, ...,  0.35204111,\n",
              "         0.24204299,  0.99643134],\n",
              "       [-0.59778722, -1.00540437, -0.77925991, ..., -0.49930014,\n",
              "         0.01624657, -0.5646843 ],\n",
              "       [-0.16190632, -1.11452438, -0.77925991, ...,  1.20338235,\n",
              "         0.69363585,  0.23690757]])"
            ]
          },
          "metadata": {
            "tags": []
          },
          "execution_count": 20
        }
      ]
    },
    {
      "cell_type": "markdown",
      "metadata": {
        "id": "distant-cornell"
      },
      "source": [
        "### Modelling & Cross-Validation"
      ],
      "id": "distant-cornell"
    },
    {
      "cell_type": "code",
      "metadata": {
        "id": "boxed-institution",
        "outputId": "5e5b3934-e989-4b74-db23-5f1b996a33e1"
      },
      "source": [
        "%%time\n",
        "# Train multiple models : https://www.kaggle.com/tflare/testing-multiple-models-with-scikit-learn-0-79425\n",
        "from sklearn.linear_model import LogisticRegression\n",
        "from sklearn.svm import SVC, LinearSVC\n",
        "from sklearn.neighbors import KNeighborsClassifier\n",
        "from sklearn.tree import DecisionTreeClassifier\n",
        "from sklearn.ensemble import RandomForestClassifier\n",
        "from sklearn.ensemble import AdaBoostClassifier\n",
        "from sklearn.ensemble import BaggingClassifier\n",
        "from sklearn.ensemble import ExtraTreesClassifier\n",
        "from sklearn.ensemble import GradientBoostingClassifier\n",
        "from sklearn.linear_model import LogisticRegressionCV\n",
        "from xgboost import XGBClassifier\n",
        "\n",
        "from sklearn.model_selection import TimeSeriesSplit, cross_val_score\n",
        "\n",
        "models = []\n",
        "\n",
        "LogisticRegression = LogisticRegression(n_jobs=-1)\n",
        "LinearSVC = LinearSVC()\n",
        "KNeighbors = KNeighborsClassifier(n_jobs=-1)\n",
        "DecisionTree = DecisionTreeClassifier()\n",
        "RandomForest = RandomForestClassifier()\n",
        "AdaBoost = AdaBoostClassifier()\n",
        "Bagging = BaggingClassifier()\n",
        "ExtraTrees = ExtraTreesClassifier()\n",
        "GradientBoosting = GradientBoostingClassifier()\n",
        "LogisticRegressionCV = LogisticRegressionCV(n_jobs=-1)\n",
        "XGBClassifier = XGBClassifier(nthread=-1)\n",
        "\n",
        "# models.append((\"LogisticRegression\",LogisticRegression))\n",
        "# models.append((\"LinearSVC\", LinearSVC))\n",
        "# models.append((\"KNeighbors\", KNeighbors))\n",
        "# models.append((\"DecisionTree\", DecisionTree))\n",
        "# models.append((\"AdaBoost\", AdaBoost))\n",
        "# models.append((\"Bagging\", Bagging))\n",
        "# models.append((\"ExtraTrees\", ExtraTrees))\n",
        "# models.append((\"GradientBoosting\", GradientBoosting))\n",
        "# models.append((\"LogisticRegressionCV\", LogisticRegressionCV))\n",
        "models.append((\"RandomForest\", RandomForest))\n",
        "# models.append((\"XGBClassifier\", XGBClassifier))\n",
        "\n",
        "metric_names = ['f1', 'average_precision', 'accuracy', 'precision', 'recall', 'roc_auc']\n",
        "# tscv = TimeSeriesSplit(n_splits=5)\n",
        "results = []\n",
        "names = []\n",
        "\n",
        "nested_dict = {}\n",
        "\n",
        "for name,model in models:\n",
        "  nested_dict[name] = {}\n",
        "  for metric in metric_names:\n",
        "    score = cross_val_score(model, X_train_scaled, y_train, n_jobs=-1, scoring=metric, cv=None, verbose=5)\n",
        "    nested_dict[name][metric] = score.mean()"
      ],
      "id": "boxed-institution",
      "execution_count": null,
      "outputs": [
        {
          "output_type": "stream",
          "text": [
            "[Parallel(n_jobs=-1)]: Using backend LokyBackend with 6 concurrent workers.\n",
            "[Parallel(n_jobs=-1)]: Done   2 out of   5 | elapsed:    8.3s remaining:   12.4s\n",
            "[Parallel(n_jobs=-1)]: Done   5 out of   5 | elapsed:    8.6s finished\n",
            "[Parallel(n_jobs=-1)]: Using backend LokyBackend with 6 concurrent workers.\n",
            "[Parallel(n_jobs=-1)]: Done   2 out of   5 | elapsed:    7.3s remaining:   10.9s\n",
            "[Parallel(n_jobs=-1)]: Done   5 out of   5 | elapsed:    7.3s finished\n",
            "[Parallel(n_jobs=-1)]: Using backend LokyBackend with 6 concurrent workers.\n",
            "[Parallel(n_jobs=-1)]: Done   2 out of   5 | elapsed:    7.4s remaining:   11.0s\n",
            "[Parallel(n_jobs=-1)]: Done   5 out of   5 | elapsed:    7.6s finished\n",
            "[Parallel(n_jobs=-1)]: Using backend LokyBackend with 6 concurrent workers.\n",
            "[Parallel(n_jobs=-1)]: Done   2 out of   5 | elapsed:    7.1s remaining:   10.6s\n",
            "[Parallel(n_jobs=-1)]: Done   5 out of   5 | elapsed:    7.3s finished\n",
            "[Parallel(n_jobs=-1)]: Using backend LokyBackend with 6 concurrent workers.\n",
            "[Parallel(n_jobs=-1)]: Done   2 out of   5 | elapsed:    7.5s remaining:   11.3s\n",
            "[Parallel(n_jobs=-1)]: Done   5 out of   5 | elapsed:    7.7s finished\n",
            "[Parallel(n_jobs=-1)]: Using backend LokyBackend with 6 concurrent workers.\n",
            "[Parallel(n_jobs=-1)]: Done   2 out of   5 | elapsed:    8.4s remaining:   12.6s\n"
          ],
          "name": "stderr"
        },
        {
          "output_type": "stream",
          "text": [
            "CPU times: user 268 ms, sys: 125 ms, total: 392 ms\n",
            "Wall time: 47.8 s\n"
          ],
          "name": "stdout"
        },
        {
          "output_type": "stream",
          "text": [
            "[Parallel(n_jobs=-1)]: Done   5 out of   5 | elapsed:    8.7s finished\n"
          ],
          "name": "stderr"
        }
      ]
    },
    {
      "cell_type": "code",
      "metadata": {
        "id": "third-touch",
        "outputId": "85e4450d-9b7b-446e-94f8-dd329d33c7a9"
      },
      "source": [
        "import json\n",
        "print(json.dumps(nested_dict, sort_keys=True, indent=4))"
      ],
      "id": "third-touch",
      "execution_count": null,
      "outputs": [
        {
          "output_type": "stream",
          "text": [
            "{\n",
            "    \"RandomForest\": {\n",
            "        \"accuracy\": 0.76154399079931,\n",
            "        \"average_precision\": 0.8439460654423595,\n",
            "        \"f1\": 0.722507767592605,\n",
            "        \"precision\": 0.7753641669159872,\n",
            "        \"recall\": 0.7076768257619321,\n",
            "        \"roc_auc\": 0.8395994137635366\n",
            "    }\n",
            "}\n"
          ],
          "name": "stdout"
        }
      ]
    },
    {
      "cell_type": "code",
      "metadata": {
        "id": "bored-wyoming",
        "outputId": "90920496-f156-4f19-c619-ea3382139514"
      },
      "source": [
        "from pprint import pprint\n",
        "print(\"Predicting using RandomForest\")\n",
        "alg = RandomForest\n",
        "alg.fit(X_train_scaled, y_train)\n",
        "predictions = alg.predict(X_cv_scaled)\n",
        "pprint(alg.get_params())"
      ],
      "id": "bored-wyoming",
      "execution_count": null,
      "outputs": [
        {
          "output_type": "stream",
          "text": [
            "Predicting using RandomForest\n",
            "{'bootstrap': True,\n",
            " 'ccp_alpha': 0.0,\n",
            " 'class_weight': None,\n",
            " 'criterion': 'gini',\n",
            " 'max_depth': None,\n",
            " 'max_features': 'auto',\n",
            " 'max_leaf_nodes': None,\n",
            " 'max_samples': None,\n",
            " 'min_impurity_decrease': 0.0,\n",
            " 'min_impurity_split': None,\n",
            " 'min_samples_leaf': 1,\n",
            " 'min_samples_split': 2,\n",
            " 'min_weight_fraction_leaf': 0.0,\n",
            " 'n_estimators': 100,\n",
            " 'n_jobs': None,\n",
            " 'oob_score': False,\n",
            " 'random_state': None,\n",
            " 'verbose': 0,\n",
            " 'warm_start': False}\n"
          ],
          "name": "stdout"
        }
      ]
    },
    {
      "cell_type": "code",
      "metadata": {
        "id": "decent-habitat",
        "outputId": "8cd0625c-ba38-42b9-cc66-1f53d74c16f8"
      },
      "source": [
        "model_score(y_cv,predictions)"
      ],
      "id": "decent-habitat",
      "execution_count": null,
      "outputs": [
        {
          "output_type": "stream",
          "text": [
            "Confusion Matrix :\n",
            "[[3220  673]\n",
            " [ 937  259]]\n",
            "Accuracy Score : 0.6836313617606602\n",
            "Report : \n",
            "              precision    recall  f1-score   support\n",
            "\n",
            "           0       0.77      0.83      0.80      3893\n",
            "           1       0.28      0.22      0.24      1196\n",
            "\n",
            "    accuracy                           0.68      5089\n",
            "   macro avg       0.53      0.52      0.52      5089\n",
            "weighted avg       0.66      0.68      0.67      5089\n",
            "\n",
            "Recall Score : \n",
            "0.2165551839464883\n",
            "ROC AUC Score : \n",
            "0.5218403970079217\n"
          ],
          "name": "stdout"
        }
      ]
    },
    {
      "cell_type": "markdown",
      "metadata": {
        "id": "jewish-hygiene"
      },
      "source": [
        "### Hyperparameter Tuning"
      ],
      "id": "jewish-hygiene"
    },
    {
      "cell_type": "code",
      "metadata": {
        "id": "stretch-pottery",
        "outputId": "ea4ce5fa-f1bb-4297-cab6-4c9eba459635"
      },
      "source": [
        "#https://towardsdatascience.com/hyperparameter-tuning-the-random-forest-in-python-using-scikit-learn-28d2aa77dd74\n",
        "from sklearn.model_selection import RandomizedSearchCV\n",
        "\n",
        "# Number of trees in random forest\n",
        "n_estimators = [int(x) for x in np.linspace(start = 200, stop = 2000, num = 10)]\n",
        "\n",
        "# Number of features to consider at every split\n",
        "max_features = ['auto', 'sqrt']\n",
        "\n",
        "# Maximum number of levels in tree\n",
        "max_depth = [int(x) for x in np.linspace(10, 110, num = 11)]\n",
        "max_depth.append(None)\n",
        "\n",
        "# Minimum number of samples required to split a node\n",
        "min_samples_split = [2, 5, 10]\n",
        "\n",
        "# Minimum number of samples required at each leaf node\n",
        "min_samples_leaf = [1, 2, 4]\n",
        "\n",
        "# Method of selecting samples for training each tree\n",
        "bootstrap = [True, False]\n",
        "\n",
        "# Class weight selection method\n",
        "class_weight = ['balanced', 'balanced_subsample', None]\n",
        "\n",
        "# Warm start\n",
        "warm_start = [True, False]\n",
        "\n",
        "# Create the random grid\n",
        "random_grid = {'n_estimators': n_estimators,\n",
        "               'max_features': max_features,\n",
        "               'max_depth': max_depth,\n",
        "               'min_samples_split': min_samples_split,\n",
        "               'min_samples_leaf': min_samples_leaf,\n",
        "               'bootstrap': bootstrap,\n",
        "               'warm_start': warm_start,\n",
        "               'class_weight': class_weight}\n",
        "pprint(random_grid)"
      ],
      "id": "stretch-pottery",
      "execution_count": null,
      "outputs": [
        {
          "output_type": "stream",
          "text": [
            "{'bootstrap': [True, False],\n",
            " 'class_weight': ['balanced', 'balanced_subsample', None],\n",
            " 'max_depth': [10, 20, 30, 40, 50, 60, 70, 80, 90, 100, 110, None],\n",
            " 'max_features': ['auto', 'sqrt'],\n",
            " 'min_samples_leaf': [1, 2, 4],\n",
            " 'min_samples_split': [2, 5, 10],\n",
            " 'n_estimators': [200, 400, 600, 800, 1000, 1200, 1400, 1600, 1800, 2000]}\n"
          ],
          "name": "stdout"
        }
      ]
    },
    {
      "cell_type": "code",
      "metadata": {
        "id": "generous-expert",
        "outputId": "98a2e695-c148-4840-dade-1b8bd2513f9f"
      },
      "source": [
        "rf_random = RandomizedSearchCV(estimator=alg, param_distributions=random_grid, n_iter=50, verbose=5, n_jobs=-1)\n",
        "rf_random.fit(X_train_scaled, y_train)"
      ],
      "id": "generous-expert",
      "execution_count": null,
      "outputs": [
        {
          "output_type": "stream",
          "text": [
            "Fitting 5 folds for each of 50 candidates, totalling 250 fits\n"
          ],
          "name": "stdout"
        },
        {
          "output_type": "execute_result",
          "data": {
            "text/plain": [
              "RandomizedSearchCV(estimator=RandomForestClassifier(), n_iter=50, n_jobs=-1,\n",
              "                   param_distributions={'bootstrap': [True, False],\n",
              "                                        'class_weight': ['balanced',\n",
              "                                                         'balanced_subsample',\n",
              "                                                         None],\n",
              "                                        'max_depth': [10, 20, 30, 40, 50, 60,\n",
              "                                                      70, 80, 90, 100, 110,\n",
              "                                                      None],\n",
              "                                        'max_features': ['auto', 'sqrt'],\n",
              "                                        'min_samples_leaf': [1, 2, 4],\n",
              "                                        'min_samples_split': [2, 5, 10],\n",
              "                                        'n_estimators': [200, 400, 600, 800,\n",
              "                                                         1000, 1200, 1400, 1600,\n",
              "                                                         1800, 2000]},\n",
              "                   verbose=5)"
            ]
          },
          "metadata": {
            "tags": []
          },
          "execution_count": 26
        }
      ]
    },
    {
      "cell_type": "code",
      "metadata": {
        "id": "bibliographic-assist",
        "outputId": "cb00825d-84e5-492a-df11-bd7669bb3694"
      },
      "source": [
        "rf_random.best_params_"
      ],
      "id": "bibliographic-assist",
      "execution_count": null,
      "outputs": [
        {
          "output_type": "execute_result",
          "data": {
            "text/plain": [
              "{'n_estimators': 1800,\n",
              " 'min_samples_split': 2,\n",
              " 'min_samples_leaf': 1,\n",
              " 'max_features': 'sqrt',\n",
              " 'max_depth': 70,\n",
              " 'class_weight': None,\n",
              " 'bootstrap': True}"
            ]
          },
          "metadata": {
            "tags": []
          },
          "execution_count": 27
        }
      ]
    },
    {
      "cell_type": "code",
      "metadata": {
        "id": "julian-honey",
        "outputId": "3d81373b-be7d-4234-d473-3f124be5fa24"
      },
      "source": [
        "predictions = rf_random.predict(X_cv_scaled)\n",
        "model_score(y_cv,predictions)"
      ],
      "id": "julian-honey",
      "execution_count": null,
      "outputs": [
        {
          "output_type": "stream",
          "text": [
            "Confusion Matrix :\n",
            "[[3227  666]\n",
            " [ 934  262]]\n",
            "Accuracy Score : 0.6855963843584201\n",
            "Report : \n",
            "              precision    recall  f1-score   support\n",
            "\n",
            "           0       0.78      0.83      0.80      3893\n",
            "           1       0.28      0.22      0.25      1196\n",
            "\n",
            "    accuracy                           0.69      5089\n",
            "   macro avg       0.53      0.52      0.52      5089\n",
            "weighted avg       0.66      0.69      0.67      5089\n",
            "\n",
            "Recall Score : \n",
            "0.21906354515050167\n",
            "ROC AUC Score : \n",
            "0.5239936271860908\n"
          ],
          "name": "stdout"
        }
      ]
    },
    {
      "cell_type": "markdown",
      "metadata": {
        "id": "adjusted-course"
      },
      "source": [
        "### Predicting on test Data"
      ],
      "id": "adjusted-course"
    },
    {
      "cell_type": "code",
      "metadata": {
        "id": "soviet-caution"
      },
      "source": [
        "# trained_model = alg\n",
        "trained_model = rf_random\n",
        "predictions_trained_model_test = trained_model.predict(X_test_scaled)"
      ],
      "id": "soviet-caution",
      "execution_count": null,
      "outputs": []
    },
    {
      "cell_type": "code",
      "metadata": {
        "id": "julian-possession"
      },
      "source": [
        "read = pd.read_csv('/home/jovyan/work/dataset/test-file.csv')\n",
        "submission = pd.DataFrame({\n",
        "        \"ID\": read[\"ID\"],\n",
        "        \"Response\": predictions_trained_model_test\n",
        "    })\n",
        "\n",
        "submission.to_csv('./submission.csv', index=False)"
      ],
      "id": "julian-possession",
      "execution_count": null,
      "outputs": []
    },
    {
      "cell_type": "code",
      "metadata": {
        "id": "severe-compound",
        "outputId": "244dc07d-afc9-46af-8d54-08b26abdf27b"
      },
      "source": [
        "submission.head()"
      ],
      "id": "severe-compound",
      "execution_count": null,
      "outputs": [
        {
          "output_type": "execute_result",
          "data": {
            "text/html": [
              "<div>\n",
              "<style scoped>\n",
              "    .dataframe tbody tr th:only-of-type {\n",
              "        vertical-align: middle;\n",
              "    }\n",
              "\n",
              "    .dataframe tbody tr th {\n",
              "        vertical-align: top;\n",
              "    }\n",
              "\n",
              "    .dataframe thead th {\n",
              "        text-align: right;\n",
              "    }\n",
              "</style>\n",
              "<table border=\"1\" class=\"dataframe\">\n",
              "  <thead>\n",
              "    <tr style=\"text-align: right;\">\n",
              "      <th></th>\n",
              "      <th>ID</th>\n",
              "      <th>Response</th>\n",
              "    </tr>\n",
              "  </thead>\n",
              "  <tbody>\n",
              "    <tr>\n",
              "      <th>0</th>\n",
              "      <td>50883</td>\n",
              "      <td>1</td>\n",
              "    </tr>\n",
              "    <tr>\n",
              "      <th>1</th>\n",
              "      <td>50884</td>\n",
              "      <td>0</td>\n",
              "    </tr>\n",
              "    <tr>\n",
              "      <th>2</th>\n",
              "      <td>50885</td>\n",
              "      <td>0</td>\n",
              "    </tr>\n",
              "    <tr>\n",
              "      <th>3</th>\n",
              "      <td>50886</td>\n",
              "      <td>0</td>\n",
              "    </tr>\n",
              "    <tr>\n",
              "      <th>4</th>\n",
              "      <td>50887</td>\n",
              "      <td>0</td>\n",
              "    </tr>\n",
              "  </tbody>\n",
              "</table>\n",
              "</div>"
            ],
            "text/plain": [
              "      ID  Response\n",
              "0  50883         1\n",
              "1  50884         0\n",
              "2  50885         0\n",
              "3  50886         0\n",
              "4  50887         0"
            ]
          },
          "metadata": {
            "tags": []
          },
          "execution_count": 31
        }
      ]
    }
  ]
}