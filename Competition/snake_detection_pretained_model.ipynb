{
  "nbformat": 4,
  "nbformat_minor": 0,
  "metadata": {
    "accelerator": "GPU",
    "colab": {
      "name": "test_pretained_model.ipynb",
      "provenance": [],
      "collapsed_sections": [],
      "include_colab_link": true
    },
    "kernelspec": {
      "display_name": "Python 3",
      "name": "python3"
    }
  },
  "cells": [
    {
      "cell_type": "markdown",
      "metadata": {
        "id": "view-in-github",
        "colab_type": "text"
      },
      "source": [
        "<a href=\"https://colab.research.google.com/github/chiranjeet14/ML_Projects/blob/master/Competition/snake_detection_pretained_model.ipynb\" target=\"_parent\"><img src=\"https://colab.research.google.com/assets/colab-badge.svg\" alt=\"Open In Colab\"/></a>"
      ]
    },
    {
      "cell_type": "markdown",
      "metadata": {
        "id": "sbfeui99Pgw8"
      },
      "source": [
        "## Installing dependencies and notebook gpu setup"
      ]
    },
    {
      "cell_type": "code",
      "metadata": {
        "id": "gjWM9Lkqm0C1"
      },
      "source": [
        "!pip uninstall -y tensorflow &> /dev/null\n",
        "!pip install tensorflow &> /dev/null\n",
        "!pip install --upgrade tensorflow &> /dev/null"
      ],
      "execution_count": null,
      "outputs": []
    },
    {
      "cell_type": "markdown",
      "metadata": {
        "id": "gpa3-s7ZPw_h"
      },
      "source": [
        "## Importing dependencies for the project"
      ]
    },
    {
      "cell_type": "code",
      "metadata": {
        "id": "TqOt6Sv7AsMi",
        "colab": {
          "base_uri": "https://localhost:8080/",
          "height": 36
        },
        "outputId": "52a90e93-39dc-4eb0-cd05-0ac2d963e1b9"
      },
      "source": [
        "import matplotlib.pyplot as plt\n",
        "import numpy as np\n",
        "import os\n",
        "import PIL\n",
        "import tensorflow as tf\n",
        "import pandas as pd\n",
        "import numpy as np\n",
        "\n",
        "%matplotlib inline\n",
        "tf.__version__\n",
        "\n",
        "# from tensorflow.keras.preprocessing import image_dataset_from_directory"
      ],
      "execution_count": null,
      "outputs": [
        {
          "output_type": "execute_result",
          "data": {
            "application/vnd.google.colaboratory.intrinsic+json": {
              "type": "string"
            },
            "text/plain": [
              "'2.3.0'"
            ]
          },
          "metadata": {
            "tags": []
          },
          "execution_count": 2
        }
      ]
    },
    {
      "cell_type": "markdown",
      "metadata": {
        "id": "v77rlkCKW0IJ"
      },
      "source": [
        "## Data preprocessing"
      ]
    },
    {
      "cell_type": "markdown",
      "metadata": {
        "id": "0GoKGm1duzgk"
      },
      "source": [
        "### Data download"
      ]
    },
    {
      "cell_type": "code",
      "metadata": {
        "id": "s3C3VefEQIhE",
        "colab": {
          "base_uri": "https://localhost:8080/"
        },
        "outputId": "7b259919-22c5-4b23-86ec-aa1fcb5d5f1a"
      },
      "source": [
        "import pathlib\n",
        "dataset_url = \"https://he-s3.s3.amazonaws.com/media/hackathon/hackerearth-deep-learning-challenge-snake-breed-detection/identify-the-snake-breed-5-66d9a9f5/8a95c26e1bab11eb.zip\"\n",
        "data_dir = tf.keras.utils.get_file('snake_dataset', origin=dataset_url, extract=True)\n",
        "data_dir = pathlib.Path(data_dir)\n",
        "data_dir"
      ],
      "execution_count": null,
      "outputs": [
        {
          "output_type": "execute_result",
          "data": {
            "text/plain": [
              "PosixPath('/root/.keras/datasets/snake_dataset')"
            ]
          },
          "metadata": {
            "tags": []
          },
          "execution_count": 3
        }
      ]
    },
    {
      "cell_type": "code",
      "metadata": {
        "id": "iVpgI7DPQxG6",
        "colab": {
          "base_uri": "https://localhost:8080/"
        },
        "outputId": "bf24cfdd-6f12-4a9c-93ec-73d8001624c3"
      },
      "source": [
        "data_dir = pathlib.Path('/root/.keras/datasets/dataset')\n",
        "sub_directories = [x for x in data_dir.iterdir() if x.is_dir()]\n",
        "print(sub_directories)"
      ],
      "execution_count": null,
      "outputs": [
        {
          "output_type": "stream",
          "text": [
            "[PosixPath('/root/.keras/datasets/dataset/train'), PosixPath('/root/.keras/datasets/dataset/test')]\n"
          ],
          "name": "stdout"
        }
      ]
    },
    {
      "cell_type": "code",
      "metadata": {
        "id": "GGTfsIZGQxMl",
        "colab": {
          "base_uri": "https://localhost:8080/"
        },
        "outputId": "b342f202-27c9-4263-ebd9-1ec61e52fd86"
      },
      "source": [
        "train_folder = data_dir.joinpath('train')\n",
        "test_folder = data_dir.joinpath('test')\n",
        "print(\"Train dir : \" + str(train_folder))\n",
        "print(\"Test dir : \" + str(test_folder))"
      ],
      "execution_count": null,
      "outputs": [
        {
          "output_type": "stream",
          "text": [
            "Train dir : /root/.keras/datasets/dataset/train\n",
            "Test dir : /root/.keras/datasets/dataset/test\n"
          ],
          "name": "stdout"
        }
      ]
    },
    {
      "cell_type": "code",
      "metadata": {
        "id": "ZEBL30PKQxP9",
        "colab": {
          "base_uri": "https://localhost:8080/"
        },
        "outputId": "dd80a8f9-fa65-4309-e423-d941bcd18e83"
      },
      "source": [
        "train_files = [e for e in train_folder.iterdir() if e.is_file()]\n",
        "test_files = [e for e in test_folder.iterdir() if e.is_file()]\n",
        "print(\"Train images count : \" + str(len(train_files)))\n",
        "print(\"Test images count : \" + str(len(test_files)))"
      ],
      "execution_count": null,
      "outputs": [
        {
          "output_type": "stream",
          "text": [
            "Train images count : 5508\n",
            "Test images count : 2361\n"
          ],
          "name": "stdout"
        }
      ]
    },
    {
      "cell_type": "code",
      "metadata": {
        "id": "r90ddv__Q7Ec",
        "colab": {
          "base_uri": "https://localhost:8080/",
          "height": 206
        },
        "outputId": "b4d2d9bf-f157-4021-c7e1-87051fe48146"
      },
      "source": [
        "train_csv_path = data_dir.joinpath('train.csv')\n",
        "test_csv_path = data_dir.joinpath('test.csv')\n",
        "df_train = pd.read_csv(train_csv_path)\n",
        "df_test = pd.read_csv(test_csv_path)\n",
        "df_train.head()"
      ],
      "execution_count": null,
      "outputs": [
        {
          "output_type": "execute_result",
          "data": {
            "text/html": [
              "<div>\n",
              "<style scoped>\n",
              "    .dataframe tbody tr th:only-of-type {\n",
              "        vertical-align: middle;\n",
              "    }\n",
              "\n",
              "    .dataframe tbody tr th {\n",
              "        vertical-align: top;\n",
              "    }\n",
              "\n",
              "    .dataframe thead th {\n",
              "        text-align: right;\n",
              "    }\n",
              "</style>\n",
              "<table border=\"1\" class=\"dataframe\">\n",
              "  <thead>\n",
              "    <tr style=\"text-align: right;\">\n",
              "      <th></th>\n",
              "      <th>image_id</th>\n",
              "      <th>breed</th>\n",
              "    </tr>\n",
              "  </thead>\n",
              "  <tbody>\n",
              "    <tr>\n",
              "      <th>0</th>\n",
              "      <td>a8b3ad1dde</td>\n",
              "      <td>nerodia-erythrogaster</td>\n",
              "    </tr>\n",
              "    <tr>\n",
              "      <th>1</th>\n",
              "      <td>8b492b973d</td>\n",
              "      <td>pantherophis-vulpinus</td>\n",
              "    </tr>\n",
              "    <tr>\n",
              "      <th>2</th>\n",
              "      <td>929b99ea92</td>\n",
              "      <td>thamnophis-sirtalis</td>\n",
              "    </tr>\n",
              "    <tr>\n",
              "      <th>3</th>\n",
              "      <td>bbac7385e2</td>\n",
              "      <td>pantherophis-obsoletus</td>\n",
              "    </tr>\n",
              "    <tr>\n",
              "      <th>4</th>\n",
              "      <td>ef776b1488</td>\n",
              "      <td>agkistrodon-contortrix</td>\n",
              "    </tr>\n",
              "  </tbody>\n",
              "</table>\n",
              "</div>"
            ],
            "text/plain": [
              "     image_id                   breed\n",
              "0  a8b3ad1dde   nerodia-erythrogaster\n",
              "1  8b492b973d   pantherophis-vulpinus\n",
              "2  929b99ea92     thamnophis-sirtalis\n",
              "3  bbac7385e2  pantherophis-obsoletus\n",
              "4  ef776b1488  agkistrodon-contortrix"
            ]
          },
          "metadata": {
            "tags": []
          },
          "execution_count": 7
        }
      ]
    },
    {
      "cell_type": "code",
      "metadata": {
        "id": "AcPb9d2JQ7HI",
        "colab": {
          "base_uri": "https://localhost:8080/"
        },
        "outputId": "0ae01a61-6a05-445b-fe58-12d0d5fdff50"
      },
      "source": [
        "unique_count = len(pd.unique(df_train['breed']))\n",
        "print(\"No. of unique values : \",unique_count)"
      ],
      "execution_count": null,
      "outputs": [
        {
          "output_type": "stream",
          "text": [
            "No. of unique values :  35\n"
          ],
          "name": "stdout"
        }
      ]
    },
    {
      "cell_type": "code",
      "metadata": {
        "id": "CHQkh-6TDX1h",
        "colab": {
          "base_uri": "https://localhost:8080/",
          "height": 206
        },
        "outputId": "ef1fb725-e54f-4eaa-ef06-8a34d38b5274"
      },
      "source": [
        "for i in range(len(df_test['image_id'])):\n",
        "    df_test['image_id'][i]=df_test['image_id'][i]+'.jpg'\n",
        "df_test.head()"
      ],
      "execution_count": null,
      "outputs": [
        {
          "output_type": "execute_result",
          "data": {
            "text/html": [
              "<div>\n",
              "<style scoped>\n",
              "    .dataframe tbody tr th:only-of-type {\n",
              "        vertical-align: middle;\n",
              "    }\n",
              "\n",
              "    .dataframe tbody tr th {\n",
              "        vertical-align: top;\n",
              "    }\n",
              "\n",
              "    .dataframe thead th {\n",
              "        text-align: right;\n",
              "    }\n",
              "</style>\n",
              "<table border=\"1\" class=\"dataframe\">\n",
              "  <thead>\n",
              "    <tr style=\"text-align: right;\">\n",
              "      <th></th>\n",
              "      <th>image_id</th>\n",
              "    </tr>\n",
              "  </thead>\n",
              "  <tbody>\n",
              "    <tr>\n",
              "      <th>0</th>\n",
              "      <td>7ede553357.jpg</td>\n",
              "    </tr>\n",
              "    <tr>\n",
              "      <th>1</th>\n",
              "      <td>3500b219e4.jpg</td>\n",
              "    </tr>\n",
              "    <tr>\n",
              "      <th>2</th>\n",
              "      <td>d43a78d6d9.jpg</td>\n",
              "    </tr>\n",
              "    <tr>\n",
              "      <th>3</th>\n",
              "      <td>1f36f26994.jpg</td>\n",
              "    </tr>\n",
              "    <tr>\n",
              "      <th>4</th>\n",
              "      <td>8cb85fc58e.jpg</td>\n",
              "    </tr>\n",
              "  </tbody>\n",
              "</table>\n",
              "</div>"
            ],
            "text/plain": [
              "         image_id\n",
              "0  7ede553357.jpg\n",
              "1  3500b219e4.jpg\n",
              "2  d43a78d6d9.jpg\n",
              "3  1f36f26994.jpg\n",
              "4  8cb85fc58e.jpg"
            ]
          },
          "metadata": {
            "tags": []
          },
          "execution_count": 9
        }
      ]
    },
    {
      "cell_type": "markdown",
      "metadata": {
        "id": "Jrd483OZRHV2"
      },
      "source": [
        "## Create directories with class names"
      ]
    },
    {
      "cell_type": "code",
      "metadata": {
        "id": "Dm3ajuNfRI4U"
      },
      "source": [
        "import shutil\n",
        "def move_file(source_with_filename,destination_with_filename):\n",
        "  # shutil.move(\"path/to/current/file.foo\", \"path/to/new/destination/for/file.foo\")\n",
        "  try:\n",
        "    os.makedirs(os.path.dirname(destination_with_filename), exist_ok=True)\n",
        "    shutil.move(source_with_filename, destination_with_filename)\n",
        "  except IOError as e:\n",
        "    print(\"Unable to copy file. %s\" % e)"
      ],
      "execution_count": null,
      "outputs": []
    },
    {
      "cell_type": "code",
      "metadata": {
        "id": "FMspi9i2RI9F"
      },
      "source": [
        "train_files = [e for e in train_folder.iterdir() if e.is_file()]\n",
        "only_name = [os.path.basename(filename) for filename in train_files]"
      ],
      "execution_count": null,
      "outputs": []
    },
    {
      "cell_type": "code",
      "metadata": {
        "id": "c9pVtUL2RI6s"
      },
      "source": [
        "for index, row in df_train.iterrows():\n",
        "    source_with_filename = data_dir.joinpath('train', row['image_id'] + '.jpg')\n",
        "    destination_with_filename = data_dir.joinpath('train', row['breed'], row['image_id'] + '.jpg')\n",
        "    move_file(source_with_filename,destination_with_filename)"
      ],
      "execution_count": null,
      "outputs": []
    },
    {
      "cell_type": "code",
      "metadata": {
        "id": "9K8NBWAuRQhL",
        "colab": {
          "base_uri": "https://localhost:8080/",
          "height": 89
        },
        "outputId": "e29a1c9f-8d5e-45ab-ae46-a53a5bb87260"
      },
      "source": [
        "crotalus = list(data_dir.joinpath('train','crotalus-horridus').glob('*.jpg'))\n",
        "PIL.Image.open(str(crotalus[0]))"
      ],
      "execution_count": null,
      "outputs": [
        {
          "output_type": "execute_result",
          "data": {
            "image/png": "[encoded data removed]",
            "text/plain": [
              "<PIL.JpegImagePlugin.JpegImageFile image mode=RGB size=128x72 at 0x7F3DF220A9E8>"
            ]
          },
          "metadata": {
            "tags": []
          },
          "execution_count": 13
        }
      ]
    },
    {
      "cell_type": "markdown",
      "metadata": {
        "id": "tejAItcoPqj2"
      },
      "source": [
        "## Spilit images into train, val and test directories"
      ]
    },
    {
      "cell_type": "code",
      "metadata": {
        "id": "-ffO9dpufiqF",
        "colab": {
          "base_uri": "https://localhost:8080/"
        },
        "outputId": "408971d1-1f64-4096-95af-33d9f22b79d8"
      },
      "source": [
        "!pip3 install split-folders tqdm &> /dev/null\n",
        "import splitfolders\n",
        "directory = data_dir.joinpath('train')\n",
        "splitfolders.ratio(directory, output=\"data\", ratio=(.85, .15))"
      ],
      "execution_count": null,
      "outputs": [
        {
          "output_type": "stream",
          "text": [
            "Copying files: 5508 files [00:00, 7051.16 files/s]\n"
          ],
          "name": "stderr"
        }
      ]
    },
    {
      "cell_type": "markdown",
      "metadata": {
        "id": "CYuJ0kjQaNip"
      },
      "source": [
        "## Creating the base model and add some extra layers to adjust to our model"
      ]
    },
    {
      "cell_type": "code",
      "metadata": {
        "id": "6rXedbynahYd"
      },
      "source": [
        "# IMG_SIZE = (160, 160) # (img_height, img_width)\n",
        "IMG_SIZE = (224, 224) # (img_height, img_width)\n",
        "IMG_SHAPE = IMG_SIZE + (3,)\n",
        "# base_model = tf.keras.applications.MobileNetV2(input_shape=IMG_SHAPE,\n",
        "#                                                include_top=False,\n",
        "#                                                weights='imagenet',\n",
        "#                                                )\n",
        "\n",
        "base_model = tf.keras.applications.InceptionResNetV2(input_shape=IMG_SHAPE,\n",
        "                                               include_top=False,\n",
        "                                               weights='imagenet',\n",
        "                                               )"
      ],
      "execution_count": null,
      "outputs": []
    },
    {
      "cell_type": "code",
      "metadata": {
        "id": "QEZBjEpBaPPD"
      },
      "source": [
        "x = base_model.output\n",
        "x = tf.keras.layers.GlobalAveragePooling2D()(x)\n",
        "x = tf.keras.layers.Dense(1024,activation='relu')(x)\n",
        "x = tf.keras.layers.Dropout(0.3)(x)\n",
        "x = tf.keras.layers.Dense(1024,activation='relu')(x)\n",
        "x = tf.keras.layers.Dropout(0.3)(x)\n",
        "x = tf.keras.layers.Dense(512,activation='relu')(x)\n",
        "x = tf.keras.layers.Dropout(0.3)(x)\n",
        "preds = tf.keras.layers.Dense(35,activation='softmax')(x)\n",
        "model = tf.keras.models.Model(inputs=base_model.input,outputs=preds)"
      ],
      "execution_count": null,
      "outputs": []
    },
    {
      "cell_type": "markdown",
      "metadata": {
        "id": "nM8rsOIAR6yW"
      },
      "source": [
        "## Creating training and validation set"
      ]
    },
    {
      "cell_type": "code",
      "metadata": {
        "id": "TZAr20oAZ2jv",
        "colab": {
          "base_uri": "https://localhost:8080/"
        },
        "outputId": "0b34d6e5-8279-43e3-9d09-ca6339f08072"
      },
      "source": [
        "BATCH_SIZE = 6\n",
        "\n",
        "# preprocess_input = tf.keras.applications.mobilenet_v2.preprocess_input\n",
        "preprocess_input = tf.keras.applications.inception_resnet_v2.preprocess_input\n",
        "train_datagen = tf.keras.preprocessing.image.ImageDataGenerator(#rescale = 1./255,\n",
        "                                                                rotation_range=30,\n",
        "                                                                width_shift_range=0.2,\n",
        "                                                                height_shift_range=0.2,\n",
        "                                                                shear_range = 0.2,\n",
        "                                                                zoom_range = 0.2,\n",
        "                                                                horizontal_flip = True,\n",
        "                                                                vertical_flip = True,\n",
        "                                                                preprocessing_function=preprocess_input,\n",
        "                                                                )\n",
        "\n",
        "# valid_datagen = tf.keras.preprocessing.image.ImageDataGenerator(rescale = 1./255,\n",
        "#                                                                preprocessing_function=preprocess_input,\n",
        "#                                                                )\n",
        "# validation and test images will be similar\n",
        "\n",
        "test_datagen = tf.keras.preprocessing.image.ImageDataGenerator(#rescale = 1./255,\n",
        "                                                               preprocessing_function=preprocess_input,\n",
        "                                                               )\n",
        "\n",
        "train_generator = train_datagen.flow_from_directory('data/train',\n",
        "                                                    target_size=IMG_SIZE,\n",
        "                                                    # color_mode='rgb',\n",
        "                                                    batch_size=BATCH_SIZE,\n",
        "                                                    class_mode='categorical',\n",
        "                                                    shuffle=True,\n",
        "                                                    )\n",
        "\n",
        "validation_generator = test_datagen.flow_from_directory('data/val',\n",
        "                                                        target_size=IMG_SIZE,\n",
        "                                                        # color_mode='rgb',\n",
        "                                                        batch_size=BATCH_SIZE,\n",
        "                                                        class_mode='categorical',\n",
        "                                                        shuffle=True,\n",
        "                                                        )\n",
        "\n",
        "test_generator = test_datagen.flow_from_dataframe(dataframe=df_test,\n",
        "                                                  directory=test_folder,\n",
        "                                                  x_col=\"image_id\",\n",
        "                                                  y_col=None,\n",
        "                                                  batch_size=1,\n",
        "                                                  shuffle=False,\n",
        "                                                  class_mode=None,\n",
        "                                                  target_size=IMG_SIZE,\n",
        "                                                  )"
      ],
      "execution_count": null,
      "outputs": [
        {
          "output_type": "stream",
          "text": [
            "Found 4668 images belonging to 35 classes.\n",
            "Found 840 images belonging to 35 classes.\n",
            "Found 2361 validated image filenames.\n"
          ],
          "name": "stdout"
        }
      ]
    },
    {
      "cell_type": "markdown",
      "metadata": {
        "id": "oisUHgTCiewe"
      },
      "source": [
        "## Training the model"
      ]
    },
    {
      "cell_type": "code",
      "metadata": {
        "id": "cSWGlbS4ii2c"
      },
      "source": [
        "# model.compile(optimizer=tf.keras.optimizers.SGD(learning_rate=0.001, momentum=0.9),loss='categorical_crossentropy',metrics=['accuracy'])\n",
        "# model.compile(optimizer=tf.keras.optimizers.Adam(learning_rate=0.001, epsilon=0.1), loss='categorical_crossentropy', metrics = ['accuracy'])"
      ],
      "execution_count": null,
      "outputs": []
    },
    {
      "cell_type": "code",
      "metadata": {
        "id": "nhQl627FivN8"
      },
      "source": [
        "STEP_SIZE_TRAIN = train_generator.n//train_generator.batch_size\n",
        "STEP_SIZE_VALID = validation_generator.n//validation_generator.batch_size\n",
        "EPOCHS = 100\n",
        "\n",
        "# Save the model according to the conditions  \n",
        "# checkpoint = tf.keras.callbacks.ModelCheckpoint(\"mobilenet_v2.h5\", monitor='val_accuracy', verbose=0, save_best_only=True, save_weights_only=False, mode='auto', save_freq='epoch')\n",
        "# early = tf.keras.callbacks.EarlyStopping(monitor='val_accuracy', min_delta=0, patience=10, verbose=0, mode='auto')\n",
        "\n",
        "# # Training the model\n",
        "# history = model.fit(train_generator,\n",
        "#                     steps_per_epoch=STEP_SIZE_TRAIN,\n",
        "#                     validation_data=validation_generator,\n",
        "#                     validation_steps=STEP_SIZE_VALID,\n",
        "#                     epochs=EPOCHS,\n",
        "#                     callbacks = [checkpoint, early],\n",
        "#                     )"
      ],
      "execution_count": null,
      "outputs": []
    },
    {
      "cell_type": "code",
      "metadata": {
        "id": "s6p2eD53n_y5"
      },
      "source": [
        "# acc = history.history['accuracy']\n",
        "# val_acc = history.history['val_accuracy']\n",
        "\n",
        "# loss = history.history['loss']\n",
        "# val_loss = history.history['val_loss']\n",
        "\n",
        "# plt.figure(figsize=(8, 8))\n",
        "# plt.subplot(2, 1, 1)\n",
        "# plt.plot(acc, label='Training Accuracy')\n",
        "# plt.plot(val_acc, label='Validation Accuracy')\n",
        "# plt.legend(loc='lower right')\n",
        "# plt.ylabel('Accuracy')\n",
        "# plt.ylim([min(plt.ylim()),1])\n",
        "# plt.title('Training and Validation Accuracy')\n",
        "\n",
        "# plt.subplot(2, 1, 2)\n",
        "# plt.plot(loss, label='Training Loss')\n",
        "# plt.plot(val_loss, label='Validation Loss')\n",
        "# plt.legend(loc='upper right')\n",
        "# plt.ylabel('Cross Entropy')\n",
        "# plt.ylim([0,1.0])\n",
        "# plt.title('Training and Validation Loss')\n",
        "# plt.xlabel('epoch')\n",
        "# plt.show()"
      ],
      "execution_count": null,
      "outputs": []
    },
    {
      "cell_type": "markdown",
      "metadata": {
        "id": "WD3uhlzYb6Sv"
      },
      "source": [
        "## Fine tuning"
      ]
    },
    {
      "cell_type": "code",
      "metadata": {
        "id": "UM-cr-69nrfN",
        "colab": {
          "base_uri": "https://localhost:8080/"
        },
        "outputId": "308380d7-8276-411e-91eb-dce946740c38"
      },
      "source": [
        "# Let's take a look to see how many layers are in the base model\n",
        "print(\"Number of layers in the base model: \", len(base_model.layers))"
      ],
      "execution_count": null,
      "outputs": [
        {
          "output_type": "stream",
          "text": [
            "Number of layers in the base model:  780\n"
          ],
          "name": "stdout"
        }
      ]
    },
    {
      "cell_type": "code",
      "metadata": {
        "id": "BOKUCJmXb620",
        "colab": {
          "base_uri": "https://localhost:8080/"
        },
        "outputId": "8abd12f5-9788-43e6-da1d-6fb3feea22a0"
      },
      "source": [
        "# base_model.trainable = True\n",
        "\n",
        "base_model.trainable = False\n",
        "\n",
        "# # Fine-tune from this layer onwards\n",
        "# fine_tune_at = 600\n",
        "\n",
        "# # Freeze all the layers before the `fine_tune_at` layer\n",
        "# for layer in base_model.layers[:fine_tune_at]:\n",
        "#   layer.trainable =  False\n",
        "\n",
        "model.compile(optimizer=tf.keras.optimizers.SGD(learning_rate=0.001, momentum=0.9),loss='categorical_crossentropy',metrics=['accuracy'])\n",
        "# model.compile(optimizer=tf.keras.optimizers.Adam(learning_rate=0.001, epsilon=0.1), loss='categorical_crossentropy', metrics = ['accuracy'])\n",
        "\n",
        "# model.summary()\n",
        "STEP_SIZE_TRAIN = train_generator.n//train_generator.batch_size\n",
        "STEP_SIZE_VALID = validation_generator.n//validation_generator.batch_size\n",
        "\n",
        "# Save the model according to the conditions  \n",
        "checkpoint = tf.keras.callbacks.ModelCheckpoint(\"inception_resnet_v2_pretrained_model.h5\", monitor='val_accuracy', verbose=0, save_best_only=True, save_weights_only=False, mode='auto', save_freq='epoch')\n",
        "early = tf.keras.callbacks.EarlyStopping(monitor='val_accuracy', min_delta=0, patience=10, verbose=0, mode='auto')\n",
        "\n",
        "# Training the model\n",
        "history = model.fit(train_generator,\n",
        "                    steps_per_epoch=STEP_SIZE_TRAIN,\n",
        "                    validation_data=validation_generator,\n",
        "                    validation_steps=STEP_SIZE_VALID,\n",
        "                    epochs=EPOCHS,\n",
        "                    callbacks = [checkpoint, early],\n",
        "                    )\n",
        "model.save('model.h5')"
      ],
      "execution_count": null,
      "outputs": [
        {
          "output_type": "stream",
          "text": [
            "Epoch 1/100\n",
            "778/778 [==============================] - 74s 95ms/step - loss: 3.4029 - accuracy: 0.0936 - val_loss: 3.2344 - val_accuracy: 0.1536\n",
            "Epoch 2/100\n",
            "778/778 [==============================] - 71s 91ms/step - loss: 3.2138 - accuracy: 0.1395 - val_loss: 3.0066 - val_accuracy: 0.2048\n",
            "Epoch 3/100\n",
            "778/778 [==============================] - 71s 91ms/step - loss: 3.1034 - accuracy: 0.1650 - val_loss: 2.9332 - val_accuracy: 0.2202\n",
            "Epoch 4/100\n",
            "778/778 [==============================] - 69s 89ms/step - loss: 3.0132 - accuracy: 0.1823 - val_loss: 2.8681 - val_accuracy: 0.2060\n",
            "Epoch 5/100\n",
            "778/778 [==============================] - 70s 91ms/step - loss: 2.9683 - accuracy: 0.1902 - val_loss: 2.7281 - val_accuracy: 0.2595\n",
            "Epoch 6/100\n",
            "778/778 [==============================] - 69s 89ms/step - loss: 2.9206 - accuracy: 0.2054 - val_loss: 2.7151 - val_accuracy: 0.2512\n",
            "Epoch 7/100\n",
            "778/778 [==============================] - 69s 89ms/step - loss: 2.8898 - accuracy: 0.2095 - val_loss: 2.7048 - val_accuracy: 0.2250\n",
            "Epoch 8/100\n",
            "778/778 [==============================] - 70s 90ms/step - loss: 2.8520 - accuracy: 0.2264 - val_loss: 2.6626 - val_accuracy: 0.2702\n",
            "Epoch 9/100\n",
            "778/778 [==============================] - 69s 89ms/step - loss: 2.8544 - accuracy: 0.2155 - val_loss: 2.6366 - val_accuracy: 0.2607\n",
            "Epoch 10/100\n",
            "778/778 [==============================] - 69s 89ms/step - loss: 2.8106 - accuracy: 0.2200 - val_loss: 2.6288 - val_accuracy: 0.2536\n",
            "Epoch 11/100\n",
            "778/778 [==============================] - 69s 89ms/step - loss: 2.8130 - accuracy: 0.2251 - val_loss: 2.6025 - val_accuracy: 0.2619\n",
            "Epoch 12/100\n",
            "778/778 [==============================] - 69s 88ms/step - loss: 2.7991 - accuracy: 0.2318 - val_loss: 2.5895 - val_accuracy: 0.2643\n",
            "Epoch 13/100\n",
            "778/778 [==============================] - 70s 90ms/step - loss: 2.7703 - accuracy: 0.2380 - val_loss: 2.6063 - val_accuracy: 0.2798\n",
            "Epoch 14/100\n",
            "778/778 [==============================] - 69s 89ms/step - loss: 2.7609 - accuracy: 0.2341 - val_loss: 2.5914 - val_accuracy: 0.2560\n",
            "Epoch 15/100\n",
            "778/778 [==============================] - 71s 91ms/step - loss: 2.7455 - accuracy: 0.2453 - val_loss: 2.5388 - val_accuracy: 0.2929\n",
            "Epoch 16/100\n",
            "778/778 [==============================] - 71s 91ms/step - loss: 2.7192 - accuracy: 0.2451 - val_loss: 2.5151 - val_accuracy: 0.3036\n",
            "Epoch 17/100\n",
            "778/778 [==============================] - 70s 90ms/step - loss: 2.6911 - accuracy: 0.2459 - val_loss: 2.5105 - val_accuracy: 0.3071\n",
            "Epoch 18/100\n",
            "778/778 [==============================] - 69s 89ms/step - loss: 2.6990 - accuracy: 0.2483 - val_loss: 2.5111 - val_accuracy: 0.2833\n",
            "Epoch 19/100\n",
            "778/778 [==============================] - 69s 89ms/step - loss: 2.6946 - accuracy: 0.2455 - val_loss: 2.4965 - val_accuracy: 0.2929\n",
            "Epoch 20/100\n",
            "778/778 [==============================] - 69s 88ms/step - loss: 2.6753 - accuracy: 0.2586 - val_loss: 2.4984 - val_accuracy: 0.2798\n",
            "Epoch 21/100\n",
            "778/778 [==============================] - 70s 90ms/step - loss: 2.6554 - accuracy: 0.2618 - val_loss: 2.4579 - val_accuracy: 0.3131\n",
            "Epoch 22/100\n",
            "778/778 [==============================] - 71s 91ms/step - loss: 2.6446 - accuracy: 0.2581 - val_loss: 2.4519 - val_accuracy: 0.3190\n",
            "Epoch 23/100\n",
            "778/778 [==============================] - 69s 89ms/step - loss: 2.6139 - accuracy: 0.2740 - val_loss: 2.4678 - val_accuracy: 0.3095\n",
            "Epoch 24/100\n",
            "778/778 [==============================] - 69s 89ms/step - loss: 2.6352 - accuracy: 0.2704 - val_loss: 2.4785 - val_accuracy: 0.3155\n",
            "Epoch 25/100\n",
            "778/778 [==============================] - 70s 90ms/step - loss: 2.6012 - accuracy: 0.2704 - val_loss: 2.4146 - val_accuracy: 0.3202\n",
            "Epoch 26/100\n",
            "778/778 [==============================] - 69s 89ms/step - loss: 2.6224 - accuracy: 0.2719 - val_loss: 2.4253 - val_accuracy: 0.3179\n",
            "Epoch 27/100\n",
            "778/778 [==============================] - 69s 88ms/step - loss: 2.5911 - accuracy: 0.2879 - val_loss: 2.4397 - val_accuracy: 0.2857\n",
            "Epoch 28/100\n",
            "778/778 [==============================] - 69s 89ms/step - loss: 2.5816 - accuracy: 0.2791 - val_loss: 2.4245 - val_accuracy: 0.3107\n",
            "Epoch 29/100\n",
            "778/778 [==============================] - 69s 89ms/step - loss: 2.5701 - accuracy: 0.2727 - val_loss: 2.3982 - val_accuracy: 0.3190\n",
            "Epoch 30/100\n",
            "778/778 [==============================] - 69s 89ms/step - loss: 2.5556 - accuracy: 0.2770 - val_loss: 2.4260 - val_accuracy: 0.3202\n",
            "Epoch 31/100\n",
            "778/778 [==============================] - 69s 89ms/step - loss: 2.5419 - accuracy: 0.2894 - val_loss: 2.4242 - val_accuracy: 0.3179\n",
            "Epoch 32/100\n",
            "778/778 [==============================] - 70s 90ms/step - loss: 2.5443 - accuracy: 0.2776 - val_loss: 2.4122 - val_accuracy: 0.3226\n",
            "Epoch 33/100\n",
            "778/778 [==============================] - 70s 90ms/step - loss: 2.5261 - accuracy: 0.2946 - val_loss: 2.4093 - val_accuracy: 0.3048\n",
            "Epoch 34/100\n",
            "778/778 [==============================] - 71s 91ms/step - loss: 2.5326 - accuracy: 0.2864 - val_loss: 2.3779 - val_accuracy: 0.3238\n",
            "Epoch 35/100\n",
            "778/778 [==============================] - 71s 91ms/step - loss: 2.5198 - accuracy: 0.2943 - val_loss: 2.3747 - val_accuracy: 0.3333\n",
            "Epoch 36/100\n",
            "778/778 [==============================] - 70s 90ms/step - loss: 2.5222 - accuracy: 0.2952 - val_loss: 2.3773 - val_accuracy: 0.3131\n",
            "Epoch 37/100\n",
            "778/778 [==============================] - 71s 91ms/step - loss: 2.4999 - accuracy: 0.2866 - val_loss: 2.4123 - val_accuracy: 0.3012\n",
            "Epoch 38/100\n",
            "778/778 [==============================] - 71s 91ms/step - loss: 2.5063 - accuracy: 0.2924 - val_loss: 2.4001 - val_accuracy: 0.3048\n",
            "Epoch 39/100\n",
            "778/778 [==============================] - 71s 91ms/step - loss: 2.4779 - accuracy: 0.3078 - val_loss: 2.3823 - val_accuracy: 0.3179\n",
            "Epoch 40/100\n",
            "778/778 [==============================] - 70s 90ms/step - loss: 2.4703 - accuracy: 0.3016 - val_loss: 2.3942 - val_accuracy: 0.3321\n",
            "Epoch 41/100\n",
            "778/778 [==============================] - 72s 92ms/step - loss: 2.4918 - accuracy: 0.2997 - val_loss: 2.3851 - val_accuracy: 0.3345\n",
            "Epoch 42/100\n",
            "778/778 [==============================] - 70s 90ms/step - loss: 2.4717 - accuracy: 0.3018 - val_loss: 2.3641 - val_accuracy: 0.3345\n",
            "Epoch 43/100\n",
            "778/778 [==============================] - 70s 90ms/step - loss: 2.4485 - accuracy: 0.3070 - val_loss: 2.3680 - val_accuracy: 0.3250\n",
            "Epoch 44/100\n",
            "778/778 [==============================] - 69s 89ms/step - loss: 2.4405 - accuracy: 0.3025 - val_loss: 2.4256 - val_accuracy: 0.3310\n",
            "Epoch 45/100\n",
            "778/778 [==============================] - 69s 89ms/step - loss: 2.4555 - accuracy: 0.3072 - val_loss: 2.3596 - val_accuracy: 0.3310\n",
            "Epoch 46/100\n",
            "778/778 [==============================] - 70s 90ms/step - loss: 2.4440 - accuracy: 0.3074 - val_loss: 2.3888 - val_accuracy: 0.3321\n",
            "Epoch 47/100\n",
            "778/778 [==============================] - 71s 92ms/step - loss: 2.4301 - accuracy: 0.3113 - val_loss: 2.3585 - val_accuracy: 0.3405\n",
            "Epoch 48/100\n",
            "778/778 [==============================] - 71s 91ms/step - loss: 2.4237 - accuracy: 0.3119 - val_loss: 2.3729 - val_accuracy: 0.3262\n",
            "Epoch 49/100\n",
            "778/778 [==============================] - 71s 92ms/step - loss: 2.4151 - accuracy: 0.3175 - val_loss: 2.3601 - val_accuracy: 0.3345\n",
            "Epoch 50/100\n",
            "778/778 [==============================] - 70s 90ms/step - loss: 2.4002 - accuracy: 0.3177 - val_loss: 2.3799 - val_accuracy: 0.3274\n",
            "Epoch 51/100\n",
            "778/778 [==============================] - 71s 91ms/step - loss: 2.4109 - accuracy: 0.3074 - val_loss: 2.3372 - val_accuracy: 0.3417\n",
            "Epoch 52/100\n",
            "778/778 [==============================] - 70s 90ms/step - loss: 2.4170 - accuracy: 0.3102 - val_loss: 2.3631 - val_accuracy: 0.3369\n",
            "Epoch 53/100\n",
            "778/778 [==============================] - 72s 92ms/step - loss: 2.4174 - accuracy: 0.3160 - val_loss: 2.3395 - val_accuracy: 0.3452\n",
            "Epoch 54/100\n",
            "778/778 [==============================] - 71s 91ms/step - loss: 2.4003 - accuracy: 0.3164 - val_loss: 2.3961 - val_accuracy: 0.3238\n",
            "Epoch 55/100\n",
            "778/778 [==============================] - 72s 92ms/step - loss: 2.3849 - accuracy: 0.3207 - val_loss: 2.3615 - val_accuracy: 0.3357\n",
            "Epoch 56/100\n",
            "778/778 [==============================] - 72s 92ms/step - loss: 2.3718 - accuracy: 0.3175 - val_loss: 2.3490 - val_accuracy: 0.3357\n",
            "Epoch 57/100\n",
            "778/778 [==============================] - 74s 95ms/step - loss: 2.3735 - accuracy: 0.3186 - val_loss: 2.3345 - val_accuracy: 0.3500\n",
            "Epoch 58/100\n",
            "778/778 [==============================] - 72s 93ms/step - loss: 2.3528 - accuracy: 0.3233 - val_loss: 2.3821 - val_accuracy: 0.3429\n",
            "Epoch 59/100\n",
            "778/778 [==============================] - 72s 93ms/step - loss: 2.3867 - accuracy: 0.3171 - val_loss: 2.3675 - val_accuracy: 0.3286\n",
            "Epoch 60/100\n",
            "778/778 [==============================] - 73s 93ms/step - loss: 2.3708 - accuracy: 0.3252 - val_loss: 2.3439 - val_accuracy: 0.3214\n",
            "Epoch 61/100\n",
            "778/778 [==============================] - 75s 96ms/step - loss: 2.3362 - accuracy: 0.3297 - val_loss: 2.3623 - val_accuracy: 0.3560\n",
            "Epoch 62/100\n",
            "778/778 [==============================] - 73s 93ms/step - loss: 2.3429 - accuracy: 0.3295 - val_loss: 2.3224 - val_accuracy: 0.3429\n",
            "Epoch 63/100\n",
            "778/778 [==============================] - 73s 94ms/step - loss: 2.3124 - accuracy: 0.3432 - val_loss: 2.3530 - val_accuracy: 0.3464\n",
            "Epoch 64/100\n",
            "778/778 [==============================] - 73s 93ms/step - loss: 2.3595 - accuracy: 0.3258 - val_loss: 2.3310 - val_accuracy: 0.3488\n",
            "Epoch 65/100\n",
            "778/778 [==============================] - 73s 93ms/step - loss: 2.3313 - accuracy: 0.3333 - val_loss: 2.3529 - val_accuracy: 0.3512\n",
            "Epoch 66/100\n",
            "778/778 [==============================] - 74s 95ms/step - loss: 2.3209 - accuracy: 0.3344 - val_loss: 2.3383 - val_accuracy: 0.3571\n",
            "Epoch 67/100\n",
            "778/778 [==============================] - 73s 94ms/step - loss: 2.3081 - accuracy: 0.3430 - val_loss: 2.3186 - val_accuracy: 0.3548\n",
            "Epoch 68/100\n",
            "778/778 [==============================] - 72s 93ms/step - loss: 2.2851 - accuracy: 0.3462 - val_loss: 2.3480 - val_accuracy: 0.3429\n",
            "Epoch 69/100\n",
            "778/778 [==============================] - 72s 93ms/step - loss: 2.3060 - accuracy: 0.3481 - val_loss: 2.3310 - val_accuracy: 0.3500\n",
            "Epoch 70/100\n",
            "778/778 [==============================] - 73s 94ms/step - loss: 2.3037 - accuracy: 0.3355 - val_loss: 2.3329 - val_accuracy: 0.3405\n",
            "Epoch 71/100\n",
            "778/778 [==============================] - 73s 94ms/step - loss: 2.2838 - accuracy: 0.3492 - val_loss: 2.3413 - val_accuracy: 0.3345\n",
            "Epoch 72/100\n",
            "778/778 [==============================] - 74s 95ms/step - loss: 2.2890 - accuracy: 0.3449 - val_loss: 2.3405 - val_accuracy: 0.3488\n",
            "Epoch 73/100\n",
            "778/778 [==============================] - 73s 94ms/step - loss: 2.2979 - accuracy: 0.3434 - val_loss: 2.3292 - val_accuracy: 0.3500\n",
            "Epoch 74/100\n",
            "778/778 [==============================] - 74s 95ms/step - loss: 2.2674 - accuracy: 0.3464 - val_loss: 2.3657 - val_accuracy: 0.3393\n",
            "Epoch 75/100\n",
            "778/778 [==============================] - 73s 94ms/step - loss: 2.2891 - accuracy: 0.3460 - val_loss: 2.3593 - val_accuracy: 0.3417\n",
            "Epoch 76/100\n",
            "778/778 [==============================] - 72s 92ms/step - loss: 2.2575 - accuracy: 0.3571 - val_loss: 2.3528 - val_accuracy: 0.3536\n"
          ],
          "name": "stdout"
        }
      ]
    },
    {
      "cell_type": "markdown",
      "metadata": {
        "id": "WujYHG-hIWIw"
      },
      "source": [
        "### Using pre-trained weights to train model"
      ]
    },
    {
      "cell_type": "code",
      "metadata": {
        "colab": {
          "base_uri": "https://localhost:8080/"
        },
        "id": "aLvgI8InIc8Y",
        "outputId": "aeff19c0-15bc-4190-c07f-1aff0b1f7346"
      },
      "source": [
        "base_model = tf.keras.applications.InceptionResNetV2(input_shape=IMG_SHAPE,\n",
        "                                               include_top=False,\n",
        "                                               weights=None,\n",
        "                                               )\n",
        "x = base_model.output\n",
        "x = tf.keras.layers.GlobalAveragePooling2D()(x)\n",
        "x = tf.keras.layers.Dense(1024,activation='relu')(x)\n",
        "x = tf.keras.layers.Dropout(0.3)(x)\n",
        "x = tf.keras.layers.Dense(1024,activation='relu')(x)\n",
        "x = tf.keras.layers.Dropout(0.3)(x)\n",
        "x = tf.keras.layers.Dense(512,activation='relu')(x)\n",
        "x = tf.keras.layers.Dropout(0.3)(x)\n",
        "preds = tf.keras.layers.Dense(35,activation='softmax')(x)\n",
        "model = tf.keras.models.Model(inputs=base_model.input,outputs=preds)\n",
        "model.load_weights(\"inception_resnet_v2_pretrained_model.h5\")\n",
        "\n",
        "base_model.trainable = True\n",
        "model.compile(optimizer=tf.keras.optimizers.SGD(learning_rate=0.0001, momentum=0.9),loss='categorical_crossentropy',metrics=['accuracy'])\n",
        "# model.compile(optimizer=tf.keras.optimizers.Adam(learning_rate=0.0001, epsilon=0.1), loss='categorical_crossentropy', metrics = ['accuracy'])\n",
        "\n",
        "# model.summary()\n",
        "STEP_SIZE_TRAIN = train_generator.n//train_generator.batch_size\n",
        "STEP_SIZE_VALID = validation_generator.n//validation_generator.batch_size\n",
        "\n",
        "# Save the model according to the conditions  \n",
        "checkpoint = tf.keras.callbacks.ModelCheckpoint(\"inception_resnet_v2_new_model.h5\", monitor='val_accuracy', verbose=0, save_best_only=True, save_weights_only=False, mode='auto', save_freq='epoch')\n",
        "early = tf.keras.callbacks.EarlyStopping(monitor='val_accuracy', min_delta=0, patience=10, verbose=0, mode='auto')\n",
        "\n",
        "# Training the model\n",
        "history = model.fit(train_generator,\n",
        "                    steps_per_epoch=STEP_SIZE_TRAIN,\n",
        "                    validation_data=validation_generator,\n",
        "                    validation_steps=STEP_SIZE_VALID,\n",
        "                    epochs=EPOCHS,\n",
        "                    callbacks = [checkpoint, early],\n",
        "                    )\n",
        "model.save('model_new.h5')"
      ],
      "execution_count": null,
      "outputs": [
        {
          "output_type": "stream",
          "text": [
            "Epoch 1/100\n",
            "778/778 [==============================] - 134s 173ms/step - loss: 2.7940 - accuracy: 0.2361 - val_loss: 6.4513 - val_accuracy: 0.3048\n",
            "Epoch 2/100\n",
            "778/778 [==============================] - 131s 169ms/step - loss: 2.5824 - accuracy: 0.2798 - val_loss: 4.9041 - val_accuracy: 0.3298\n",
            "Epoch 3/100\n",
            "778/778 [==============================] - 131s 169ms/step - loss: 2.4630 - accuracy: 0.3063 - val_loss: 6.6216 - val_accuracy: 0.3357\n",
            "Epoch 4/100\n",
            "778/778 [==============================] - 131s 169ms/step - loss: 2.3867 - accuracy: 0.3196 - val_loss: 5.2788 - val_accuracy: 0.3417\n",
            "Epoch 5/100\n",
            "778/778 [==============================] - 132s 169ms/step - loss: 2.3573 - accuracy: 0.3284 - val_loss: 2.7807 - val_accuracy: 0.3595\n",
            "Epoch 6/100\n",
            "778/778 [==============================] - 132s 169ms/step - loss: 2.3040 - accuracy: 0.3436 - val_loss: 2.9064 - val_accuracy: 0.3667\n",
            "Epoch 7/100\n",
            "778/778 [==============================] - 132s 169ms/step - loss: 2.2481 - accuracy: 0.3515 - val_loss: 3.0578 - val_accuracy: 0.3750\n",
            "Epoch 8/100\n",
            "778/778 [==============================] - 131s 169ms/step - loss: 2.2252 - accuracy: 0.3672 - val_loss: 2.4509 - val_accuracy: 0.3810\n",
            "Epoch 9/100\n",
            "778/778 [==============================] - 131s 169ms/step - loss: 2.1737 - accuracy: 0.3747 - val_loss: 2.4269 - val_accuracy: 0.3833\n",
            "Epoch 10/100\n",
            "778/778 [==============================] - 131s 169ms/step - loss: 2.1431 - accuracy: 0.3811 - val_loss: 2.3477 - val_accuracy: 0.4024\n",
            "Epoch 11/100\n",
            "778/778 [==============================] - 129s 166ms/step - loss: 2.1227 - accuracy: 0.3865 - val_loss: 2.5764 - val_accuracy: 0.3964\n",
            "Epoch 12/100\n",
            "778/778 [==============================] - 129s 166ms/step - loss: 2.0965 - accuracy: 0.3802 - val_loss: 3.8348 - val_accuracy: 0.3917\n",
            "Epoch 13/100\n",
            "778/778 [==============================] - 129s 166ms/step - loss: 2.0706 - accuracy: 0.3948 - val_loss: 3.1992 - val_accuracy: 0.3905\n",
            "Epoch 14/100\n",
            "778/778 [==============================] - 129s 166ms/step - loss: 2.0484 - accuracy: 0.4085 - val_loss: 3.3371 - val_accuracy: 0.4000\n",
            "Epoch 15/100\n",
            "778/778 [==============================] - 129s 166ms/step - loss: 2.0235 - accuracy: 0.4057 - val_loss: 3.6621 - val_accuracy: 0.3929\n",
            "Epoch 16/100\n",
            "778/778 [==============================] - 129s 165ms/step - loss: 1.9906 - accuracy: 0.4190 - val_loss: 3.6438 - val_accuracy: 0.3940\n",
            "Epoch 17/100\n",
            "778/778 [==============================] - 130s 167ms/step - loss: 1.9579 - accuracy: 0.4263 - val_loss: 3.8208 - val_accuracy: 0.4012\n",
            "Epoch 18/100\n",
            "778/778 [==============================] - 129s 166ms/step - loss: 1.9269 - accuracy: 0.4323 - val_loss: 3.1594 - val_accuracy: 0.4000\n",
            "Epoch 19/100\n",
            "778/778 [==============================] - 132s 169ms/step - loss: 1.9214 - accuracy: 0.4317 - val_loss: 2.9930 - val_accuracy: 0.4083\n",
            "Epoch 20/100\n",
            "778/778 [==============================] - 131s 169ms/step - loss: 1.9010 - accuracy: 0.4385 - val_loss: 2.5888 - val_accuracy: 0.4095\n",
            "Epoch 21/100\n",
            "778/778 [==============================] - 129s 166ms/step - loss: 1.8857 - accuracy: 0.4492 - val_loss: 3.8033 - val_accuracy: 0.4036\n",
            "Epoch 22/100\n",
            "778/778 [==============================] - 129s 165ms/step - loss: 1.8695 - accuracy: 0.4475 - val_loss: 4.4797 - val_accuracy: 0.3976\n",
            "Epoch 23/100\n",
            "778/778 [==============================] - 133s 171ms/step - loss: 1.8217 - accuracy: 0.4563 - val_loss: 3.9087 - val_accuracy: 0.4167\n",
            "Epoch 24/100\n",
            "778/778 [==============================] - 129s 166ms/step - loss: 1.8099 - accuracy: 0.4593 - val_loss: 3.5705 - val_accuracy: 0.4024\n",
            "Epoch 25/100\n",
            "778/778 [==============================] - 132s 169ms/step - loss: 1.7703 - accuracy: 0.4681 - val_loss: 3.2369 - val_accuracy: 0.4179\n",
            "Epoch 26/100\n",
            "778/778 [==============================] - 129s 166ms/step - loss: 1.7527 - accuracy: 0.4856 - val_loss: 3.8350 - val_accuracy: 0.4107\n",
            "Epoch 27/100\n",
            "778/778 [==============================] - 132s 169ms/step - loss: 1.7317 - accuracy: 0.4820 - val_loss: 3.6672 - val_accuracy: 0.4274\n",
            "Epoch 28/100\n",
            "778/778 [==============================] - 129s 166ms/step - loss: 1.6957 - accuracy: 0.4951 - val_loss: 4.1462 - val_accuracy: 0.4119\n",
            "Epoch 29/100\n",
            "778/778 [==============================] - 129s 166ms/step - loss: 1.7179 - accuracy: 0.4880 - val_loss: 4.4096 - val_accuracy: 0.4238\n",
            "Epoch 30/100\n",
            "778/778 [==============================] - 129s 166ms/step - loss: 1.6738 - accuracy: 0.5024 - val_loss: 4.9276 - val_accuracy: 0.4190\n",
            "Epoch 31/100\n",
            "778/778 [==============================] - 129s 166ms/step - loss: 1.6724 - accuracy: 0.4976 - val_loss: 4.4700 - val_accuracy: 0.4071\n",
            "Epoch 32/100\n",
            "778/778 [==============================] - 129s 166ms/step - loss: 1.5967 - accuracy: 0.5167 - val_loss: 5.0577 - val_accuracy: 0.4071\n",
            "Epoch 33/100\n",
            "778/778 [==============================] - 129s 166ms/step - loss: 1.6308 - accuracy: 0.5084 - val_loss: 4.4877 - val_accuracy: 0.3929\n",
            "Epoch 34/100\n",
            "778/778 [==============================] - 129s 166ms/step - loss: 1.6075 - accuracy: 0.5167 - val_loss: 4.7491 - val_accuracy: 0.4179\n",
            "Epoch 35/100\n",
            "778/778 [==============================] - 129s 166ms/step - loss: 1.5814 - accuracy: 0.5178 - val_loss: 5.9803 - val_accuracy: 0.4095\n",
            "Epoch 36/100\n",
            "778/778 [==============================] - 129s 166ms/step - loss: 1.5556 - accuracy: 0.5315 - val_loss: 6.1616 - val_accuracy: 0.4048\n",
            "Epoch 37/100\n",
            "778/778 [==============================] - 129s 166ms/step - loss: 1.5555 - accuracy: 0.5360 - val_loss: 4.6632 - val_accuracy: 0.4119\n"
          ],
          "name": "stdout"
        }
      ]
    },
    {
      "cell_type": "code",
      "metadata": {
        "id": "A2ZmXnYynSG2",
        "colab": {
          "base_uri": "https://localhost:8080/",
          "height": 513
        },
        "outputId": "0603ade9-faf1-4364-d8fe-538f1cc04535"
      },
      "source": [
        "acc = history.history['accuracy']\n",
        "val_acc = history.history['val_accuracy']\n",
        "\n",
        "loss = history.history['loss']\n",
        "val_loss = history.history['val_loss']\n",
        "\n",
        "plt.figure(figsize=(8, 8))\n",
        "plt.subplot(2, 1, 1)\n",
        "plt.plot(acc, label='Training Accuracy')\n",
        "plt.plot(val_acc, label='Validation Accuracy')\n",
        "plt.legend(loc='lower right')\n",
        "plt.ylabel('Accuracy')\n",
        "plt.ylim([min(plt.ylim()),1])\n",
        "plt.title('Training and Validation Accuracy')\n",
        "\n",
        "plt.subplot(2, 1, 2)\n",
        "plt.plot(loss, label='Training Loss')\n",
        "plt.plot(val_loss, label='Validation Loss')\n",
        "plt.legend(loc='upper right')\n",
        "plt.ylabel('Cross Entropy')\n",
        "plt.ylim([0,1.0])\n",
        "plt.title('Training and Validation Loss')\n",
        "plt.xlabel('epoch')\n",
        "plt.show()"
      ],
      "execution_count": null,
      "outputs": [
        {
          "output_type": "display_data",
          "data": {
            "image/png": "[encoded data removed]",
            "text/plain": [
              "<Figure size 576x576 with 2 Axes>"
            ]
          },
          "metadata": {
            "tags": [],
            "needs_background": "light"
          }
        }
      ]
    },
    {
      "cell_type": "markdown",
      "metadata": {
        "id": "VFkcNNiTCj7c"
      },
      "source": [
        "## Predicting on Test Data"
      ]
    },
    {
      "cell_type": "code",
      "metadata": {
        "id": "vuYBLVBN_hOa",
        "colab": {
          "base_uri": "https://localhost:8080/"
        },
        "outputId": "247c5587-aa16-4824-f016-7ae82518c01b"
      },
      "source": [
        "y_pred = model.predict_generator(test_generator,verbose=1)"
      ],
      "execution_count": null,
      "outputs": [
        {
          "output_type": "stream",
          "text": [
            "   1/2361 [..............................] - ETA: 0sWARNING:tensorflow:Callbacks method `on_predict_batch_end` is slow compared to the batch time (batch time: 0.0166s vs `on_predict_batch_end` time: 0.0276s). Check your callbacks.\n",
            "2361/2361 [==============================] - 56s 24ms/step\n"
          ],
          "name": "stdout"
        }
      ]
    },
    {
      "cell_type": "code",
      "metadata": {
        "id": "rYV9DqbSD245"
      },
      "source": [
        "y_pred.shape"
      ],
      "execution_count": null,
      "outputs": []
    },
    {
      "cell_type": "code",
      "metadata": {
        "id": "h58Bd-XtEr4M"
      },
      "source": [
        "y_pred_2 = np.argmax(y_pred,axis=1)"
      ],
      "execution_count": null,
      "outputs": []
    },
    {
      "cell_type": "code",
      "metadata": {
        "id": "6iysRJvrEswA"
      },
      "source": [
        "labels = (train_generator.class_indices)\n",
        "labels = dict((v,k) for k,v in labels.items())\n",
        "predictions = [labels[k] for k in y_pred_2]"
      ],
      "execution_count": null,
      "outputs": []
    },
    {
      "cell_type": "code",
      "metadata": {
        "id": "7qdPd4wEE0kO"
      },
      "source": [
        "test_name = df_test['image_id'].values"
      ],
      "execution_count": null,
      "outputs": []
    },
    {
      "cell_type": "code",
      "metadata": {
        "id": "WrzGfLCmObLf"
      },
      "source": [
        "sstring = '.jpg'\n",
        "for index, name in enumerate(test_name):\n",
        "        test_name[index] = test_name[index].replace(sstring, '')"
      ],
      "execution_count": null,
      "outputs": []
    },
    {
      "cell_type": "code",
      "metadata": {
        "id": "fbDOIIKyFX5p"
      },
      "source": [
        "data = pd.DataFrame((zip(test_name,predictions)),columns=['image_id','breed'])"
      ],
      "execution_count": null,
      "outputs": []
    },
    {
      "cell_type": "code",
      "metadata": {
        "id": "0EkPyTLoFdkQ"
      },
      "source": [
        "data.to_csv('output.csv',index=False)"
      ],
      "execution_count": null,
      "outputs": []
    },
    {
      "cell_type": "code",
      "metadata": {
        "id": "Txm__jRVMgUf",
        "colab": {
          "base_uri": "https://localhost:8080/",
          "height": 206
        },
        "outputId": "02896694-47d6-4fa7-a53c-ac619f81e9c7"
      },
      "source": [
        "df_demo = pd.read_csv('output.csv')\n",
        "df_demo.head()"
      ],
      "execution_count": null,
      "outputs": [
        {
          "output_type": "execute_result",
          "data": {
            "text/html": [
              "<div>\n",
              "<style scoped>\n",
              "    .dataframe tbody tr th:only-of-type {\n",
              "        vertical-align: middle;\n",
              "    }\n",
              "\n",
              "    .dataframe tbody tr th {\n",
              "        vertical-align: top;\n",
              "    }\n",
              "\n",
              "    .dataframe thead th {\n",
              "        text-align: right;\n",
              "    }\n",
              "</style>\n",
              "<table border=\"1\" class=\"dataframe\">\n",
              "  <thead>\n",
              "    <tr style=\"text-align: right;\">\n",
              "      <th></th>\n",
              "      <th>image_id</th>\n",
              "      <th>breed</th>\n",
              "    </tr>\n",
              "  </thead>\n",
              "  <tbody>\n",
              "    <tr>\n",
              "      <th>0</th>\n",
              "      <td>7ede553357</td>\n",
              "      <td>pantherophis-spiloides</td>\n",
              "    </tr>\n",
              "    <tr>\n",
              "      <th>1</th>\n",
              "      <td>3500b219e4</td>\n",
              "      <td>nerodia-sipedon</td>\n",
              "    </tr>\n",
              "    <tr>\n",
              "      <th>2</th>\n",
              "      <td>d43a78d6d9</td>\n",
              "      <td>pituophis-catenifer</td>\n",
              "    </tr>\n",
              "    <tr>\n",
              "      <th>3</th>\n",
              "      <td>1f36f26994</td>\n",
              "      <td>lampropeltis-triangulum</td>\n",
              "    </tr>\n",
              "    <tr>\n",
              "      <th>4</th>\n",
              "      <td>8cb85fc58e</td>\n",
              "      <td>pantherophis-alleghaniensis</td>\n",
              "    </tr>\n",
              "  </tbody>\n",
              "</table>\n",
              "</div>"
            ],
            "text/plain": [
              "     image_id                        breed\n",
              "0  7ede553357       pantherophis-spiloides\n",
              "1  3500b219e4              nerodia-sipedon\n",
              "2  d43a78d6d9          pituophis-catenifer\n",
              "3  1f36f26994      lampropeltis-triangulum\n",
              "4  8cb85fc58e  pantherophis-alleghaniensis"
            ]
          },
          "metadata": {
            "tags": []
          },
          "execution_count": 40
        }
      ]
    }
  ]
}